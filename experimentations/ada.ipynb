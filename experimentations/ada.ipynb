{
 "cells": [
  {
   "cell_type": "markdown",
   "id": "1bf64ff7",
   "metadata": {},
   "source": [
    "### IMPORTS"
   ]
  },
  {
   "cell_type": "code",
   "execution_count": 1,
   "id": "fd2c952f",
   "metadata": {},
   "outputs": [
    {
     "name": "stderr",
     "output_type": "stream",
     "text": [
      "2025-07-05 22:45:14.134133: I external/local_xla/xla/tsl/cuda/cudart_stub.cc:32] Could not find cuda drivers on your machine, GPU will not be used.\n",
      "2025-07-05 22:45:14.138548: I external/local_xla/xla/tsl/cuda/cudart_stub.cc:32] Could not find cuda drivers on your machine, GPU will not be used.\n",
      "2025-07-05 22:45:14.152396: E external/local_xla/xla/stream_executor/cuda/cuda_fft.cc:467] Unable to register cuFFT factory: Attempting to register factory for plugin cuFFT when one has already been registered\n",
      "WARNING: All log messages before absl::InitializeLog() is called are written to STDERR\n",
      "E0000 00:00:1751735714.174533  689860 cuda_dnn.cc:8579] Unable to register cuDNN factory: Attempting to register factory for plugin cuDNN when one has already been registered\n",
      "E0000 00:00:1751735714.180779  689860 cuda_blas.cc:1407] Unable to register cuBLAS factory: Attempting to register factory for plugin cuBLAS when one has already been registered\n",
      "W0000 00:00:1751735714.198685  689860 computation_placer.cc:177] computation placer already registered. Please check linkage and avoid linking the same target more than once.\n",
      "W0000 00:00:1751735714.198709  689860 computation_placer.cc:177] computation placer already registered. Please check linkage and avoid linking the same target more than once.\n",
      "W0000 00:00:1751735714.198711  689860 computation_placer.cc:177] computation placer already registered. Please check linkage and avoid linking the same target more than once.\n",
      "W0000 00:00:1751735714.198712  689860 computation_placer.cc:177] computation placer already registered. Please check linkage and avoid linking the same target more than once.\n",
      "2025-07-05 22:45:14.204503: I tensorflow/core/platform/cpu_feature_guard.cc:210] This TensorFlow binary is optimized to use available CPU instructions in performance-critical operations.\n",
      "To enable the following instructions: AVX2 FMA, in other operations, rebuild TensorFlow with the appropriate compiler flags.\n"
     ]
    }
   ],
   "source": [
    "from dotenv import load_dotenv\n",
    "import os\n",
    "\n",
    "load_dotenv()\n",
    "root = os.environ.get(\"ROOT_PATH\", \".\")\n",
    "os.chdir(root)\n",
    "from datetime import datetime, timedelta\n",
    "from data_preprocessing.fetch_data import fetch_ohlcv_to_df\n",
    "from data_preprocessing.training_helpers import evaluate_token_strategy\n",
    "from data_preprocessing.training_helpers import create_merged_feature\n",
    "import tensorflow as tf\n",
    "from data_preprocessing.training_helpers import create_all_features\n",
    "from tensorflow.keras import layers, models, optimizers, regularizers\n",
    "from tensorflow.keras.utils import to_categorical\n",
    "import warnings\n",
    "from sklearn.decomposition import PCA\n",
    "from scikeras.wrappers import KerasClassifier\n",
    "from sklearn.pipeline import Pipeline\n",
    "from tensorflow.keras.callbacks import EarlyStopping\n",
    "\n",
    "warnings.filterwarnings(\"ignore\")"
   ]
  },
  {
   "cell_type": "markdown",
   "id": "fcacb8fd",
   "metadata": {},
   "source": [
    "### CONSTATNTS"
   ]
  },
  {
   "cell_type": "code",
   "execution_count": 2,
   "id": "5636d133",
   "metadata": {},
   "outputs": [],
   "source": [
    "EXCHANGE = \"binance\"\n",
    "TRAIN_START_DATE = \"2024-07-01 00:00:00\"\n",
    "TRAIN_END_DATE = \"2025-02-15 00:01:00\"\n",
    "SET_OVERLAPPING_DAYS = 20\n",
    "VAL_START_DATE = (datetime.strptime(TRAIN_END_DATE, \"%Y-%m-%d %H:%M:%S\") - timedelta(days=SET_OVERLAPPING_DAYS)).strftime(\"%Y-%m-%d %H:%M:%S\")\n",
    "VAL_END_DATE = \"2025-03-15 00:01:00\"\n",
    "TEST_START_DATE = (datetime.strptime(VAL_END_DATE, \"%Y-%m-%d %H:%M:%S\") - timedelta(days=SET_OVERLAPPING_DAYS)).strftime(\"%Y-%m-%d %H:%M:%S\")\n",
    "TEST_END_DATE = \"2025-06-10 00:01:00\"\n",
    "ALL_START_DATE = \"2024-10-20 00:00:00\"\n",
    "ALL_END_DATE = \"2025-06-10 00:01:00\"\n",
    "LONG_PROBA = 0.6\n",
    "SHORT_PROBA = 0.6\n",
    "TAKE_PROFIT = 2\n",
    "STOP_LOSS = 0.8\n",
    "TAKE_PROFIT_PCT = TAKE_PROFIT/100\n",
    "STOP_LOSS_PCT = STOP_LOSS / 100\n",
    "CLASS_WEIGHT = { 0:0.3, 1: 1, 2:1 }"
   ]
  },
  {
   "cell_type": "markdown",
   "id": "64756412",
   "metadata": {},
   "source": [
    "### LOAD DATA"
   ]
  },
  {
   "cell_type": "code",
   "execution_count": 3,
   "id": "28d4cdd7",
   "metadata": {},
   "outputs": [],
   "source": [
    "df_train_ada = await fetch_ohlcv_to_df(\"ADA/USDT\", TRAIN_START_DATE, TRAIN_END_DATE)\n",
    "df_val_ada = await fetch_ohlcv_to_df(\"ADA/USDT\", VAL_START_DATE, VAL_END_DATE)\n",
    "df_test_ada = await fetch_ohlcv_to_df(\"ADA/USDT\", TEST_START_DATE, TEST_END_DATE)\n",
    "\n",
    "df_train_btc = await fetch_ohlcv_to_df(\"BTC/USDT\", TRAIN_START_DATE, TRAIN_END_DATE)\n",
    "df_val_btc = await fetch_ohlcv_to_df(\"BTC/USDT\", VAL_START_DATE, VAL_END_DATE)\n",
    "df_test_btc = await fetch_ohlcv_to_df(\"BTC/USDT\", TEST_START_DATE, TEST_END_DATE)"
   ]
  },
  {
   "cell_type": "markdown",
   "id": "7efa9c5c",
   "metadata": {},
   "source": [
    "### PREPROCESS DATA"
   ]
  },
  {
   "cell_type": "code",
   "execution_count": 4,
   "id": "7d08902d",
   "metadata": {},
   "outputs": [],
   "source": [
    "train_data_btc = create_all_features(df=df_train_btc, token=\"btc\", target_type=\"pct\", tp=2, sl=0.8, max_bars=60*6, atr_period=60*6)\n",
    "val_data_btc = create_all_features(df=df_val_btc, token=\"btc\", target_type=\"pct\", tp=2, sl=0.8, max_bars=60*6, atr_period=60*6)\n",
    "test_data_btc = create_all_features(df=df_test_btc, token=\"btc\", target_type=\"pct\", tp=2, sl=0.8, max_bars=60*6, atr_period=60*6)\n",
    "\n",
    "train_data_ada = create_all_features(df=df_train_ada, token=\"ada\", target_type=\"pct\", tp=2, sl=0.8, max_bars=60*6, atr_period=60*6)\n",
    "val_data_ada = create_all_features(df=df_val_ada, token=\"ada\", target_type=\"pct\", tp=2, sl=0.8, max_bars=60*6, atr_period=60*6)\n",
    "test_data_ada = create_all_features(df=df_test_ada, token=\"ada\", target_type=\"pct\", tp=2, sl=0.8, max_bars=60*6, atr_period=60*6)"
   ]
  },
  {
   "cell_type": "code",
   "execution_count": 5,
   "id": "f525f07c",
   "metadata": {},
   "outputs": [],
   "source": [
    "train_data = create_merged_feature(\n",
    "    main_feature_df=df_train_ada,\n",
    "    complementry_data_df=df_train_btc,\n",
    "    main_token_name=\"ada\",\n",
    "    complementry_token_name=\"btc\",\n",
    "    target_type=\"pct\",\n",
    "    tp=2,\n",
    "    sl=0.8,\n",
    "    max_bars=60 * 6,\n",
    "    atr_period=60 * 6,\n",
    ")\n",
    "\n",
    "val_data = create_merged_feature(\n",
    "    main_feature_df=df_val_ada,\n",
    "    complementry_data_df=df_val_btc,\n",
    "    main_token_name=\"ada\",\n",
    "    complementry_token_name=\"btc\",\n",
    "    target_type=\"pct\",\n",
    "    tp=2,\n",
    "    sl=0.8,\n",
    "    max_bars=60 * 6,\n",
    "    atr_period=60 * 6,\n",
    ")\n",
    "\n",
    "test_data = create_merged_feature(\n",
    "    main_feature_df=df_test_ada,\n",
    "    complementry_data_df=df_test_btc,\n",
    "    main_token_name=\"ada\",\n",
    "    complementry_token_name=\"btc\",\n",
    "    target_type=\"pct\",\n",
    "    tp=2,\n",
    "    sl=0.8,\n",
    "    max_bars=60 * 6,\n",
    "    atr_period=60 * 6,\n",
    ")"
   ]
  },
  {
   "cell_type": "code",
   "execution_count": 6,
   "id": "692b8b16",
   "metadata": {},
   "outputs": [],
   "source": [
    "target_y = \"y_combined_1h_2h_4h\"\n",
    "target_x = \"X_combined_1h_2h_4h\""
   ]
  },
  {
   "cell_type": "markdown",
   "id": "f89d376d",
   "metadata": {},
   "source": [
    "### DEFINE MODEL"
   ]
  },
  {
   "cell_type": "code",
   "execution_count": 7,
   "id": "585a8f11",
   "metadata": {},
   "outputs": [],
   "source": [
    "def get_model(input_shape, num_classes=3):\n",
    "    inputs = layers.Input(shape=input_shape, name=\"features\")\n",
    "    x = layers.BatchNormalization(name=\"batchnorm_input\")(inputs)\n",
    "    x = layers.Dense(\n",
    "        128, activation=\"relu\", kernel_regularizer=regularizers.l2(1e-4), name=\"dense_1\"\n",
    "    )(x)\n",
    "    x = layers.Dropout(0.3, name=\"dropout_1\")(x)\n",
    "    x = layers.Dense(\n",
    "        64, activation=\"relu\", kernel_regularizer=regularizers.l2(1e-4), name=\"dense_2\"\n",
    "    )(x)\n",
    "    x = layers.Dropout(0.3, name=\"dropout_2\")(x)\n",
    "    x = layers.Dense(\n",
    "        32, activation=\"relu\", kernel_regularizer=regularizers.l2(1e-4), name=\"dense_3\"\n",
    "    )(x)\n",
    "    x = layers.Dropout(0.2, name=\"dropout_3\")(x)\n",
    "    outputs = layers.Dense(num_classes, activation=\"softmax\", name=\"output\")(x)\n",
    "    model = models.Model(inputs=inputs, outputs=outputs, name=\"mlp_3class\")\n",
    "    model.compile(\n",
    "        optimizer=optimizers.Adam(learning_rate=0.003),\n",
    "        loss=\"categorical_crossentropy\",\n",
    "        metrics=[\"accuracy\"],\n",
    "    )\n",
    "    return model"
   ]
  },
  {
   "cell_type": "code",
   "execution_count": 8,
   "id": "94b29b25",
   "metadata": {},
   "outputs": [
    {
     "name": "stderr",
     "output_type": "stream",
     "text": [
      "E0000 00:00:1751735788.558026  689860 cuda_executor.cc:1228] INTERNAL: CUDA Runtime error: Failed call to cudaGetRuntimeVersion: Error loading CUDA libraries. GPU will not be used.: Error loading CUDA libraries. GPU will not be used.\n",
      "W0000 00:00:1751735788.559176  689860 gpu_device.cc:2341] Cannot dlopen some GPU libraries. Please make sure the missing libraries mentioned above are installed properly if you would like to use GPU. Follow the guide at https://www.tensorflow.org/install/gpu for how to download and setup the required libraries for your platform.\n",
      "Skipping registering GPU devices...\n"
     ]
    }
   ],
   "source": [
    "def create_model():\n",
    "    return get_model(input_shape=(250,), num_classes=3)\n",
    "\n",
    "clf = KerasClassifier(\n",
    "    model=create_model,\n",
    "    optimizer=\"adam\",\n",
    "    loss=\"categorical_crossentropy\",\n",
    "    metrics=[\"precision\"],\n",
    "    epochs=50,\n",
    "    batch_size=32,\n",
    "    verbose=0,\n",
    ")\n",
    "\n",
    "nn_pipeline = Pipeline([\n",
    "    ('pca', PCA(n_components=250)),\n",
    "    ('clf', clf),\n",
    "])\n",
    "\n",
    "nn_ada = get_model(input_shape=(train_data_btc[target_x].shape[1],), num_classes=3)\n",
    "nn_btc = get_model(input_shape=(train_data_btc[target_x].shape[1],), num_classes=3)\n",
    "\n",
    "es = EarlyStopping(\n",
    "    monitor=\"val_loss\",\n",
    "    patience=5,\n",
    "    restore_best_weights=True\n",
    ")\n"
   ]
  },
  {
   "cell_type": "markdown",
   "id": "d1e36ea4",
   "metadata": {},
   "source": [
    "### TRAIN MODEL ( EXPERIMENT )"
   ]
  },
  {
   "cell_type": "code",
   "execution_count": 9,
   "id": "0308e321",
   "metadata": {},
   "outputs": [
    {
     "ename": "ValueError",
     "evalue": "Pipeline.fit does not accept the callbacks parameter. You can pass parameters to specific steps of your pipeline using the stepname__parameter format, e.g. `Pipeline.fit(X, y, logisticregression__sample_weight=sample_weight)`.",
     "output_type": "error",
     "traceback": [
      "\u001b[31m---------------------------------------------------------------------------\u001b[39m",
      "\u001b[31mValueError\u001b[39m                                Traceback (most recent call last)",
      "\u001b[36mCell\u001b[39m\u001b[36m \u001b[39m\u001b[32mIn[9]\u001b[39m\u001b[32m, line 1\u001b[39m\n\u001b[32m----> \u001b[39m\u001b[32m1\u001b[39m \u001b[43mnn_pipeline\u001b[49m\u001b[43m.\u001b[49m\u001b[43mfit\u001b[49m\u001b[43m(\u001b[49m\n\u001b[32m      2\u001b[39m \u001b[43m    \u001b[49m\u001b[43mtrain_data\u001b[49m\u001b[43m[\u001b[49m\u001b[43mtarget_x\u001b[49m\u001b[43m]\u001b[49m\u001b[43m,\u001b[49m\n\u001b[32m      3\u001b[39m \u001b[43m    \u001b[49m\u001b[43mtrain_data\u001b[49m\u001b[43m[\u001b[49m\u001b[43mtarget_y\u001b[49m\u001b[43m]\u001b[49m\u001b[43m,\u001b[49m\n\u001b[32m      4\u001b[39m \u001b[43m    \u001b[49m\u001b[43mcallbacks\u001b[49m\u001b[43m=\u001b[49m\u001b[43m[\u001b[49m\u001b[43mes\u001b[49m\u001b[43m]\u001b[49m\u001b[43m,\u001b[49m\n\u001b[32m      5\u001b[39m \u001b[43m    \u001b[49m\u001b[43mclass_weight\u001b[49m\u001b[43m=\u001b[49m\u001b[43mCLASS_WEIGHT\u001b[49m\u001b[43m,\u001b[49m\n\u001b[32m      6\u001b[39m \u001b[43m)\u001b[49m\n\u001b[32m      7\u001b[39m nn_pipeline.score(val_data[target_x], val_data[target_y])\n",
      "\u001b[36mFile \u001b[39m\u001b[32m~/.pyenv/versions/3.12.11/envs/forecast-v2/lib/python3.12/site-packages/sklearn/base.py:1363\u001b[39m, in \u001b[36m_fit_context.<locals>.decorator.<locals>.wrapper\u001b[39m\u001b[34m(estimator, *args, **kwargs)\u001b[39m\n\u001b[32m   1356\u001b[39m     estimator._validate_params()\n\u001b[32m   1358\u001b[39m \u001b[38;5;28;01mwith\u001b[39;00m config_context(\n\u001b[32m   1359\u001b[39m     skip_parameter_validation=(\n\u001b[32m   1360\u001b[39m         prefer_skip_nested_validation \u001b[38;5;129;01mor\u001b[39;00m global_skip_validation\n\u001b[32m   1361\u001b[39m     )\n\u001b[32m   1362\u001b[39m ):\n\u001b[32m-> \u001b[39m\u001b[32m1363\u001b[39m     \u001b[38;5;28;01mreturn\u001b[39;00m \u001b[43mfit_method\u001b[49m\u001b[43m(\u001b[49m\u001b[43mestimator\u001b[49m\u001b[43m,\u001b[49m\u001b[43m \u001b[49m\u001b[43m*\u001b[49m\u001b[43margs\u001b[49m\u001b[43m,\u001b[49m\u001b[43m \u001b[49m\u001b[43m*\u001b[49m\u001b[43m*\u001b[49m\u001b[43mkwargs\u001b[49m\u001b[43m)\u001b[49m\n",
      "\u001b[36mFile \u001b[39m\u001b[32m~/.pyenv/versions/3.12.11/envs/forecast-v2/lib/python3.12/site-packages/sklearn/pipeline.py:652\u001b[39m, in \u001b[36mPipeline.fit\u001b[39m\u001b[34m(self, X, y, **params)\u001b[39m\n\u001b[32m    645\u001b[39m \u001b[38;5;28;01mif\u001b[39;00m \u001b[38;5;129;01mnot\u001b[39;00m _routing_enabled() \u001b[38;5;129;01mand\u001b[39;00m \u001b[38;5;28mself\u001b[39m.transform_input \u001b[38;5;129;01mis\u001b[39;00m \u001b[38;5;129;01mnot\u001b[39;00m \u001b[38;5;28;01mNone\u001b[39;00m:\n\u001b[32m    646\u001b[39m     \u001b[38;5;28;01mraise\u001b[39;00m \u001b[38;5;167;01mValueError\u001b[39;00m(\n\u001b[32m    647\u001b[39m         \u001b[33m\"\u001b[39m\u001b[33mThe `transform_input` parameter can only be set if metadata \u001b[39m\u001b[33m\"\u001b[39m\n\u001b[32m    648\u001b[39m         \u001b[33m\"\u001b[39m\u001b[33mrouting is enabled. You can enable metadata routing using \u001b[39m\u001b[33m\"\u001b[39m\n\u001b[32m    649\u001b[39m         \u001b[33m\"\u001b[39m\u001b[33m`sklearn.set_config(enable_metadata_routing=True)`.\u001b[39m\u001b[33m\"\u001b[39m\n\u001b[32m    650\u001b[39m     )\n\u001b[32m--> \u001b[39m\u001b[32m652\u001b[39m routed_params = \u001b[38;5;28;43mself\u001b[39;49m\u001b[43m.\u001b[49m\u001b[43m_check_method_params\u001b[49m\u001b[43m(\u001b[49m\u001b[43mmethod\u001b[49m\u001b[43m=\u001b[49m\u001b[33;43m\"\u001b[39;49m\u001b[33;43mfit\u001b[39;49m\u001b[33;43m\"\u001b[39;49m\u001b[43m,\u001b[49m\u001b[43m \u001b[49m\u001b[43mprops\u001b[49m\u001b[43m=\u001b[49m\u001b[43mparams\u001b[49m\u001b[43m)\u001b[49m\n\u001b[32m    653\u001b[39m Xt = \u001b[38;5;28mself\u001b[39m._fit(X, y, routed_params, raw_params=params)\n\u001b[32m    654\u001b[39m \u001b[38;5;28;01mwith\u001b[39;00m _print_elapsed_time(\u001b[33m\"\u001b[39m\u001b[33mPipeline\u001b[39m\u001b[33m\"\u001b[39m, \u001b[38;5;28mself\u001b[39m._log_message(\u001b[38;5;28mlen\u001b[39m(\u001b[38;5;28mself\u001b[39m.steps) - \u001b[32m1\u001b[39m)):\n",
      "\u001b[36mFile \u001b[39m\u001b[32m~/.pyenv/versions/3.12.11/envs/forecast-v2/lib/python3.12/site-packages/sklearn/pipeline.py:458\u001b[39m, in \u001b[36mPipeline._check_method_params\u001b[39m\u001b[34m(self, method, props, **kwargs)\u001b[39m\n\u001b[32m    456\u001b[39m \u001b[38;5;28;01mfor\u001b[39;00m pname, pval \u001b[38;5;129;01min\u001b[39;00m props.items():\n\u001b[32m    457\u001b[39m     \u001b[38;5;28;01mif\u001b[39;00m \u001b[33m\"\u001b[39m\u001b[33m__\u001b[39m\u001b[33m\"\u001b[39m \u001b[38;5;129;01mnot\u001b[39;00m \u001b[38;5;129;01min\u001b[39;00m pname:\n\u001b[32m--> \u001b[39m\u001b[32m458\u001b[39m         \u001b[38;5;28;01mraise\u001b[39;00m \u001b[38;5;167;01mValueError\u001b[39;00m(\n\u001b[32m    459\u001b[39m             \u001b[33m\"\u001b[39m\u001b[33mPipeline.fit does not accept the \u001b[39m\u001b[38;5;132;01m{}\u001b[39;00m\u001b[33m parameter. \u001b[39m\u001b[33m\"\u001b[39m\n\u001b[32m    460\u001b[39m             \u001b[33m\"\u001b[39m\u001b[33mYou can pass parameters to specific steps of your \u001b[39m\u001b[33m\"\u001b[39m\n\u001b[32m    461\u001b[39m             \u001b[33m\"\u001b[39m\u001b[33mpipeline using the stepname__parameter format, e.g. \u001b[39m\u001b[33m\"\u001b[39m\n\u001b[32m    462\u001b[39m             \u001b[33m\"\u001b[39m\u001b[33m`Pipeline.fit(X, y, logisticregression__sample_weight\u001b[39m\u001b[33m\"\u001b[39m\n\u001b[32m    463\u001b[39m             \u001b[33m\"\u001b[39m\u001b[33m=sample_weight)`.\u001b[39m\u001b[33m\"\u001b[39m.format(pname)\n\u001b[32m    464\u001b[39m         )\n\u001b[32m    465\u001b[39m     step, param = pname.split(\u001b[33m\"\u001b[39m\u001b[33m__\u001b[39m\u001b[33m\"\u001b[39m, \u001b[32m1\u001b[39m)\n\u001b[32m    466\u001b[39m     fit_params_steps[step][\u001b[33m\"\u001b[39m\u001b[33mfit\u001b[39m\u001b[33m\"\u001b[39m][param] = pval\n",
      "\u001b[31mValueError\u001b[39m: Pipeline.fit does not accept the callbacks parameter. You can pass parameters to specific steps of your pipeline using the stepname__parameter format, e.g. `Pipeline.fit(X, y, logisticregression__sample_weight=sample_weight)`."
     ]
    }
   ],
   "source": [
    "nn_pipeline.fit(\n",
    "    train_data[target_x],\n",
    "    train_data[target_y],\n",
    "    callbacks=[es],\n",
    "    class_weight=CLASS_WEIGHT,\n",
    ")\n",
    "nn_pipeline.score(val_data[target_x], val_data[target_y])"
   ]
  },
  {
   "cell_type": "code",
   "execution_count": null,
   "id": "bc17e328",
   "metadata": {},
   "outputs": [
    {
     "name": "stdout",
     "output_type": "stream",
     "text": [
      "\u001b[1m119/119\u001b[0m \u001b[32m━━━━━━━━━━━━━━━━━━━━\u001b[0m\u001b[37m\u001b[0m \u001b[1m0s\u001b[0m 2ms/step - accuracy: 0.8015 - loss: 0.8369\n"
     ]
    },
    {
     "data": {
      "text/plain": [
       "[1.2032915353775024, 0.7593032717704773]"
      ]
     },
     "execution_count": 10,
     "metadata": {},
     "output_type": "execute_result"
    }
   ],
   "source": [
    "X_train = train_data_btc[target_x].values\n",
    "y_int = train_data_btc[target_y].values.reshape(-1)\n",
    "y_ohe = to_categorical(y_int, num_classes=3)\n",
    "\n",
    "nn_btc.fit(\n",
    "    X_train,\n",
    "    y_ohe,\n",
    "    epochs=25,\n",
    "    batch_size=32,\n",
    "    verbose=0,\n",
    "    callbacks=[es],\n",
    "    class_weight=CLASS_WEIGHT,\n",
    ")\n",
    "\n",
    "y_int_val = val_data_btc[target_y].values.reshape(-1)\n",
    "y_ohe_val = to_categorical(y_int_val, num_classes=3)\n",
    "nn_btc.evaluate(val_data_btc[target_x], y_ohe_val)\n",
    "\n",
    "y_int_test = test_data_btc[target_y].values.reshape(-1)\n",
    "y_ohe_test = to_categorical(y_int_test, num_classes=3)\n",
    "print(nn_btc.evaluate(val_data_btc[target_x], y_ohe_test))"
   ]
  },
  {
   "cell_type": "code",
   "execution_count": null,
   "id": "2de688f7",
   "metadata": {},
   "outputs": [
    {
     "name": "stdout",
     "output_type": "stream",
     "text": [
      "\u001b[1m119/119\u001b[0m \u001b[32m━━━━━━━━━━━━━━━━━━━━\u001b[0m\u001b[37m\u001b[0m \u001b[1m0s\u001b[0m 2ms/step - accuracy: 0.5686 - loss: 1.0928\n"
     ]
    },
    {
     "data": {
      "text/plain": [
       "[1.3256561756134033, 0.5038268566131592]"
      ]
     },
     "execution_count": 11,
     "metadata": {},
     "output_type": "execute_result"
    }
   ],
   "source": [
    "X_train = train_data_ada[target_x].values\n",
    "y_int = train_data_ada[target_y].values.reshape(-1)\n",
    "y_ohe = to_categorical(y_int, num_classes=3)\n",
    "\n",
    "nn_ada.fit(\n",
    "    X_train,\n",
    "    y_ohe,\n",
    "    epochs=25,\n",
    "    batch_size=32,\n",
    "    verbose=0,\n",
    "    callbacks=[es],\n",
    "    class_weight=CLASS_WEIGHT,\n",
    ")\n",
    "\n",
    "y_int_val = val_data_ada[target_y].values.reshape(-1)\n",
    "y_ohe_val = to_categorical(y_int_val, num_classes=3)\n",
    "nn_ada.evaluate(val_data_ada[target_x], y_ohe_val)\n",
    "\n",
    "y_int_test = test_data_ada[target_y].values.reshape(-1)\n",
    "y_ohe_test = to_categorical(y_int_test, num_classes=3)\n",
    "print(nn_ada.evaluate(val_data_ada[target_x], y_ohe_test))"
   ]
  },
  {
   "cell_type": "markdown",
   "id": "3100d538",
   "metadata": {},
   "source": [
    "### EVALUATION"
   ]
  },
  {
   "cell_type": "markdown",
   "id": "de5a4a2e",
   "metadata": {},
   "source": [
    "##### GROUPED FEATURE MODEL"
   ]
  },
  {
   "cell_type": "code",
   "execution_count": null,
   "id": "2b9594de",
   "metadata": {},
   "outputs": [
    {
     "name": "stdout",
     "output_type": "stream",
     "text": [
      "MINIMUM PRECISION TO BREAK EVEN (BEFORE FEES) - 0.2857142857142857\n"
     ]
    }
   ],
   "source": [
    "break_even_precision = 1/(1+(TAKE_PROFIT/STOP_LOSS))\n",
    "print(f\"MINIMUM PRECISION TO BREAK EVEN (BEFORE FEES) - {break_even_precision}\")"
   ]
  },
  {
   "cell_type": "code",
   "execution_count": null,
   "id": "f9be4b5d",
   "metadata": {},
   "outputs": [
    {
     "name": "stdout",
     "output_type": "stream",
     "text": [
      "|   class |    ADA_precision        |\n",
      "|---------|-------------------------|\n",
      "|       1 | 0.25 (570 | 637 | 2832) |\n",
      "|       2 | 0.22 (265 | 681 | 2832) |\n",
      "Prediction time - 0.29\n",
      "Start Date => 2025-02-15 00:30:00+00:00, End Date => 2025-04-15 00:00:00+00:00\n",
      "\n",
      "overall winrate => 0.28811524609843936\n",
      "long winrate    => 0.29525483304042177\n",
      "short winrate    => 0.2727272727272727\n",
      "\n"
     ]
    },
    {
     "data": {
      "application/vnd.microsoft.datawrangler.viewer.v0+json": {
       "columns": [
        {
         "name": "index",
         "rawType": "object",
         "type": "string"
        },
        {
         "name": "group",
         "rawType": "object",
         "type": "unknown"
        }
       ],
       "ref": "089803c0-7534-4cea-82bb-a3a5b348493b",
       "rows": [
        [
         "Start",
         "2025-02-15 00:01:00+00:00"
        ],
        [
         "End",
         "2025-04-15 00:00:00+00:00"
        ],
        [
         "Period",
         "59 days 00:00:00"
        ],
        [
         "Start Value",
         "100.0"
        ],
        [
         "End Value",
         "99.09488630467128"
        ],
        [
         "Total Return [%]",
         "-0.9051136953287192"
        ],
        [
         "Benchmark Return [%]",
         "-20.308386611502794"
        ],
        [
         "Max Gross Exposure [%]",
         "1.0273460711983675"
        ],
        [
         "Total Fees Paid",
         "0.45845938458434127"
        ],
        [
         "Max Drawdown [%]",
         "0.9231451511348422"
        ],
        [
         "Max Drawdown Duration",
         "58 days 15:26:00"
        ],
        [
         "Total Trades",
         "459"
        ],
        [
         "Total Closed Trades",
         "458"
        ],
        [
         "Total Open Trades",
         "1"
        ],
        [
         "Open Trade PnL",
         "-0.0007001000000002001"
        ],
        [
         "Win Rate [%]",
         "30.131004366812224"
        ],
        [
         "Best Trade [%]",
         "2.430139025410204"
        ],
        [
         "Worst Trade [%]",
         "-2.3418828014502844"
        ],
        [
         "Avg Winning Trade [%]",
         "1.5081621769346105"
        ],
        [
         "Avg Losing Trade [%]",
         "-0.933004592447401"
        ],
        [
         "Avg Winning Trade Duration",
         "0 days 02:13:46.956521739"
        ],
        [
         "Avg Losing Trade Duration",
         "0 days 01:08:14.812500"
        ],
        [
         "Profit Factor",
         "0.6971002128517181"
        ],
        [
         "Expectancy",
         "-0.00197470217320681"
        ],
        [
         "Sharpe Ratio",
         "-8.613777959414298"
        ],
        [
         "Calmar Ratio",
         "-5.92501914190708"
        ],
        [
         "Omega Ratio",
         "0.9519751888767206"
        ],
        [
         "Sortino Ratio",
         "-11.891981392294836"
        ]
       ],
       "shape": {
        "columns": 1,
        "rows": 28
       }
      },
      "text/plain": [
       "Start                         2025-02-15 00:01:00+00:00\n",
       "End                           2025-04-15 00:00:00+00:00\n",
       "Period                                 59 days 00:00:00\n",
       "Start Value                                       100.0\n",
       "End Value                                     99.094886\n",
       "Total Return [%]                              -0.905114\n",
       "Benchmark Return [%]                         -20.308387\n",
       "Max Gross Exposure [%]                         1.027346\n",
       "Total Fees Paid                                0.458459\n",
       "Max Drawdown [%]                               0.923145\n",
       "Max Drawdown Duration                  58 days 15:26:00\n",
       "Total Trades                                        459\n",
       "Total Closed Trades                                 458\n",
       "Total Open Trades                                     1\n",
       "Open Trade PnL                                  -0.0007\n",
       "Win Rate [%]                                  30.131004\n",
       "Best Trade [%]                                 2.430139\n",
       "Worst Trade [%]                               -2.341883\n",
       "Avg Winning Trade [%]                          1.508162\n",
       "Avg Losing Trade [%]                          -0.933005\n",
       "Avg Winning Trade Duration    0 days 02:13:46.956521739\n",
       "Avg Losing Trade Duration        0 days 01:08:14.812500\n",
       "Profit Factor                                    0.6971\n",
       "Expectancy                                    -0.001975\n",
       "Sharpe Ratio                                  -8.613778\n",
       "Calmar Ratio                                  -5.925019\n",
       "Omega Ratio                                    0.951975\n",
       "Sortino Ratio                                -11.891981\n",
       "Name: group, dtype: object"
      ]
     },
     "execution_count": 13,
     "metadata": {},
     "output_type": "execute_result"
    }
   ],
   "source": [
    "position_val_backtest, vectorbt_val_backtest = evaluate_token_strategy(\n",
    "    model=nn_pipeline,\n",
    "    data=val_data,\n",
    "    data_1m=df_val_ada,\n",
    "    target_x=target_x,\n",
    "    target_y=target_y,\n",
    "    val_end_date=TRAIN_END_DATE,\n",
    "    token_name=\"ADA\",\n",
    "    classes=(1,2),\n",
    "    long_proba=LONG_PROBA,\n",
    "    short_proba=SHORT_PROBA,\n",
    "    trade_size=1,\n",
    "    use_proba=True,\n",
    "    atr_target=False,\n",
    "    tp = TAKE_PROFIT,\n",
    "    sl = STOP_LOSS,\n",
    "    atr_period = 60 * 5,\n",
    "    tp_pct = TAKE_PROFIT_PCT,\n",
    "    sl_pct = STOP_LOSS_PCT,\n",
    "    nn = False\n",
    ")\n",
    "\n",
    "overall_winrate = position_val_backtest['metrics']['overall']['trade_metrics']['win_rate']\n",
    "long_win_rate = position_val_backtest['metrics']['long']['trade_metrics']['win_rate']\n",
    "short_win_rate = position_val_backtest['metrics']['short']['trade_metrics']['win_rate']\n",
    "\n",
    "print(f\"\"\"\n",
    "overall winrate => {overall_winrate}\n",
    "long winrate    => {long_win_rate}\n",
    "short winrate    => {short_win_rate}\n",
    "\"\"\")\n",
    "\n",
    "vectorbt_val_backtest.stats()"
   ]
  },
  {
   "cell_type": "code",
   "execution_count": null,
   "id": "04fb70cc",
   "metadata": {},
   "outputs": [
    {
     "name": "stdout",
     "output_type": "stream",
     "text": [
      "|   class |    ADA_precision        |\n",
      "|---------|-------------------------|\n",
      "|       1 | 0.24 (396 | 586 | 2688) |\n",
      "|       2 | 0.20 (556 | 533 | 2688) |\n",
      "Prediction time - 0.35\n",
      "Start Date => 2025-04-15 00:30:00+00:00, End Date => 2025-06-10 00:00:00+00:00\n",
      "\n",
      "overall winrate => 0.3280757097791798\n",
      "long winrate    => 0.3484848484848485\n",
      "short winrate    => 0.31351351351351353\n",
      "\n"
     ]
    },
    {
     "data": {
      "application/vnd.microsoft.datawrangler.viewer.v0+json": {
       "columns": [
        {
         "name": "index",
         "rawType": "object",
         "type": "string"
        },
        {
         "name": "group",
         "rawType": "object",
         "type": "unknown"
        }
       ],
       "ref": "9b1da3be-8e2a-41b6-b249-9df9d0303482",
       "rows": [
        [
         "Start",
         "2025-04-15 00:01:00+00:00"
        ],
        [
         "End",
         "2025-06-10 00:00:00+00:00"
        ],
        [
         "Period",
         "56 days 00:00:00"
        ],
        [
         "Start Value",
         "100.0"
        ],
        [
         "End Value",
         "99.70092318863335"
        ],
        [
         "Total Return [%]",
         "-0.2990768113666453"
        ],
        [
         "Benchmark Return [%]",
         "11.062155782863293"
        ],
        [
         "Max Gross Exposure [%]",
         "1.0218821877556674"
        ],
        [
         "Total Fees Paid",
         "0.4155617790127354"
        ],
        [
         "Max Drawdown [%]",
         "0.4340528410749315"
        ],
        [
         "Max Drawdown Duration",
         "33 days 02:28:00"
        ],
        [
         "Total Trades",
         "416"
        ],
        [
         "Total Closed Trades",
         "415"
        ],
        [
         "Total Open Trades",
         "1"
        ],
        [
         "Open Trade PnL",
         "-0.003826676577600832"
        ],
        [
         "Win Rate [%]",
         "40.24096385542168"
        ],
        [
         "Best Trade [%]",
         "2.1607992553039677"
        ],
        [
         "Worst Trade [%]",
         "-1.4943310920714574"
        ],
        [
         "Avg Winning Trade [%]",
         "1.1201709760735912"
        ],
        [
         "Avg Losing Trade [%]",
         "-0.8733746288980668"
        ],
        [
         "Avg Winning Trade Duration",
         "0 days 02:53:17.964071856"
        ],
        [
         "Avg Losing Trade Duration",
         "0 days 01:34:11.612903225"
        ],
        [
         "Profit Factor",
         "0.8636840408813882"
        ],
        [
         "Expectancy",
         "-0.0007114461079254135"
        ],
        [
         "Sharpe Ratio",
         "-3.380141434011364"
        ],
        [
         "Calmar Ratio",
         "-4.454129505446328"
        ],
        [
         "Omega Ratio",
         "0.9842479719801961"
        ],
        [
         "Sortino Ratio",
         "-4.774289853558428"
        ]
       ],
       "shape": {
        "columns": 1,
        "rows": 28
       }
      },
      "text/plain": [
       "Start                         2025-04-15 00:01:00+00:00\n",
       "End                           2025-06-10 00:00:00+00:00\n",
       "Period                                 56 days 00:00:00\n",
       "Start Value                                       100.0\n",
       "End Value                                     99.700923\n",
       "Total Return [%]                              -0.299077\n",
       "Benchmark Return [%]                          11.062156\n",
       "Max Gross Exposure [%]                         1.021882\n",
       "Total Fees Paid                                0.415562\n",
       "Max Drawdown [%]                               0.434053\n",
       "Max Drawdown Duration                  33 days 02:28:00\n",
       "Total Trades                                        416\n",
       "Total Closed Trades                                 415\n",
       "Total Open Trades                                     1\n",
       "Open Trade PnL                                -0.003827\n",
       "Win Rate [%]                                  40.240964\n",
       "Best Trade [%]                                 2.160799\n",
       "Worst Trade [%]                               -1.494331\n",
       "Avg Winning Trade [%]                          1.120171\n",
       "Avg Losing Trade [%]                          -0.873375\n",
       "Avg Winning Trade Duration    0 days 02:53:17.964071856\n",
       "Avg Losing Trade Duration     0 days 01:34:11.612903225\n",
       "Profit Factor                                  0.863684\n",
       "Expectancy                                    -0.000711\n",
       "Sharpe Ratio                                  -3.380141\n",
       "Calmar Ratio                                   -4.45413\n",
       "Omega Ratio                                    0.984248\n",
       "Sortino Ratio                                  -4.77429\n",
       "Name: group, dtype: object"
      ]
     },
     "execution_count": 14,
     "metadata": {},
     "output_type": "execute_result"
    }
   ],
   "source": [
    "position_test_backtest, vectorbt_test_backtest = evaluate_token_strategy(\n",
    "    model=nn_pipeline,\n",
    "    data=test_data,\n",
    "    data_1m=df_test_ada,\n",
    "    target_x=target_x,\n",
    "    target_y=target_y,\n",
    "    val_end_date=VAL_END_DATE,\n",
    "    token_name=\"ADA\",\n",
    "    classes=(1,2),\n",
    "    long_proba=LONG_PROBA,\n",
    "    short_proba=SHORT_PROBA,\n",
    "    trade_size=1,\n",
    "    use_proba=True,\n",
    "    atr_target=False,\n",
    "    tp = TAKE_PROFIT,\n",
    "    sl = STOP_LOSS,\n",
    "    atr_period = 60 * 5,\n",
    "    tp_pct = TAKE_PROFIT_PCT,\n",
    "    sl_pct = STOP_LOSS_PCT,\n",
    "    nn = False\n",
    ")\n",
    "\n",
    "overall_winrate = position_test_backtest['metrics']['overall']['trade_metrics']['win_rate']\n",
    "long_win_rate = position_test_backtest['metrics']['long']['trade_metrics']['win_rate']\n",
    "short_win_rate = position_test_backtest['metrics']['short']['trade_metrics']['win_rate']\n",
    "print(f\"\"\"\n",
    "overall winrate => {overall_winrate}\n",
    "long winrate    => {long_win_rate}\n",
    "short winrate    => {short_win_rate}\n",
    "\"\"\")\n",
    "\n",
    "vectorbt_test_backtest.stats()"
   ]
  },
  {
   "cell_type": "markdown",
   "id": "d04f8921",
   "metadata": {},
   "source": [
    "##### INDIVIDUAL FEATURE MODEL"
   ]
  },
  {
   "cell_type": "code",
   "execution_count": null,
   "id": "66453ed6",
   "metadata": {},
   "outputs": [
    {
     "name": "stdout",
     "output_type": "stream",
     "text": [
      "\u001b[1m89/89\u001b[0m \u001b[32m━━━━━━━━━━━━━━━━━━━━\u001b[0m\u001b[37m\u001b[0m \u001b[1m0s\u001b[0m 2ms/step\n",
      "|   class |    ADA_precision        |\n",
      "|---------|-------------------------|\n",
      "|       1 | 0.24 (161 | 637 | 2832) |\n",
      "|       2 | 0.18 (363 | 681 | 2832) |\n",
      "Prediction time - 0.19\n",
      "Start Date => 2025-02-15 00:30:00+00:00, End Date => 2025-04-15 00:00:00+00:00\n",
      "\u001b[1m89/89\u001b[0m \u001b[32m━━━━━━━━━━━━━━━━━━━━\u001b[0m\u001b[37m\u001b[0m \u001b[1m0s\u001b[0m 1ms/step  \n",
      "\n",
      "overall winrate => 0.26145038167938933\n",
      "long winrate    => 0.2857142857142857\n",
      "short winrate    => 0.25068870523415976\n",
      "\n"
     ]
    },
    {
     "data": {
      "application/vnd.microsoft.datawrangler.viewer.v0+json": {
       "columns": [
        {
         "name": "index",
         "rawType": "object",
         "type": "string"
        },
        {
         "name": "group",
         "rawType": "object",
         "type": "unknown"
        }
       ],
       "ref": "f8cac110-3a7a-47fd-a10f-28e6d046a344",
       "rows": [
        [
         "Start",
         "2025-02-15 00:01:00+00:00"
        ],
        [
         "End",
         "2025-04-15 00:00:00+00:00"
        ],
        [
         "Period",
         "59 days 00:00:00"
        ],
        [
         "Start Value",
         "100.0"
        ],
        [
         "End Value",
         "99.65617574036187"
        ],
        [
         "Total Return [%]",
         "-0.34382425963812635"
        ],
        [
         "Benchmark Return [%]",
         "-20.308386611502794"
        ],
        [
         "Max Gross Exposure [%]",
         "1.022845005056929"
        ],
        [
         "Total Fees Paid",
         "0.20495236733199332"
        ],
        [
         "Max Drawdown [%]",
         "0.44742033048924873"
        ],
        [
         "Max Drawdown Duration",
         "54 days 15:00:00"
        ],
        [
         "Total Trades",
         "205"
        ],
        [
         "Total Closed Trades",
         "205"
        ],
        [
         "Total Open Trades",
         "0"
        ],
        [
         "Open Trade PnL",
         "0.0"
        ],
        [
         "Win Rate [%]",
         "30.24390243902439"
        ],
        [
         "Best Trade [%]",
         "2.2163234567981704"
        ],
        [
         "Worst Trade [%]",
         "-1.75613564911082"
        ],
        [
         "Avg Winning Trade [%]",
         "1.6014254145065596"
        ],
        [
         "Avg Losing Trade [%]",
         "-0.9347571349684886"
        ],
        [
         "Avg Winning Trade Duration",
         "0 days 03:45:01.935483870"
        ],
        [
         "Avg Losing Trade Duration",
         "0 days 01:45:42.797202797"
        ],
        [
         "Profit Factor",
         "0.7427696294880337"
        ],
        [
         "Expectancy",
         "-0.00167719151042989"
        ],
        [
         "Sharpe Ratio",
         "-4.909637425153352"
        ],
        [
         "Calmar Ratio",
         "-4.711842461214209"
        ],
        [
         "Omega Ratio",
         "0.9690115382531787"
        ],
        [
         "Sortino Ratio",
         "-6.82792940311847"
        ]
       ],
       "shape": {
        "columns": 1,
        "rows": 28
       }
      },
      "text/plain": [
       "Start                         2025-02-15 00:01:00+00:00\n",
       "End                           2025-04-15 00:00:00+00:00\n",
       "Period                                 59 days 00:00:00\n",
       "Start Value                                       100.0\n",
       "End Value                                     99.656176\n",
       "Total Return [%]                              -0.343824\n",
       "Benchmark Return [%]                         -20.308387\n",
       "Max Gross Exposure [%]                         1.022845\n",
       "Total Fees Paid                                0.204952\n",
       "Max Drawdown [%]                                0.44742\n",
       "Max Drawdown Duration                  54 days 15:00:00\n",
       "Total Trades                                        205\n",
       "Total Closed Trades                                 205\n",
       "Total Open Trades                                     0\n",
       "Open Trade PnL                                      0.0\n",
       "Win Rate [%]                                  30.243902\n",
       "Best Trade [%]                                 2.216323\n",
       "Worst Trade [%]                               -1.756136\n",
       "Avg Winning Trade [%]                          1.601425\n",
       "Avg Losing Trade [%]                          -0.934757\n",
       "Avg Winning Trade Duration    0 days 03:45:01.935483870\n",
       "Avg Losing Trade Duration     0 days 01:45:42.797202797\n",
       "Profit Factor                                   0.74277\n",
       "Expectancy                                    -0.001677\n",
       "Sharpe Ratio                                  -4.909637\n",
       "Calmar Ratio                                  -4.711842\n",
       "Omega Ratio                                    0.969012\n",
       "Sortino Ratio                                 -6.827929\n",
       "Name: group, dtype: object"
      ]
     },
     "execution_count": 15,
     "metadata": {},
     "output_type": "execute_result"
    }
   ],
   "source": [
    "position_val_backtest, vectorbt_val_backtest = evaluate_token_strategy(\n",
    "    model=nn_ada,\n",
    "    data=val_data_ada,\n",
    "    data_1m=df_val_ada,\n",
    "    target_x=target_x,\n",
    "    target_y=target_y,\n",
    "    val_end_date=TRAIN_END_DATE,\n",
    "    token_name=\"ADA\",\n",
    "    classes=(1,2),\n",
    "    long_proba=LONG_PROBA,\n",
    "    short_proba=SHORT_PROBA,\n",
    "    trade_size=1,\n",
    "    use_proba=True,\n",
    "    atr_target=False,\n",
    "    tp = TAKE_PROFIT,\n",
    "    sl = STOP_LOSS,\n",
    "    atr_period = 60 * 5,\n",
    "    tp_pct = TAKE_PROFIT_PCT,\n",
    "    sl_pct = STOP_LOSS_PCT,\n",
    "    nn = True\n",
    ")\n",
    "\n",
    "overall_winrate = position_val_backtest['metrics']['overall']['trade_metrics']['win_rate']\n",
    "long_win_rate = position_val_backtest['metrics']['long']['trade_metrics']['win_rate']\n",
    "short_win_rate = position_val_backtest['metrics']['short']['trade_metrics']['win_rate']\n",
    "\n",
    "print(f\"\"\"\n",
    "overall winrate => {overall_winrate}\n",
    "long winrate    => {long_win_rate}\n",
    "short winrate    => {short_win_rate}\n",
    "\"\"\")\n",
    "\n",
    "vectorbt_val_backtest.stats()"
   ]
  },
  {
   "cell_type": "code",
   "execution_count": null,
   "id": "902779f0",
   "metadata": {},
   "outputs": [
    {
     "name": "stdout",
     "output_type": "stream",
     "text": [
      "\u001b[1m84/84\u001b[0m \u001b[32m━━━━━━━━━━━━━━━━━━━━\u001b[0m\u001b[37m\u001b[0m \u001b[1m0s\u001b[0m 2ms/step\n",
      "|   class |    ADA_precision        |\n",
      "|---------|-------------------------|\n",
      "|       1 | 0.28 (141 | 586 | 2688) |\n",
      "|       2 | 0.22 (412 | 533 | 2688) |\n",
      "Prediction time - 0.21\n",
      "Start Date => 2025-04-15 00:30:00+00:00, End Date => 2025-06-10 00:00:00+00:00\n",
      "\u001b[1m84/84\u001b[0m \u001b[32m━━━━━━━━━━━━━━━━━━━━\u001b[0m\u001b[37m\u001b[0m \u001b[1m0s\u001b[0m 2ms/step\n",
      "\n",
      "overall winrate => 0.321880650994575\n",
      "long winrate    => 0.3404255319148936\n",
      "short winrate    => 0.3155339805825243\n",
      "\n"
     ]
    },
    {
     "data": {
      "application/vnd.microsoft.datawrangler.viewer.v0+json": {
       "columns": [
        {
         "name": "index",
         "rawType": "object",
         "type": "string"
        },
        {
         "name": "group",
         "rawType": "object",
         "type": "unknown"
        }
       ],
       "ref": "b8ff01c3-f3f0-49fa-8ffe-bc6bfc4b085f",
       "rows": [
        [
         "Start",
         "2025-04-15 00:01:00+00:00"
        ],
        [
         "End",
         "2025-06-10 00:00:00+00:00"
        ],
        [
         "Period",
         "56 days 00:00:00"
        ],
        [
         "Start Value",
         "100.0"
        ],
        [
         "End Value",
         "99.91393406085797"
        ],
        [
         "Total Return [%]",
         "-0.08606593914203053"
        ],
        [
         "Benchmark Return [%]",
         "11.062155782863293"
        ],
        [
         "Max Gross Exposure [%]",
         "1.0198685879335447"
        ],
        [
         "Total Fees Paid",
         "0.1979550840742573"
        ],
        [
         "Max Drawdown [%]",
         "0.186896666430195"
        ],
        [
         "Max Drawdown Duration",
         "25 days 00:36:00"
        ],
        [
         "Total Trades",
         "198"
        ],
        [
         "Total Closed Trades",
         "198"
        ],
        [
         "Total Open Trades",
         "0"
        ],
        [
         "Open Trade PnL",
         "0.0"
        ],
        [
         "Win Rate [%]",
         "33.33333333333333"
        ],
        [
         "Best Trade [%]",
         "2.9589684815078225"
        ],
        [
         "Worst Trade [%]",
         "-1.1963146362011923"
        ],
        [
         "Avg Winning Trade [%]",
         "1.6725070490185387"
        ],
        [
         "Avg Losing Trade [%]",
         "-0.9014549465588547"
        ],
        [
         "Avg Winning Trade Duration",
         "0 days 03:50:38.181818181"
        ],
        [
         "Avg Losing Trade Duration",
         "0 days 02:18:59.090909090"
        ],
        [
         "Profit Factor",
         "0.9276658523050434"
        ],
        [
         "Expectancy",
         "-0.00043467646031327984"
        ],
        [
         "Sharpe Ratio",
         "-1.2471636445423022"
        ],
        [
         "Calmar Ratio",
         "-2.9943562968688515"
        ],
        [
         "Omega Ratio",
         "0.9927073161209706"
        ],
        [
         "Sortino Ratio",
         "-1.7815322115376013"
        ]
       ],
       "shape": {
        "columns": 1,
        "rows": 28
       }
      },
      "text/plain": [
       "Start                         2025-04-15 00:01:00+00:00\n",
       "End                           2025-06-10 00:00:00+00:00\n",
       "Period                                 56 days 00:00:00\n",
       "Start Value                                       100.0\n",
       "End Value                                     99.913934\n",
       "Total Return [%]                              -0.086066\n",
       "Benchmark Return [%]                          11.062156\n",
       "Max Gross Exposure [%]                         1.019869\n",
       "Total Fees Paid                                0.197955\n",
       "Max Drawdown [%]                               0.186897\n",
       "Max Drawdown Duration                  25 days 00:36:00\n",
       "Total Trades                                        198\n",
       "Total Closed Trades                                 198\n",
       "Total Open Trades                                     0\n",
       "Open Trade PnL                                      0.0\n",
       "Win Rate [%]                                  33.333333\n",
       "Best Trade [%]                                 2.958968\n",
       "Worst Trade [%]                               -1.196315\n",
       "Avg Winning Trade [%]                          1.672507\n",
       "Avg Losing Trade [%]                          -0.901455\n",
       "Avg Winning Trade Duration    0 days 03:50:38.181818181\n",
       "Avg Losing Trade Duration     0 days 02:18:59.090909090\n",
       "Profit Factor                                  0.927666\n",
       "Expectancy                                    -0.000435\n",
       "Sharpe Ratio                                  -1.247164\n",
       "Calmar Ratio                                  -2.994356\n",
       "Omega Ratio                                    0.992707\n",
       "Sortino Ratio                                 -1.781532\n",
       "Name: group, dtype: object"
      ]
     },
     "execution_count": 16,
     "metadata": {},
     "output_type": "execute_result"
    }
   ],
   "source": [
    "position_test_backtest, vectorbt_test_backtest = evaluate_token_strategy(\n",
    "    model=nn_ada,\n",
    "    data=test_data_ada,\n",
    "    data_1m=df_test_ada,\n",
    "    target_x=target_x,\n",
    "    target_y=target_y,\n",
    "    val_end_date=VAL_END_DATE,\n",
    "    token_name=\"ADA\",\n",
    "    classes=(1,2),\n",
    "    long_proba=LONG_PROBA,\n",
    "    short_proba=SHORT_PROBA,\n",
    "    trade_size=1,\n",
    "    use_proba=True,\n",
    "    atr_target=False,\n",
    "    tp = TAKE_PROFIT,\n",
    "    sl = STOP_LOSS,\n",
    "    atr_period = 60 * 5,\n",
    "    tp_pct = TAKE_PROFIT_PCT,\n",
    "    sl_pct = STOP_LOSS_PCT,\n",
    "    nn = True\n",
    ")\n",
    "\n",
    "overall_winrate = position_test_backtest['metrics']['overall']['trade_metrics']['win_rate']\n",
    "long_win_rate = position_test_backtest['metrics']['long']['trade_metrics']['win_rate']\n",
    "short_win_rate = position_test_backtest['metrics']['short']['trade_metrics']['win_rate']\n",
    "print(f\"\"\"\n",
    "overall winrate => {overall_winrate}\n",
    "long winrate    => {long_win_rate}\n",
    "short winrate    => {short_win_rate}\n",
    "\"\"\")\n",
    "\n",
    "vectorbt_test_backtest.stats()"
   ]
  },
  {
   "cell_type": "code",
   "execution_count": null,
   "id": "58789a5f",
   "metadata": {},
   "outputs": [],
   "source": []
  },
  {
   "cell_type": "code",
   "execution_count": null,
   "id": "8a38987a",
   "metadata": {},
   "outputs": [],
   "source": []
  }
 ],
 "metadata": {
  "kernelspec": {
   "display_name": "forecast-v2",
   "language": "python",
   "name": "python3"
  },
  "language_info": {
   "codemirror_mode": {
    "name": "ipython",
    "version": 3
   },
   "file_extension": ".py",
   "mimetype": "text/x-python",
   "name": "python",
   "nbconvert_exporter": "python",
   "pygments_lexer": "ipython3",
   "version": "3.12.11"
  }
 },
 "nbformat": 4,
 "nbformat_minor": 5
}
