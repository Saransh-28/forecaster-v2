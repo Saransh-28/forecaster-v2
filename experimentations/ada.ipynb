{
 "cells": [
  {
   "cell_type": "markdown",
   "id": "1bf64ff7",
   "metadata": {},
   "source": [
    "### IMPORTS"
   ]
  },
  {
   "cell_type": "code",
   "execution_count": null,
   "id": "fd2c952f",
   "metadata": {},
   "outputs": [],
   "source": [
    "from dotenv import load_dotenv\n",
    "import os\n",
    "\n",
    "load_dotenv()\n",
    "root = os.environ.get(\"ROOT_PATH\", \".\")\n",
    "os.chdir(root)\n",
    "from datetime import datetime, timedelta\n",
    "from data_preprocessing.fetch_data import fetch_ohlcv_to_df\n",
    "from data_preprocessing.training_helpers import evaluate_token_strategy\n",
    "from data_preprocessing.training_helpers import create_merged_feature\n",
    "import tensorflow as tf\n",
    "from data_preprocessing.training_helpers import create_all_features\n",
    "from tensorflow.keras import layers, models, optimizers, regularizers\n",
    "from tensorflow.keras.utils import to_categorical\n",
    "import warnings\n",
    "from sklearn.decomposition import PCA\n",
    "from scikeras.wrappers import KerasClassifier\n",
    "from sklearn.pipeline import Pipeline\n",
    "from tensorflow.keras.callbacks import EarlyStopping\n",
    "\n",
    "warnings.filterwarnings(\"ignore\")"
   ]
  },
  {
   "cell_type": "markdown",
   "id": "fcacb8fd",
   "metadata": {},
   "source": [
    "### CONSTATNTS"
   ]
  },
  {
   "cell_type": "code",
   "execution_count": null,
   "id": "5636d133",
   "metadata": {},
   "outputs": [],
   "source": [
    "EXCHANGE = \"binance\"\n",
    "TRAIN_START_DATE = \"2024-07-01 00:00:00\"\n",
    "TRAIN_END_DATE = \"2025-02-15 00:01:00\"\n",
    "SET_OVERLAPPING_DAYS = 20\n",
    "VAL_START_DATE = (datetime.strptime(TRAIN_END_DATE, \"%Y-%m-%d %H:%M:%S\") - timedelta(days=SET_OVERLAPPING_DAYS)).strftime(\"%Y-%m-%d %H:%M:%S\")\n",
    "VAL_END_DATE = \"2025-03-15 00:01:00\"\n",
    "TEST_START_DATE = (datetime.strptime(VAL_END_DATE, \"%Y-%m-%d %H:%M:%S\") - timedelta(days=SET_OVERLAPPING_DAYS)).strftime(\"%Y-%m-%d %H:%M:%S\")\n",
    "TEST_END_DATE = \"2025-06-10 00:01:00\"\n",
    "ALL_START_DATE = \"2024-10-20 00:00:00\"\n",
    "ALL_END_DATE = \"2025-06-10 00:01:00\"\n",
    "LONG_PROBA = 0.6\n",
    "SHORT_PROBA = 0.6\n",
    "TAKE_PROFIT = 2\n",
    "STOP_LOSS = 0.8\n",
    "TAKE_PROFIT_PCT = TAKE_PROFIT/100\n",
    "STOP_LOSS_PCT = STOP_LOSS / 100\n",
    "CLASS_WEIGHT = { 0:0.3, 1: 1, 2:1 }"
   ]
  },
  {
   "cell_type": "markdown",
   "id": "64756412",
   "metadata": {},
   "source": [
    "### LOAD DATA"
   ]
  },
  {
   "cell_type": "code",
   "execution_count": null,
   "id": "28d4cdd7",
   "metadata": {},
   "outputs": [],
   "source": [
    "df_train_ada = await fetch_ohlcv_to_df(\"ADA/USDT\", TRAIN_START_DATE, TRAIN_END_DATE)\n",
    "df_val_ada = await fetch_ohlcv_to_df(\"ADA/USDT\", VAL_START_DATE, VAL_END_DATE)\n",
    "df_test_ada = await fetch_ohlcv_to_df(\"ADA/USDT\", TEST_START_DATE, TEST_END_DATE)\n",
    "\n",
    "df_train_btc = await fetch_ohlcv_to_df(\"BTC/USDT\", TRAIN_START_DATE, TRAIN_END_DATE)\n",
    "df_val_btc = await fetch_ohlcv_to_df(\"BTC/USDT\", VAL_START_DATE, VAL_END_DATE)\n",
    "df_test_btc = await fetch_ohlcv_to_df(\"BTC/USDT\", TEST_START_DATE, TEST_END_DATE)"
   ]
  },
  {
   "cell_type": "markdown",
   "id": "7efa9c5c",
   "metadata": {},
   "source": [
    "### PREPROCESS DATA"
   ]
  },
  {
   "cell_type": "code",
   "execution_count": null,
   "id": "7d08902d",
   "metadata": {},
   "outputs": [],
   "source": [
    "train_data_btc = create_all_features(df=df_train_btc, token=\"btc\", target_type=\"pct\", tp=2, sl=0.8, max_bars=60*6, atr_period=60*6)\n",
    "val_data_btc = create_all_features(df=df_val_btc, token=\"btc\", target_type=\"pct\", tp=2, sl=0.8, max_bars=60*6, atr_period=60*6)\n",
    "test_data_btc = create_all_features(df=df_test_btc, token=\"btc\", target_type=\"pct\", tp=2, sl=0.8, max_bars=60*6, atr_period=60*6)\n",
    "\n",
    "train_data_ada = create_all_features(df=df_train_ada, token=\"ada\", target_type=\"pct\", tp=2, sl=0.8, max_bars=60*6, atr_period=60*6)\n",
    "val_data_ada = create_all_features(df=df_val_ada, token=\"ada\", target_type=\"pct\", tp=2, sl=0.8, max_bars=60*6, atr_period=60*6)\n",
    "test_data_ada = create_all_features(df=df_test_ada, token=\"ada\", target_type=\"pct\", tp=2, sl=0.8, max_bars=60*6, atr_period=60*6)"
   ]
  },
  {
   "cell_type": "code",
   "execution_count": null,
   "id": "f525f07c",
   "metadata": {},
   "outputs": [],
   "source": [
    "train_data = create_merged_feature(\n",
    "    main_feature_df=df_train_ada,\n",
    "    complementry_data_df=df_train_btc,\n",
    "    main_token_name=\"ada\",\n",
    "    complementry_token_name=\"btc\",\n",
    "    target_type=\"pct\",\n",
    "    tp=2,\n",
    "    sl=0.8,\n",
    "    max_bars=60 * 6,\n",
    "    atr_period=60 * 6,\n",
    ")\n",
    "\n",
    "val_data = create_merged_feature(\n",
    "    main_feature_df=df_val_ada,\n",
    "    complementry_data_df=df_val_btc,\n",
    "    main_token_name=\"ada\",\n",
    "    complementry_token_name=\"btc\",\n",
    "    target_type=\"pct\",\n",
    "    tp=2,\n",
    "    sl=0.8,\n",
    "    max_bars=60 * 6,\n",
    "    atr_period=60 * 6,\n",
    ")\n",
    "\n",
    "test_data = create_merged_feature(\n",
    "    main_feature_df=df_test_ada,\n",
    "    complementry_data_df=df_test_btc,\n",
    "    main_token_name=\"ada\",\n",
    "    complementry_token_name=\"btc\",\n",
    "    target_type=\"pct\",\n",
    "    tp=2,\n",
    "    sl=0.8,\n",
    "    max_bars=60 * 6,\n",
    "    atr_period=60 * 6,\n",
    ")"
   ]
  },
  {
   "cell_type": "code",
   "execution_count": null,
   "id": "692b8b16",
   "metadata": {},
   "outputs": [],
   "source": [
    "target_y = \"y_combined_1h_2h_4h\"\n",
    "target_x = \"X_combined_1h_2h_4h\""
   ]
  },
  {
   "cell_type": "markdown",
   "id": "f89d376d",
   "metadata": {},
   "source": [
    "### DEFINE MODEL"
   ]
  },
  {
   "cell_type": "code",
   "execution_count": null,
   "id": "585a8f11",
   "metadata": {},
   "outputs": [],
   "source": [
    "def get_model(input_shape, num_classes=3):\n",
    "    inputs = layers.Input(shape=input_shape, name=\"features\")\n",
    "    x = layers.BatchNormalization(name=\"batchnorm_input\")(inputs)\n",
    "    x = layers.Dense(\n",
    "        128, activation=\"relu\", kernel_regularizer=regularizers.l2(1e-4), name=\"dense_1\"\n",
    "    )(x)\n",
    "    x = layers.Dropout(0.3, name=\"dropout_1\")(x)\n",
    "    x = layers.Dense(\n",
    "        64, activation=\"relu\", kernel_regularizer=regularizers.l2(1e-4), name=\"dense_2\"\n",
    "    )(x)\n",
    "    x = layers.Dropout(0.3, name=\"dropout_2\")(x)\n",
    "    x = layers.Dense(\n",
    "        32, activation=\"relu\", kernel_regularizer=regularizers.l2(1e-4), name=\"dense_3\"\n",
    "    )(x)\n",
    "    x = layers.Dropout(0.2, name=\"dropout_3\")(x)\n",
    "    outputs = layers.Dense(num_classes, activation=\"softmax\", name=\"output\")(x)\n",
    "    model = models.Model(inputs=inputs, outputs=outputs, name=\"mlp_3class\")\n",
    "    model.compile(\n",
    "        optimizer=optimizers.Adam(learning_rate=0.003),\n",
    "        loss=\"categorical_crossentropy\",\n",
    "        metrics=[\"accuracy\"],\n",
    "    )\n",
    "    return model"
   ]
  },
  {
   "cell_type": "code",
   "execution_count": null,
   "id": "94b29b25",
   "metadata": {},
   "outputs": [],
   "source": [
    "def create_model():\n",
    "    return get_model(input_shape=(250,), num_classes=3)\n",
    "\n",
    "clf = KerasClassifier(\n",
    "    model=create_model,\n",
    "    optimizer=\"adam\",\n",
    "    loss=\"categorical_crossentropy\",\n",
    "    metrics=[\"precision\"],\n",
    "    epochs=50,\n",
    "    batch_size=32,\n",
    "    verbose=0,\n",
    ")\n",
    "\n",
    "nn_pipeline = Pipeline([\n",
    "    ('pca', PCA(n_components=250)),\n",
    "    ('clf', clf),\n",
    "])\n",
    "\n",
    "nn_ada = get_model(input_shape=(train_data_btc[target_x].shape[1],), num_classes=3)\n",
    "nn_btc = get_model(input_shape=(train_data_btc[target_x].shape[1],), num_classes=3)\n",
    "\n",
    "es = EarlyStopping(\n",
    "    monitor=\"val_loss\",\n",
    "    patience=5,\n",
    "    restore_best_weights=True\n",
    ")\n"
   ]
  },
  {
   "cell_type": "markdown",
   "id": "d1e36ea4",
   "metadata": {},
   "source": [
    "### TRAIN MODEL ( EXPERIMENT )"
   ]
  },
  {
   "cell_type": "code",
   "execution_count": null,
   "id": "0308e321",
   "metadata": {},
   "outputs": [],
   "source": [
    "nn_pipeline.fit(\n",
    "    train_data[target_x],\n",
    "    train_data[target_y],\n",
    ")\n",
    "nn_pipeline.score(val_data[target_x], val_data[target_y])"
   ]
  },
  {
   "cell_type": "code",
   "execution_count": null,
   "id": "bc17e328",
   "metadata": {},
   "outputs": [],
   "source": [
    "X_train = train_data_btc[target_x].values\n",
    "y_int = train_data_btc[target_y].values.reshape(-1)\n",
    "y_ohe = to_categorical(y_int, num_classes=3)\n",
    "\n",
    "nn_btc.fit(\n",
    "    X_train,\n",
    "    y_ohe,\n",
    "    epochs=25,\n",
    "    batch_size=32,\n",
    "    verbose=0,\n",
    "    callbacks=[es],\n",
    "    class_weight=CLASS_WEIGHT,\n",
    ")\n",
    "\n",
    "y_int_val = val_data_btc[target_y].values.reshape(-1)\n",
    "y_ohe_val = to_categorical(y_int_val, num_classes=3)\n",
    "print(nn_btc.evaluate(val_data_btc[target_x], y_ohe_val))\n",
    "\n",
    "y_int_test = test_data_btc[target_y].values.reshape(-1)\n",
    "y_ohe_test = to_categorical(y_int_test, num_classes=3)\n",
    "print(nn_btc.evaluate(test_data_btc[target_x], y_ohe_test))"
   ]
  },
  {
   "cell_type": "code",
   "execution_count": null,
   "id": "2de688f7",
   "metadata": {},
   "outputs": [],
   "source": [
    "X_train = train_data_ada[target_x].values\n",
    "y_int = train_data_ada[target_y].values.reshape(-1)\n",
    "y_ohe = to_categorical(y_int, num_classes=3)\n",
    "\n",
    "nn_ada.fit(\n",
    "    X_train,\n",
    "    y_ohe,\n",
    "    epochs=25,\n",
    "    batch_size=32,\n",
    "    verbose=0,\n",
    "    callbacks=[es],\n",
    "    class_weight=CLASS_WEIGHT,\n",
    ")\n",
    "\n",
    "y_int_val = val_data_ada[target_y].values.reshape(-1)\n",
    "y_ohe_val = to_categorical(y_int_val, num_classes=3)\n",
    "print(nn_ada.evaluate(val_data_ada[target_x], y_ohe_val))\n",
    "\n",
    "y_int_test = test_data_ada[target_y].values.reshape(-1)\n",
    "y_ohe_test = to_categorical(y_int_test, num_classes=3)\n",
    "print(nn_ada.evaluate(test_data_ada[target_x], y_ohe_test))"
   ]
  },
  {
   "cell_type": "markdown",
   "id": "3100d538",
   "metadata": {},
   "source": [
    "### EVALUATION"
   ]
  },
  {
   "cell_type": "markdown",
   "id": "de5a4a2e",
   "metadata": {},
   "source": [
    "##### GROUPED FEATURE MODEL"
   ]
  },
  {
   "cell_type": "code",
   "execution_count": null,
   "id": "2b9594de",
   "metadata": {},
   "outputs": [],
   "source": [
    "break_even_precision = 1/(1+(TAKE_PROFIT/STOP_LOSS))\n",
    "print(f\"MINIMUM PRECISION TO BREAK EVEN (BEFORE FEES) - {break_even_precision}\")"
   ]
  },
  {
   "cell_type": "code",
   "execution_count": null,
   "id": "f9be4b5d",
   "metadata": {},
   "outputs": [],
   "source": [
    "position_val_backtest, vectorbt_val_backtest = evaluate_token_strategy(\n",
    "    model=nn_pipeline,\n",
    "    data=val_data,\n",
    "    data_1m=df_val_ada,\n",
    "    target_x=target_x,\n",
    "    target_y=target_y,\n",
    "    val_end_date=TRAIN_END_DATE,\n",
    "    token_name=\"ADA\",\n",
    "    classes=(1,2),\n",
    "    long_proba=LONG_PROBA,\n",
    "    short_proba=SHORT_PROBA,\n",
    "    trade_size=1,\n",
    "    use_proba=True,\n",
    "    atr_target=False,\n",
    "    tp = TAKE_PROFIT,\n",
    "    sl = STOP_LOSS,\n",
    "    atr_period = 60 * 5,\n",
    "    tp_pct = TAKE_PROFIT_PCT,\n",
    "    sl_pct = STOP_LOSS_PCT,\n",
    "    nn = False\n",
    ")\n",
    "\n",
    "overall_winrate = position_val_backtest['metrics']['overall']['trade_metrics']['win_rate']\n",
    "long_win_rate = position_val_backtest['metrics']['long']['trade_metrics']['win_rate']\n",
    "short_win_rate = position_val_backtest['metrics']['short']['trade_metrics']['win_rate']\n",
    "\n",
    "print(f\"\"\"\n",
    "overall winrate => {overall_winrate}\n",
    "long winrate    => {long_win_rate}\n",
    "short winrate    => {short_win_rate}\n",
    "\"\"\")\n",
    "\n",
    "vectorbt_val_backtest.stats()"
   ]
  },
  {
   "cell_type": "code",
   "execution_count": null,
   "id": "04fb70cc",
   "metadata": {},
   "outputs": [],
   "source": [
    "position_test_backtest, vectorbt_test_backtest = evaluate_token_strategy(\n",
    "    model=nn_pipeline,\n",
    "    data=test_data,\n",
    "    data_1m=df_test_ada,\n",
    "    target_x=target_x,\n",
    "    target_y=target_y,\n",
    "    val_end_date=VAL_END_DATE,\n",
    "    token_name=\"ADA\",\n",
    "    classes=(1,2),\n",
    "    long_proba=LONG_PROBA,\n",
    "    short_proba=SHORT_PROBA,\n",
    "    trade_size=1,\n",
    "    use_proba=True,\n",
    "    atr_target=False,\n",
    "    tp = TAKE_PROFIT,\n",
    "    sl = STOP_LOSS,\n",
    "    atr_period = 60 * 5,\n",
    "    tp_pct = TAKE_PROFIT_PCT,\n",
    "    sl_pct = STOP_LOSS_PCT,\n",
    "    nn = False\n",
    ")\n",
    "\n",
    "overall_winrate = position_test_backtest['metrics']['overall']['trade_metrics']['win_rate']\n",
    "long_win_rate = position_test_backtest['metrics']['long']['trade_metrics']['win_rate']\n",
    "short_win_rate = position_test_backtest['metrics']['short']['trade_metrics']['win_rate']\n",
    "print(f\"\"\"\n",
    "overall winrate => {overall_winrate}\n",
    "long winrate    => {long_win_rate}\n",
    "short winrate    => {short_win_rate}\n",
    "\"\"\")\n",
    "\n",
    "vectorbt_test_backtest.stats()"
   ]
  },
  {
   "cell_type": "markdown",
   "id": "d04f8921",
   "metadata": {},
   "source": [
    "##### INDIVIDUAL FEATURE MODEL"
   ]
  },
  {
   "cell_type": "code",
   "execution_count": null,
   "id": "66453ed6",
   "metadata": {},
   "outputs": [],
   "source": [
    "position_val_backtest, vectorbt_val_backtest = evaluate_token_strategy(\n",
    "    model=nn_ada,\n",
    "    data=val_data_ada,\n",
    "    data_1m=df_val_ada,\n",
    "    target_x=target_x,\n",
    "    target_y=target_y,\n",
    "    val_end_date=TRAIN_END_DATE,\n",
    "    token_name=\"ADA\",\n",
    "    classes=(1,2),\n",
    "    long_proba=LONG_PROBA,\n",
    "    short_proba=SHORT_PROBA,\n",
    "    trade_size=1,\n",
    "    use_proba=True,\n",
    "    atr_target=False,\n",
    "    tp = TAKE_PROFIT,\n",
    "    sl = STOP_LOSS,\n",
    "    atr_period = 60 * 5,\n",
    "    tp_pct = TAKE_PROFIT_PCT,\n",
    "    sl_pct = STOP_LOSS_PCT,\n",
    "    nn = True\n",
    ")\n",
    "\n",
    "overall_winrate = position_val_backtest['metrics']['overall']['trade_metrics']['win_rate']\n",
    "long_win_rate = position_val_backtest['metrics']['long']['trade_metrics']['win_rate']\n",
    "short_win_rate = position_val_backtest['metrics']['short']['trade_metrics']['win_rate']\n",
    "\n",
    "print(f\"\"\"\n",
    "overall winrate => {overall_winrate}\n",
    "long winrate    => {long_win_rate}\n",
    "short winrate    => {short_win_rate}\n",
    "\"\"\")\n",
    "\n",
    "vectorbt_val_backtest.stats()"
   ]
  },
  {
   "cell_type": "code",
   "execution_count": null,
   "id": "902779f0",
   "metadata": {},
   "outputs": [],
   "source": [
    "position_test_backtest, vectorbt_test_backtest = evaluate_token_strategy(\n",
    "    model=nn_ada,\n",
    "    data=test_data_ada,\n",
    "    data_1m=df_test_ada,\n",
    "    target_x=target_x,\n",
    "    target_y=target_y,\n",
    "    val_end_date=VAL_END_DATE,\n",
    "    token_name=\"ADA\",\n",
    "    classes=(1,2),\n",
    "    long_proba=LONG_PROBA,\n",
    "    short_proba=SHORT_PROBA,\n",
    "    trade_size=1,\n",
    "    use_proba=True,\n",
    "    atr_target=False,\n",
    "    tp = TAKE_PROFIT,\n",
    "    sl = STOP_LOSS,\n",
    "    atr_period = 60 * 5,\n",
    "    tp_pct = TAKE_PROFIT_PCT,\n",
    "    sl_pct = STOP_LOSS_PCT,\n",
    "    nn = True\n",
    ")\n",
    "\n",
    "overall_winrate = position_test_backtest['metrics']['overall']['trade_metrics']['win_rate']\n",
    "long_win_rate = position_test_backtest['metrics']['long']['trade_metrics']['win_rate']\n",
    "short_win_rate = position_test_backtest['metrics']['short']['trade_metrics']['win_rate']\n",
    "print(f\"\"\"\n",
    "overall winrate => {overall_winrate}\n",
    "long winrate    => {long_win_rate}\n",
    "short winrate    => {short_win_rate}\n",
    "\"\"\")\n",
    "\n",
    "vectorbt_test_backtest.stats()"
   ]
  },
  {
   "cell_type": "code",
   "execution_count": null,
   "id": "58789a5f",
   "metadata": {},
   "outputs": [],
   "source": []
  },
  {
   "cell_type": "code",
   "execution_count": null,
   "id": "8a38987a",
   "metadata": {},
   "outputs": [],
   "source": []
  }
 ],
 "metadata": {
  "kernelspec": {
   "display_name": "forecast-v2",
   "language": "python",
   "name": "python3"
  },
  "language_info": {
   "codemirror_mode": {
    "name": "ipython",
    "version": 3
   },
   "file_extension": ".py",
   "mimetype": "text/x-python",
   "name": "python",
   "nbconvert_exporter": "python",
   "pygments_lexer": "ipython3",
   "version": "3.12.11"
  }
 },
 "nbformat": 4,
 "nbformat_minor": 5
}
