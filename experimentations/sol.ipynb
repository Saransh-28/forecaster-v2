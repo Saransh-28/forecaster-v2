{
 "cells": [
  {
   "cell_type": "markdown",
   "id": "1bf64ff7",
   "metadata": {},
   "source": [
    "### IMPORTS"
   ]
  },
  {
   "cell_type": "code",
   "execution_count": null,
   "id": "fd2c952f",
   "metadata": {},
   "outputs": [
    {
     "name": "stderr",
     "output_type": "stream",
     "text": [
      "2025-07-05 22:10:56.975259: I external/local_xla/xla/tsl/cuda/cudart_stub.cc:32] Could not find cuda drivers on your machine, GPU will not be used.\n",
      "2025-07-05 22:10:56.979728: I external/local_xla/xla/tsl/cuda/cudart_stub.cc:32] Could not find cuda drivers on your machine, GPU will not be used.\n",
      "2025-07-05 22:10:56.991216: E external/local_xla/xla/stream_executor/cuda/cuda_fft.cc:467] Unable to register cuFFT factory: Attempting to register factory for plugin cuFFT when one has already been registered\n",
      "WARNING: All log messages before absl::InitializeLog() is called are written to STDERR\n",
      "E0000 00:00:1751733657.010984  633798 cuda_dnn.cc:8579] Unable to register cuDNN factory: Attempting to register factory for plugin cuDNN when one has already been registered\n",
      "E0000 00:00:1751733657.016804  633798 cuda_blas.cc:1407] Unable to register cuBLAS factory: Attempting to register factory for plugin cuBLAS when one has already been registered\n",
      "W0000 00:00:1751733657.031573  633798 computation_placer.cc:177] computation placer already registered. Please check linkage and avoid linking the same target more than once.\n",
      "W0000 00:00:1751733657.031591  633798 computation_placer.cc:177] computation placer already registered. Please check linkage and avoid linking the same target more than once.\n",
      "W0000 00:00:1751733657.031593  633798 computation_placer.cc:177] computation placer already registered. Please check linkage and avoid linking the same target more than once.\n",
      "W0000 00:00:1751733657.031595  633798 computation_placer.cc:177] computation placer already registered. Please check linkage and avoid linking the same target more than once.\n",
      "2025-07-05 22:10:57.037091: I tensorflow/core/platform/cpu_feature_guard.cc:210] This TensorFlow binary is optimized to use available CPU instructions in performance-critical operations.\n",
      "To enable the following instructions: AVX2 FMA, in other operations, rebuild TensorFlow with the appropriate compiler flags.\n"
     ]
    }
   ],
   "source": [
    "from dotenv import load_dotenv\n",
    "import os\n",
    "\n",
    "load_dotenv()\n",
    "root = os.environ.get(\"ROOT_PATH\", \".\")\n",
    "os.chdir(root)\n",
    "from datetime import datetime, timedelta\n",
    "from data_preprocessing.fetch_data import fetch_ohlcv_to_df\n",
    "from data_preprocessing.training_helpers import evaluate_token_strategy\n",
    "from data_preprocessing.training_helpers import create_merged_feature\n",
    "import tensorflow as tf\n",
    "from data_preprocessing.training_helpers import create_all_features\n",
    "from tensorflow.keras import layers, models, optimizers, regularizers\n",
    "from tensorflow.keras.utils import to_categorical\n",
    "import warnings\n",
    "from sklearn.decomposition import PCA\n",
    "from scikeras.wrappers import KerasClassifier\n",
    "from sklearn.pipeline import Pipeline\n",
    "from tensorflow.keras.callbacks import EarlyStopping\n",
    "\n",
    "warnings.filterwarnings(\"ignore\")"
   ]
  },
  {
   "cell_type": "markdown",
   "id": "fcacb8fd",
   "metadata": {},
   "source": [
    "### CONSTATNTS"
   ]
  },
  {
   "cell_type": "code",
   "execution_count": null,
   "id": "5636d133",
   "metadata": {},
   "outputs": [],
   "source": [
    "EXCHANGE = \"binance\"\n",
    "TRAIN_START_DATE = \"2024-07-01 00:00:00\"\n",
    "TRAIN_END_DATE = \"2025-02-15 00:01:00\"\n",
    "SET_OVERLAPPING_DAYS = 20\n",
    "VAL_START_DATE = (datetime.strptime(TRAIN_END_DATE, \"%Y-%m-%d %H:%M:%S\") - timedelta(days=SET_OVERLAPPING_DAYS)).strftime(\"%Y-%m-%d %H:%M:%S\")\n",
    "VAL_END_DATE = \"2025-03-15 00:01:00\"\n",
    "TEST_START_DATE = (datetime.strptime(VAL_END_DATE, \"%Y-%m-%d %H:%M:%S\") - timedelta(days=SET_OVERLAPPING_DAYS)).strftime(\"%Y-%m-%d %H:%M:%S\")\n",
    "TEST_END_DATE = \"2025-06-10 00:01:00\"\n",
    "ALL_START_DATE = \"2024-10-20 00:00:00\"\n",
    "ALL_END_DATE = \"2025-06-10 00:01:00\"\n",
    "LONG_PROBA = 0.6\n",
    "SHORT_PROBA = 0.6\n",
    "TAKE_PROFIT = 2\n",
    "STOP_LOSS = 0.8\n",
    "TAKE_PROFIT_PCT = TAKE_PROFIT/100\n",
    "STOP_LOSS_PCT = STOP_LOSS / 100\n",
    "CLASS_WEIGHT = { 0:0.3, 1: 1, 2:1 }"
   ]
  },
  {
   "cell_type": "markdown",
   "id": "64756412",
   "metadata": {},
   "source": [
    "### LOAD DATA"
   ]
  },
  {
   "cell_type": "code",
   "execution_count": 3,
   "id": "28d4cdd7",
   "metadata": {},
   "outputs": [],
   "source": [
    "df_train_sol = await fetch_ohlcv_to_df(\"SOL/USDT\", TRAIN_START_DATE, TRAIN_END_DATE)\n",
    "df_val_sol = await fetch_ohlcv_to_df(\"SOL/USDT\", VAL_START_DATE, VAL_END_DATE)\n",
    "df_test_sol = await fetch_ohlcv_to_df(\"SOL/USDT\", TEST_START_DATE, TEST_END_DATE)\n",
    "\n",
    "df_train_btc = await fetch_ohlcv_to_df(\"BTC/USDT\", TRAIN_START_DATE, TRAIN_END_DATE)\n",
    "df_val_btc = await fetch_ohlcv_to_df(\"BTC/USDT\", VAL_START_DATE, VAL_END_DATE)\n",
    "df_test_btc = await fetch_ohlcv_to_df(\"BTC/USDT\", TEST_START_DATE, TEST_END_DATE)"
   ]
  },
  {
   "cell_type": "markdown",
   "id": "7efa9c5c",
   "metadata": {},
   "source": [
    "### PREPROCESS DATA"
   ]
  },
  {
   "cell_type": "code",
   "execution_count": 4,
   "id": "7d08902d",
   "metadata": {},
   "outputs": [],
   "source": [
    "train_data_btc = create_all_features(df=df_train_btc, token=\"btc\", target_type=\"pct\", tp=2, sl=0.8, max_bars=60*6, atr_period=60*6)\n",
    "val_data_btc = create_all_features(df=df_val_btc, token=\"btc\", target_type=\"pct\", tp=2, sl=0.8, max_bars=60*6, atr_period=60*6)\n",
    "test_data_btc = create_all_features(df=df_test_btc, token=\"btc\", target_type=\"pct\", tp=2, sl=0.8, max_bars=60*6, atr_period=60*6)\n",
    "\n",
    "train_data_sol = create_all_features(df=df_train_sol, token=\"sol\", target_type=\"pct\", tp=2, sl=0.8, max_bars=60*6, atr_period=60*6)\n",
    "val_data_sol = create_all_features(df=df_val_sol, token=\"sol\", target_type=\"pct\", tp=2, sl=0.8, max_bars=60*6, atr_period=60*6)\n",
    "test_data_sol = create_all_features(df=df_test_sol, token=\"sol\", target_type=\"pct\", tp=2, sl=0.8, max_bars=60*6, atr_period=60*6)"
   ]
  },
  {
   "cell_type": "code",
   "execution_count": 5,
   "id": "f525f07c",
   "metadata": {},
   "outputs": [],
   "source": [
    "train_data = create_merged_feature(\n",
    "    main_feature_df=df_train_sol,\n",
    "    complementry_data_df=df_train_btc,\n",
    "    main_token_name=\"sol\",\n",
    "    complementry_token_name=\"btc\",\n",
    "    target_type=\"pct\",\n",
    "    tp=2,\n",
    "    sl=0.8,\n",
    "    max_bars=60 * 6,\n",
    "    atr_period=60 * 6,\n",
    ")\n",
    "\n",
    "val_data = create_merged_feature(\n",
    "    main_feature_df=df_val_sol,\n",
    "    complementry_data_df=df_val_btc,\n",
    "    main_token_name=\"sol\",\n",
    "    complementry_token_name=\"btc\",\n",
    "    target_type=\"pct\",\n",
    "    tp=2,\n",
    "    sl=0.8,\n",
    "    max_bars=60 * 6,\n",
    "    atr_period=60 * 6,\n",
    ")\n",
    "\n",
    "test_data = create_merged_feature(\n",
    "    main_feature_df=df_test_sol,\n",
    "    complementry_data_df=df_test_btc,\n",
    "    main_token_name=\"sol\",\n",
    "    complementry_token_name=\"btc\",\n",
    "    target_type=\"pct\",\n",
    "    tp=2,\n",
    "    sl=0.8,\n",
    "    max_bars=60 * 6,\n",
    "    atr_period=60 * 6,\n",
    ")"
   ]
  },
  {
   "cell_type": "code",
   "execution_count": 6,
   "id": "692b8b16",
   "metadata": {},
   "outputs": [],
   "source": [
    "target_y = \"y_combined_1h_2h_4h\"\n",
    "target_x = \"X_combined_1h_2h_4h\""
   ]
  },
  {
   "cell_type": "markdown",
   "id": "f89d376d",
   "metadata": {},
   "source": [
    "### DEFINE MODEL"
   ]
  },
  {
   "cell_type": "code",
   "execution_count": 7,
   "id": "585a8f11",
   "metadata": {},
   "outputs": [],
   "source": [
    "def get_model(input_shape, num_classes=3):\n",
    "    inputs = layers.Input(shape=input_shape, name=\"features\")\n",
    "    x = layers.BatchNormalization(name=\"batchnorm_input\")(inputs)\n",
    "    x = layers.Dense(\n",
    "        128, activation=\"relu\", kernel_regularizer=regularizers.l2(1e-4), name=\"dense_1\"\n",
    "    )(x)\n",
    "    x = layers.Dropout(0.3, name=\"dropout_1\")(x)\n",
    "    x = layers.Dense(\n",
    "        64, activation=\"relu\", kernel_regularizer=regularizers.l2(1e-4), name=\"dense_2\"\n",
    "    )(x)\n",
    "    x = layers.Dropout(0.3, name=\"dropout_2\")(x)\n",
    "    x = layers.Dense(\n",
    "        32, activation=\"relu\", kernel_regularizer=regularizers.l2(1e-4), name=\"dense_3\"\n",
    "    )(x)\n",
    "    x = layers.Dropout(0.2, name=\"dropout_3\")(x)\n",
    "    outputs = layers.Dense(num_classes, activation=\"softmax\", name=\"output\")(x)\n",
    "    model = models.Model(inputs=inputs, outputs=outputs, name=\"mlp_3class\")\n",
    "    model.compile(\n",
    "        optimizer=optimizers.Adam(learning_rate=0.003),\n",
    "        loss=\"categorical_crossentropy\",\n",
    "        metrics=[\"accuracy\"],\n",
    "    )\n",
    "    return model"
   ]
  },
  {
   "cell_type": "code",
   "execution_count": null,
   "id": "94b29b25",
   "metadata": {},
   "outputs": [
    {
     "name": "stderr",
     "output_type": "stream",
     "text": [
      "E0000 00:00:1751733836.817643  633798 cuda_executor.cc:1228] INTERNAL: CUDA Runtime error: Failed call to cudaGetRuntimeVersion: Error loading CUDA libraries. GPU will not be used.: Error loading CUDA libraries. GPU will not be used.\n",
      "W0000 00:00:1751733836.818536  633798 gpu_device.cc:2341] Cannot dlopen some GPU libraries. Please make sure the missing libraries mentioned above are installed properly if you would like to use GPU. Follow the guide at https://www.tensorflow.org/install/gpu for how to download and setup the required libraries for your platform.\n",
      "Skipping registering GPU devices...\n"
     ]
    }
   ],
   "source": [
    "def create_model():\n",
    "    return get_model(input_shape=(250,), num_classes=3)\n",
    "\n",
    "clf = KerasClassifier(\n",
    "    model=create_model,\n",
    "    optimizer=\"adam\",\n",
    "    loss=\"categorical_crossentropy\",\n",
    "    metrics=[\"precision\"],\n",
    "    epochs=50,\n",
    "    batch_size=32,\n",
    "    verbose=0,\n",
    ")\n",
    "\n",
    "nn_pipeline = Pipeline([\n",
    "    ('pca', PCA(n_components=250)),\n",
    "    ('clf', clf),\n",
    "])\n",
    "\n",
    "nn_sol = get_model(input_shape=(train_data_btc[target_x].shape[1],), num_classes=3)\n",
    "nn_btc = get_model(input_shape=(train_data_btc[target_x].shape[1],), num_classes=3)\n",
    "\n",
    "es = EarlyStopping(\n",
    "    monitor=\"val_loss\",\n",
    "    patience=5,\n",
    "    restore_best_weights=True\n",
    ")\n"
   ]
  },
  {
   "cell_type": "markdown",
   "id": "d1e36ea4",
   "metadata": {},
   "source": [
    "### TRAIN MODEL ( EXPERIMENT )"
   ]
  },
  {
   "cell_type": "code",
   "execution_count": null,
   "id": "0308e321",
   "metadata": {},
   "outputs": [
    {
     "data": {
      "text/plain": [
       "0.588545790446028"
      ]
     },
     "execution_count": 9,
     "metadata": {},
     "output_type": "execute_result"
    }
   ],
   "source": [
    "nn_pipeline.fit(\n",
    "    train_data[target_x],\n",
    "    train_data[target_y],\n",
    ")\n",
    "nn_pipeline.score(val_data[target_x], val_data[target_y])"
   ]
  },
  {
   "cell_type": "code",
   "execution_count": null,
   "id": "bc17e328",
   "metadata": {},
   "outputs": [
    {
     "name": "stdout",
     "output_type": "stream",
     "text": [
      "\u001b[1m119/119\u001b[0m \u001b[32m━━━━━━━━━━━━━━━━━━━━\u001b[0m\u001b[37m\u001b[0m \u001b[1m0s\u001b[0m 2ms/step - accuracy: 0.8069 - loss: 0.8403\n"
     ]
    },
    {
     "data": {
      "text/plain": [
       "[1.240455985069275, 0.7635260224342346]"
      ]
     },
     "execution_count": 10,
     "metadata": {},
     "output_type": "execute_result"
    }
   ],
   "source": [
    "X_train = train_data_btc[target_x].values\n",
    "y_int = train_data_btc[target_y].values.reshape(-1)\n",
    "y_ohe = to_categorical(y_int, num_classes=3)\n",
    "\n",
    "nn_btc.fit(\n",
    "    X_train,\n",
    "    y_ohe,\n",
    "    epochs=25,\n",
    "    batch_size=32,\n",
    "    verbose=0,\n",
    "    callbacks=[es],\n",
    "    class_weight=CLASS_WEIGHT,\n",
    ")\n",
    "\n",
    "y_int_val = val_data_btc[target_y].values.reshape(-1)\n",
    "y_ohe_val = to_categorical(y_int_val, num_classes=3)\n",
    "print(nn_btc.evaluate(val_data_btc[target_x], y_ohe_val))\n",
    "\n",
    "y_int_test = test_data_btc[target_y].values.reshape(-1)\n",
    "y_ohe_test = to_categorical(y_int_test, num_classes=3)\n",
    "print(nn_btc.evaluate(test_data_btc[target_x], y_ohe_test))"
   ]
  },
  {
   "cell_type": "code",
   "execution_count": null,
   "id": "2de688f7",
   "metadata": {},
   "outputs": [
    {
     "name": "stdout",
     "output_type": "stream",
     "text": [
      "\u001b[1m119/119\u001b[0m \u001b[32m━━━━━━━━━━━━━━━━━━━━\u001b[0m\u001b[37m\u001b[0m \u001b[1m0s\u001b[0m 2ms/step - accuracy: 0.6124 - loss: 1.2367\n"
     ]
    },
    {
     "data": {
      "text/plain": [
       "[1.5435606241226196, 0.5420955419540405]"
      ]
     },
     "execution_count": 11,
     "metadata": {},
     "output_type": "execute_result"
    }
   ],
   "source": [
    "X_train = train_data_sol[target_x].values\n",
    "y_int = train_data_sol[target_y].values.reshape(-1)\n",
    "y_ohe = to_categorical(y_int, num_classes=3)\n",
    "\n",
    "nn_sol.fit(\n",
    "    X_train,\n",
    "    y_ohe,\n",
    "    epochs=25,\n",
    "    batch_size=32,\n",
    "    verbose=0,\n",
    "    callbacks=[es],\n",
    "    class_weight=CLASS_WEIGHT,\n",
    ")\n",
    "\n",
    "y_int_val = val_data_sol[target_y].values.reshape(-1)\n",
    "y_ohe_val = to_categorical(y_int_val, num_classes=3)\n",
    "print(nn_sol.evaluate(val_data_sol[target_x], y_ohe_val))\n",
    "\n",
    "y_int_test = test_data_sol[target_y].values.reshape(-1)\n",
    "y_ohe_test = to_categorical(y_int_test, num_classes=3)\n",
    "print(nn_sol.evaluate(test_data_sol[target_x], y_ohe_test))"
   ]
  },
  {
   "cell_type": "markdown",
   "id": "3100d538",
   "metadata": {},
   "source": [
    "### EVALUATION"
   ]
  },
  {
   "cell_type": "markdown",
   "id": "de5a4a2e",
   "metadata": {},
   "source": [
    "##### GROUPED FEATURE MODEL"
   ]
  },
  {
   "cell_type": "code",
   "execution_count": 12,
   "id": "2b9594de",
   "metadata": {},
   "outputs": [
    {
     "name": "stdout",
     "output_type": "stream",
     "text": [
      "MINIMUM PRECISION TO BREAK EVEN (BEFORE FEES) - 0.2857142857142857\n"
     ]
    }
   ],
   "source": [
    "break_even_precision = 1/(1+(TAKE_PROFIT/STOP_LOSS))\n",
    "print(f\"MINIMUM PRECISION TO BREAK EVEN (BEFORE FEES) - {break_even_precision}\")"
   ]
  },
  {
   "cell_type": "code",
   "execution_count": 13,
   "id": "f9be4b5d",
   "metadata": {},
   "outputs": [
    {
     "name": "stdout",
     "output_type": "stream",
     "text": [
      "|   class |    SOL_precision        |\n",
      "|---------|-------------------------|\n",
      "|       1 | 0.24 (290 | 609 | 2832) |\n",
      "|       2 | 0.28 (130 | 689 | 2832) |\n",
      "Prediction time - 0.15\n",
      "Start Date => 2025-02-15 00:30:00+00:00, End Date => 2025-04-15 00:00:00+00:00\n",
      "\n",
      "overall winrate => 0.29523809523809524\n",
      "long winrate    => 0.2689655172413793\n",
      "short winrate    => 0.35384615384615387\n",
      "\n"
     ]
    },
    {
     "data": {
      "application/vnd.microsoft.datawrangler.viewer.v0+json": {
       "columns": [
        {
         "name": "index",
         "rawType": "object",
         "type": "string"
        },
        {
         "name": "group",
         "rawType": "object",
         "type": "unknown"
        }
       ],
       "ref": "5f673b1e-28a7-42c9-97ef-ad00c96b118e",
       "rows": [
        [
         "Start",
         "2025-02-15 00:01:00+00:00"
        ],
        [
         "End",
         "2025-04-15 00:00:00+00:00"
        ],
        [
         "Period",
         "59 days 00:00:00"
        ],
        [
         "Start Value",
         "100.0"
        ],
        [
         "End Value",
         "99.6890426078003"
        ],
        [
         "Total Return [%]",
         "-0.3109573921996983"
        ],
        [
         "Benchmark Return [%]",
         "-34.827273642870324"
        ],
        [
         "Max Gross Exposure [%]",
         "1.023055079104367"
        ],
        [
         "Total Fees Paid",
         "0.2498497296512438"
        ],
        [
         "Max Drawdown [%]",
         "0.5139289206911902"
        ],
        [
         "Max Drawdown Duration",
         "48 days 09:45:00"
        ],
        [
         "Total Trades",
         "250"
        ],
        [
         "Total Closed Trades",
         "250"
        ],
        [
         "Total Open Trades",
         "0"
        ],
        [
         "Open Trade PnL",
         "0.0"
        ],
        [
         "Win Rate [%]",
         "31.2"
        ],
        [
         "Best Trade [%]",
         "3.332986766822943"
        ],
        [
         "Worst Trade [%]",
         "-2.0581111073277767"
        ],
        [
         "Avg Winning Trade [%]",
         "1.7220054862455716"
        ],
        [
         "Avg Losing Trade [%]",
         "-0.9616503557427223"
        ],
        [
         "Avg Winning Trade Duration",
         "0 days 02:16:43.076923076"
        ],
        [
         "Avg Losing Trade Duration",
         "0 days 01:27:50.232558139"
        ],
        [
         "Profit Factor",
         "0.8120169476617796"
        ],
        [
         "Expectancy",
         "-0.0012438295687988016"
        ],
        [
         "Sharpe Ratio",
         "-4.020060575623083"
        ],
        [
         "Calmar Ratio",
         "-3.713108996552307"
        ],
        [
         "Omega Ratio",
         "0.9706218343578619"
        ],
        [
         "Sortino Ratio",
         "-5.7338047526648435"
        ]
       ],
       "shape": {
        "columns": 1,
        "rows": 28
       }
      },
      "text/plain": [
       "Start                         2025-02-15 00:01:00+00:00\n",
       "End                           2025-04-15 00:00:00+00:00\n",
       "Period                                 59 days 00:00:00\n",
       "Start Value                                       100.0\n",
       "End Value                                     99.689043\n",
       "Total Return [%]                              -0.310957\n",
       "Benchmark Return [%]                         -34.827274\n",
       "Max Gross Exposure [%]                         1.023055\n",
       "Total Fees Paid                                 0.24985\n",
       "Max Drawdown [%]                               0.513929\n",
       "Max Drawdown Duration                  48 days 09:45:00\n",
       "Total Trades                                        250\n",
       "Total Closed Trades                                 250\n",
       "Total Open Trades                                     0\n",
       "Open Trade PnL                                      0.0\n",
       "Win Rate [%]                                       31.2\n",
       "Best Trade [%]                                 3.332987\n",
       "Worst Trade [%]                               -2.058111\n",
       "Avg Winning Trade [%]                          1.722005\n",
       "Avg Losing Trade [%]                           -0.96165\n",
       "Avg Winning Trade Duration    0 days 02:16:43.076923076\n",
       "Avg Losing Trade Duration     0 days 01:27:50.232558139\n",
       "Profit Factor                                  0.812017\n",
       "Expectancy                                    -0.001244\n",
       "Sharpe Ratio                                  -4.020061\n",
       "Calmar Ratio                                  -3.713109\n",
       "Omega Ratio                                    0.970622\n",
       "Sortino Ratio                                 -5.733805\n",
       "Name: group, dtype: object"
      ]
     },
     "execution_count": 13,
     "metadata": {},
     "output_type": "execute_result"
    }
   ],
   "source": [
    "position_val_backtest, vectorbt_val_backtest = evaluate_token_strategy(\n",
    "    model=nn_pipeline,\n",
    "    data=val_data,\n",
    "    data_1m=df_val_sol,\n",
    "    target_x=target_x,\n",
    "    target_y=target_y,\n",
    "    val_end_date=TRAIN_END_DATE,\n",
    "    token_name=\"SOL\",\n",
    "    classes=(1,2),\n",
    "    long_proba=LONG_PROBA,\n",
    "    short_proba=SHORT_PROBA,\n",
    "    trade_size=1,\n",
    "    use_proba=True,\n",
    "    atr_target=False,\n",
    "    tp = TAKE_PROFIT,\n",
    "    sl = STOP_LOSS,\n",
    "    atr_period = 60 * 5,\n",
    "    tp_pct = TAKE_PROFIT_PCT,\n",
    "    sl_pct = STOP_LOSS_PCT,\n",
    "    nn = False\n",
    ")\n",
    "\n",
    "overall_winrate = position_val_backtest['metrics']['overall']['trade_metrics']['win_rate']\n",
    "long_win_rate = position_val_backtest['metrics']['long']['trade_metrics']['win_rate']\n",
    "short_win_rate = position_val_backtest['metrics']['short']['trade_metrics']['win_rate']\n",
    "\n",
    "print(f\"\"\"\n",
    "overall winrate => {overall_winrate}\n",
    "long winrate    => {long_win_rate}\n",
    "short winrate    => {short_win_rate}\n",
    "\"\"\")\n",
    "\n",
    "vectorbt_val_backtest.stats()"
   ]
  },
  {
   "cell_type": "code",
   "execution_count": 14,
   "id": "04fb70cc",
   "metadata": {},
   "outputs": [
    {
     "name": "stdout",
     "output_type": "stream",
     "text": [
      "|   class |    SOL_precision        |\n",
      "|---------|-------------------------|\n",
      "|       1 | 0.21 (407 | 564 | 2688) |\n",
      "|       2 | 0.15 (121 | 468 | 2688) |\n",
      "Prediction time - 0.20\n",
      "Start Date => 2025-04-15 00:30:00+00:00, End Date => 2025-06-10 00:00:00+00:00\n",
      "\n",
      "overall winrate => 0.2727272727272727\n",
      "long winrate    => 0.28746928746928746\n",
      "short winrate    => 0.2231404958677686\n",
      "\n"
     ]
    },
    {
     "data": {
      "application/vnd.microsoft.datawrangler.viewer.v0+json": {
       "columns": [
        {
         "name": "index",
         "rawType": "object",
         "type": "string"
        },
        {
         "name": "group",
         "rawType": "object",
         "type": "unknown"
        }
       ],
       "ref": "b8da7eda-9fb5-4467-b58b-ff8d22c7eecf",
       "rows": [
        [
         "Start",
         "2025-04-15 00:01:00+00:00"
        ],
        [
         "End",
         "2025-06-10 00:00:00+00:00"
        ],
        [
         "Period",
         "56 days 00:00:00"
        ],
        [
         "Start Value",
         "100.0"
        ],
        [
         "End Value",
         "99.8193287711323"
        ],
        [
         "Total Return [%]",
         "-0.18067122886769882"
        ],
        [
         "Benchmark Return [%]",
         "24.59979893279083"
        ],
        [
         "Max Gross Exposure [%]",
         "1.0202228486196574"
        ],
        [
         "Total Fees Paid",
         "0.21911441268688628"
        ],
        [
         "Max Drawdown [%]",
         "0.30368951585929593"
        ],
        [
         "Max Drawdown Duration",
         "28 days 12:07:00"
        ],
        [
         "Total Trades",
         "219"
        ],
        [
         "Total Closed Trades",
         "219"
        ],
        [
         "Total Open Trades",
         "0"
        ],
        [
         "Open Trade PnL",
         "0.0"
        ],
        [
         "Win Rate [%]",
         "35.61643835616438"
        ],
        [
         "Best Trade [%]",
         "2.6760516366255844"
        ],
        [
         "Worst Trade [%]",
         "-1.824673005175526"
        ],
        [
         "Avg Winning Trade [%]",
         "1.3877519048603162"
        ],
        [
         "Avg Losing Trade [%]",
         "-0.8958441378417935"
        ],
        [
         "Avg Winning Trade Duration",
         "0 days 03:27:44.615384615"
        ],
        [
         "Avg Losing Trade Duration",
         "0 days 02:24:59.148936170"
        ],
        [
         "Profit Factor",
         "0.8569776824996586"
        ],
        [
         "Expectancy",
         "-0.0008249827802177933"
        ],
        [
         "Sharpe Ratio",
         "-2.6900450322496186"
        ],
        [
         "Calmar Ratio",
         "-3.858333409305944"
        ],
        [
         "Omega Ratio",
         "0.9848209279394382"
        ],
        [
         "Sortino Ratio",
         "-3.7972398710481046"
        ]
       ],
       "shape": {
        "columns": 1,
        "rows": 28
       }
      },
      "text/plain": [
       "Start                         2025-04-15 00:01:00+00:00\n",
       "End                           2025-06-10 00:00:00+00:00\n",
       "Period                                 56 days 00:00:00\n",
       "Start Value                                       100.0\n",
       "End Value                                     99.819329\n",
       "Total Return [%]                              -0.180671\n",
       "Benchmark Return [%]                          24.599799\n",
       "Max Gross Exposure [%]                         1.020223\n",
       "Total Fees Paid                                0.219114\n",
       "Max Drawdown [%]                                0.30369\n",
       "Max Drawdown Duration                  28 days 12:07:00\n",
       "Total Trades                                        219\n",
       "Total Closed Trades                                 219\n",
       "Total Open Trades                                     0\n",
       "Open Trade PnL                                      0.0\n",
       "Win Rate [%]                                  35.616438\n",
       "Best Trade [%]                                 2.676052\n",
       "Worst Trade [%]                               -1.824673\n",
       "Avg Winning Trade [%]                          1.387752\n",
       "Avg Losing Trade [%]                          -0.895844\n",
       "Avg Winning Trade Duration    0 days 03:27:44.615384615\n",
       "Avg Losing Trade Duration     0 days 02:24:59.148936170\n",
       "Profit Factor                                  0.856978\n",
       "Expectancy                                    -0.000825\n",
       "Sharpe Ratio                                  -2.690045\n",
       "Calmar Ratio                                  -3.858333\n",
       "Omega Ratio                                    0.984821\n",
       "Sortino Ratio                                  -3.79724\n",
       "Name: group, dtype: object"
      ]
     },
     "execution_count": 14,
     "metadata": {},
     "output_type": "execute_result"
    }
   ],
   "source": [
    "position_test_backtest, vectorbt_test_backtest = evaluate_token_strategy(\n",
    "    model=nn_pipeline,\n",
    "    data=test_data,\n",
    "    data_1m=df_test_sol,\n",
    "    target_x=target_x,\n",
    "    target_y=target_y,\n",
    "    val_end_date=VAL_END_DATE,\n",
    "    token_name=\"SOL\",\n",
    "    classes=(1,2),\n",
    "    long_proba=LONG_PROBA,\n",
    "    short_proba=SHORT_PROBA,\n",
    "    trade_size=1,\n",
    "    use_proba=True,\n",
    "    atr_target=False,\n",
    "    tp = TAKE_PROFIT,\n",
    "    sl = STOP_LOSS,\n",
    "    atr_period = 60 * 5,\n",
    "    tp_pct = TAKE_PROFIT_PCT,\n",
    "    sl_pct = STOP_LOSS_PCT,\n",
    "    nn = False\n",
    ")\n",
    "\n",
    "overall_winrate = position_test_backtest['metrics']['overall']['trade_metrics']['win_rate']\n",
    "long_win_rate = position_test_backtest['metrics']['long']['trade_metrics']['win_rate']\n",
    "short_win_rate = position_test_backtest['metrics']['short']['trade_metrics']['win_rate']\n",
    "print(f\"\"\"\n",
    "overall winrate => {overall_winrate}\n",
    "long winrate    => {long_win_rate}\n",
    "short winrate    => {short_win_rate}\n",
    "\"\"\")\n",
    "\n",
    "vectorbt_test_backtest.stats()"
   ]
  },
  {
   "cell_type": "markdown",
   "id": "d04f8921",
   "metadata": {},
   "source": [
    "##### INDIVIDUAL FEATURE MODEL"
   ]
  },
  {
   "cell_type": "code",
   "execution_count": 15,
   "id": "66453ed6",
   "metadata": {},
   "outputs": [
    {
     "name": "stdout",
     "output_type": "stream",
     "text": [
      "\u001b[1m89/89\u001b[0m \u001b[32m━━━━━━━━━━━━━━━━━━━━\u001b[0m\u001b[37m\u001b[0m \u001b[1m0s\u001b[0m 2ms/step\n",
      "|   class |    SOL_precision        |\n",
      "|---------|-------------------------|\n",
      "|       1 | 0.15 (108 | 609 | 2832) |\n",
      "|       2 | 0.16 (32 | 689 | 2832)  |\n",
      "Prediction time - 0.05\n",
      "Start Date => 2025-02-15 00:30:00+00:00, End Date => 2025-04-15 00:00:00+00:00\n",
      "\u001b[1m89/89\u001b[0m \u001b[32m━━━━━━━━━━━━━━━━━━━━\u001b[0m\u001b[37m\u001b[0m \u001b[1m0s\u001b[0m 1ms/step  \n",
      "\n",
      "overall winrate => 0.2028985507246377\n",
      "long winrate    => 0.20754716981132076\n",
      "short winrate    => 0.1875\n",
      "\n"
     ]
    },
    {
     "data": {
      "application/vnd.microsoft.datawrangler.viewer.v0+json": {
       "columns": [
        {
         "name": "index",
         "rawType": "object",
         "type": "string"
        },
        {
         "name": "group",
         "rawType": "object",
         "type": "unknown"
        }
       ],
       "ref": "de842bf7-7132-4a5b-a68a-b44a3daf74c7",
       "rows": [
        [
         "Start",
         "2025-02-15 00:01:00+00:00"
        ],
        [
         "End",
         "2025-04-15 00:00:00+00:00"
        ],
        [
         "Period",
         "59 days 00:00:00"
        ],
        [
         "Start Value",
         "100.0"
        ],
        [
         "End Value",
         "99.81092174091599"
        ],
        [
         "Total Return [%]",
         "-0.18907825908401676"
        ],
        [
         "Benchmark Return [%]",
         "-34.827273642870324"
        ],
        [
         "Max Gross Exposure [%]",
         "1.0212774767552035"
        ],
        [
         "Total Fees Paid",
         "0.08548252122819822"
        ],
        [
         "Max Drawdown [%]",
         "0.21738581239212712"
        ],
        [
         "Max Drawdown Duration",
         "54 days 21:31:00"
        ],
        [
         "Total Trades",
         "86"
        ],
        [
         "Total Closed Trades",
         "85"
        ],
        [
         "Total Open Trades",
         "1"
        ],
        [
         "Open Trade PnL",
         "-8.157518169182529e-05"
        ],
        [
         "Win Rate [%]",
         "27.058823529411764"
        ],
        [
         "Best Trade [%]",
         "2.167311653912277"
        ],
        [
         "Worst Trade [%]",
         "-1.1451621234833338"
        ],
        [
         "Avg Winning Trade [%]",
         "1.7022649884301748"
        ],
        [
         "Avg Losing Trade [%]",
         "-0.936290732730877"
        ],
        [
         "Avg Winning Trade Duration",
         "0 days 03:51:52.173913043"
        ],
        [
         "Avg Losing Trade Duration",
         "0 days 01:44:33.870967741"
        ],
        [
         "Profit Factor",
         "0.6744526481972575"
        ],
        [
         "Expectancy",
         "-0.0022234903988508914"
        ],
        [
         "Sharpe Ratio",
         "-4.179290182716424"
        ],
        [
         "Calmar Ratio",
         "-5.354540547824483"
        ],
        [
         "Omega Ratio",
         "0.9583354742684375"
        ],
        [
         "Sortino Ratio",
         "-5.801982854147635"
        ]
       ],
       "shape": {
        "columns": 1,
        "rows": 28
       }
      },
      "text/plain": [
       "Start                         2025-02-15 00:01:00+00:00\n",
       "End                           2025-04-15 00:00:00+00:00\n",
       "Period                                 59 days 00:00:00\n",
       "Start Value                                       100.0\n",
       "End Value                                     99.810922\n",
       "Total Return [%]                              -0.189078\n",
       "Benchmark Return [%]                         -34.827274\n",
       "Max Gross Exposure [%]                         1.021277\n",
       "Total Fees Paid                                0.085483\n",
       "Max Drawdown [%]                               0.217386\n",
       "Max Drawdown Duration                  54 days 21:31:00\n",
       "Total Trades                                         86\n",
       "Total Closed Trades                                  85\n",
       "Total Open Trades                                     1\n",
       "Open Trade PnL                                -0.000082\n",
       "Win Rate [%]                                  27.058824\n",
       "Best Trade [%]                                 2.167312\n",
       "Worst Trade [%]                               -1.145162\n",
       "Avg Winning Trade [%]                          1.702265\n",
       "Avg Losing Trade [%]                          -0.936291\n",
       "Avg Winning Trade Duration    0 days 03:51:52.173913043\n",
       "Avg Losing Trade Duration     0 days 01:44:33.870967741\n",
       "Profit Factor                                  0.674453\n",
       "Expectancy                                    -0.002223\n",
       "Sharpe Ratio                                   -4.17929\n",
       "Calmar Ratio                                  -5.354541\n",
       "Omega Ratio                                    0.958335\n",
       "Sortino Ratio                                 -5.801983\n",
       "Name: group, dtype: object"
      ]
     },
     "execution_count": 15,
     "metadata": {},
     "output_type": "execute_result"
    }
   ],
   "source": [
    "position_val_backtest, vectorbt_val_backtest = evaluate_token_strategy(\n",
    "    model=nn_sol,\n",
    "    data=val_data_sol,\n",
    "    data_1m=df_val_sol,\n",
    "    target_x=target_x,\n",
    "    target_y=target_y,\n",
    "    val_end_date=TRAIN_END_DATE,\n",
    "    token_name=\"SOL\",\n",
    "    classes=(1,2),\n",
    "    long_proba=LONG_PROBA,\n",
    "    short_proba=SHORT_PROBA,\n",
    "    trade_size=1,\n",
    "    use_proba=True,\n",
    "    atr_target=False,\n",
    "    tp = TAKE_PROFIT,\n",
    "    sl = STOP_LOSS,\n",
    "    atr_period = 60 * 5,\n",
    "    tp_pct = TAKE_PROFIT_PCT,\n",
    "    sl_pct = STOP_LOSS_PCT,\n",
    "    nn = True\n",
    ")\n",
    "\n",
    "overall_winrate = position_val_backtest['metrics']['overall']['trade_metrics']['win_rate']\n",
    "long_win_rate = position_val_backtest['metrics']['long']['trade_metrics']['win_rate']\n",
    "short_win_rate = position_val_backtest['metrics']['short']['trade_metrics']['win_rate']\n",
    "\n",
    "print(f\"\"\"\n",
    "overall winrate => {overall_winrate}\n",
    "long winrate    => {long_win_rate}\n",
    "short winrate    => {short_win_rate}\n",
    "\"\"\")\n",
    "\n",
    "vectorbt_val_backtest.stats()"
   ]
  },
  {
   "cell_type": "code",
   "execution_count": 16,
   "id": "902779f0",
   "metadata": {},
   "outputs": [
    {
     "name": "stdout",
     "output_type": "stream",
     "text": [
      "\u001b[1m84/84\u001b[0m \u001b[32m━━━━━━━━━━━━━━━━━━━━\u001b[0m\u001b[37m\u001b[0m \u001b[1m0s\u001b[0m 2ms/step\n",
      "|   class |    SOL_precision        |\n",
      "|---------|-------------------------|\n",
      "|       1 | 0.23 (115 | 564 | 2688) |\n",
      "|       2 | 0.11 (123 | 468 | 2688) |\n",
      "Prediction time - 0.09\n",
      "Start Date => 2025-04-15 00:30:00+00:00, End Date => 2025-06-10 00:00:00+00:00\n",
      "\u001b[1m84/84\u001b[0m \u001b[32m━━━━━━━━━━━━━━━━━━━━\u001b[0m\u001b[37m\u001b[0m \u001b[1m0s\u001b[0m 1ms/step\n",
      "\n",
      "overall winrate => 0.2773109243697479\n",
      "long winrate    => 0.3130434782608696\n",
      "short winrate    => 0.24390243902439024\n",
      "\n"
     ]
    },
    {
     "data": {
      "application/vnd.microsoft.datawrangler.viewer.v0+json": {
       "columns": [
        {
         "name": "index",
         "rawType": "object",
         "type": "string"
        },
        {
         "name": "group",
         "rawType": "object",
         "type": "unknown"
        }
       ],
       "ref": "bf5367db-6317-4cef-91ae-32d7136ba7ff",
       "rows": [
        [
         "Start",
         "2025-04-15 00:01:00+00:00"
        ],
        [
         "End",
         "2025-06-10 00:00:00+00:00"
        ],
        [
         "Period",
         "56 days 00:00:00"
        ],
        [
         "Start Value",
         "100.0"
        ],
        [
         "End Value",
         "99.72950331489183"
        ],
        [
         "Total Return [%]",
         "-0.2704966851081734"
        ],
        [
         "Benchmark Return [%]",
         "24.59979893279083"
        ],
        [
         "Max Gross Exposure [%]",
         "1.0227267496669745"
        ],
        [
         "Total Fees Paid",
         "0.10910639887635028"
        ],
        [
         "Max Drawdown [%]",
         "0.3231527283595868"
        ],
        [
         "Max Drawdown Duration",
         "55 days 14:25:00"
        ],
        [
         "Total Trades",
         "109"
        ],
        [
         "Total Closed Trades",
         "109"
        ],
        [
         "Total Open Trades",
         "0"
        ],
        [
         "Open Trade PnL",
         "0.0"
        ],
        [
         "Win Rate [%]",
         "24.770642201834864"
        ],
        [
         "Best Trade [%]",
         "2.6294013622372105"
        ],
        [
         "Worst Trade [%]",
         "-1.2159769321325515"
        ],
        [
         "Avg Winning Trade [%]",
         "1.7689498477986578"
        ],
        [
         "Avg Losing Trade [%]",
         "-0.9123881050793299"
        ],
        [
         "Avg Winning Trade Duration",
         "0 days 05:19:20"
        ],
        [
         "Avg Losing Trade Duration",
         "0 days 02:10:49.024390243"
        ],
        [
         "Profit Factor",
         "0.6384369976430481"
        ],
        [
         "Expectancy",
         "-0.0024816209642951623"
        ],
        [
         "Sharpe Ratio",
         "-5.683936687944842"
        ],
        [
         "Calmar Ratio",
         "-5.415256299650773"
        ],
        [
         "Omega Ratio",
         "0.9571774068780196"
        ],
        [
         "Sortino Ratio",
         "-7.932974234807251"
        ]
       ],
       "shape": {
        "columns": 1,
        "rows": 28
       }
      },
      "text/plain": [
       "Start                         2025-04-15 00:01:00+00:00\n",
       "End                           2025-06-10 00:00:00+00:00\n",
       "Period                                 56 days 00:00:00\n",
       "Start Value                                       100.0\n",
       "End Value                                     99.729503\n",
       "Total Return [%]                              -0.270497\n",
       "Benchmark Return [%]                          24.599799\n",
       "Max Gross Exposure [%]                         1.022727\n",
       "Total Fees Paid                                0.109106\n",
       "Max Drawdown [%]                               0.323153\n",
       "Max Drawdown Duration                  55 days 14:25:00\n",
       "Total Trades                                        109\n",
       "Total Closed Trades                                 109\n",
       "Total Open Trades                                     0\n",
       "Open Trade PnL                                      0.0\n",
       "Win Rate [%]                                  24.770642\n",
       "Best Trade [%]                                 2.629401\n",
       "Worst Trade [%]                               -1.215977\n",
       "Avg Winning Trade [%]                           1.76895\n",
       "Avg Losing Trade [%]                          -0.912388\n",
       "Avg Winning Trade Duration              0 days 05:19:20\n",
       "Avg Losing Trade Duration     0 days 02:10:49.024390243\n",
       "Profit Factor                                  0.638437\n",
       "Expectancy                                    -0.002482\n",
       "Sharpe Ratio                                  -5.683937\n",
       "Calmar Ratio                                  -5.415256\n",
       "Omega Ratio                                    0.957177\n",
       "Sortino Ratio                                 -7.932974\n",
       "Name: group, dtype: object"
      ]
     },
     "execution_count": 16,
     "metadata": {},
     "output_type": "execute_result"
    }
   ],
   "source": [
    "position_test_backtest, vectorbt_test_backtest = evaluate_token_strategy(\n",
    "    model=nn_sol,\n",
    "    data=test_data_sol,\n",
    "    data_1m=df_test_sol,\n",
    "    target_x=target_x,\n",
    "    target_y=target_y,\n",
    "    val_end_date=VAL_END_DATE,\n",
    "    token_name=\"SOL\",\n",
    "    classes=(1,2),\n",
    "    long_proba=LONG_PROBA,\n",
    "    short_proba=SHORT_PROBA,\n",
    "    trade_size=1,\n",
    "    use_proba=True,\n",
    "    atr_target=False,\n",
    "    tp = TAKE_PROFIT,\n",
    "    sl = STOP_LOSS,\n",
    "    atr_period = 60 * 5,\n",
    "    tp_pct = TAKE_PROFIT_PCT,\n",
    "    sl_pct = STOP_LOSS_PCT,\n",
    "    nn = True\n",
    ")\n",
    "\n",
    "overall_winrate = position_test_backtest['metrics']['overall']['trade_metrics']['win_rate']\n",
    "long_win_rate = position_test_backtest['metrics']['long']['trade_metrics']['win_rate']\n",
    "short_win_rate = position_test_backtest['metrics']['short']['trade_metrics']['win_rate']\n",
    "print(f\"\"\"\n",
    "overall winrate => {overall_winrate}\n",
    "long winrate    => {long_win_rate}\n",
    "short winrate    => {short_win_rate}\n",
    "\"\"\")\n",
    "\n",
    "vectorbt_test_backtest.stats()"
   ]
  },
  {
   "cell_type": "code",
   "execution_count": null,
   "id": "58789a5f",
   "metadata": {},
   "outputs": [],
   "source": []
  }
 ],
 "metadata": {
  "kernelspec": {
   "display_name": "forecast-v2",
   "language": "python",
   "name": "python3"
  },
  "language_info": {
   "codemirror_mode": {
    "name": "ipython",
    "version": 3
   },
   "file_extension": ".py",
   "mimetype": "text/x-python",
   "name": "python",
   "nbconvert_exporter": "python",
   "pygments_lexer": "ipython3",
   "version": "3.12.11"
  }
 },
 "nbformat": 4,
 "nbformat_minor": 5
}
