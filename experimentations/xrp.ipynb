{
 "cells": [
  {
   "cell_type": "markdown",
   "id": "1bf64ff7",
   "metadata": {},
   "source": [
    "### IMPORTS"
   ]
  },
  {
   "cell_type": "code",
   "execution_count": null,
   "id": "fd2c952f",
   "metadata": {},
   "outputs": [
    {
     "name": "stderr",
     "output_type": "stream",
     "text": [
      "2025-07-05 21:30:01.503132: I external/local_xla/xla/tsl/cuda/cudart_stub.cc:32] Could not find cuda drivers on your machine, GPU will not be used.\n",
      "2025-07-05 21:30:01.507226: I external/local_xla/xla/tsl/cuda/cudart_stub.cc:32] Could not find cuda drivers on your machine, GPU will not be used.\n",
      "2025-07-05 21:30:01.519164: E external/local_xla/xla/stream_executor/cuda/cuda_fft.cc:467] Unable to register cuFFT factory: Attempting to register factory for plugin cuFFT when one has already been registered\n",
      "WARNING: All log messages before absl::InitializeLog() is called are written to STDERR\n",
      "E0000 00:00:1751731201.537608  632595 cuda_dnn.cc:8579] Unable to register cuDNN factory: Attempting to register factory for plugin cuDNN when one has already been registered\n",
      "E0000 00:00:1751731201.543113  632595 cuda_blas.cc:1407] Unable to register cuBLAS factory: Attempting to register factory for plugin cuBLAS when one has already been registered\n",
      "W0000 00:00:1751731201.557268  632595 computation_placer.cc:177] computation placer already registered. Please check linkage and avoid linking the same target more than once.\n",
      "W0000 00:00:1751731201.557287  632595 computation_placer.cc:177] computation placer already registered. Please check linkage and avoid linking the same target more than once.\n",
      "W0000 00:00:1751731201.557288  632595 computation_placer.cc:177] computation placer already registered. Please check linkage and avoid linking the same target more than once.\n",
      "W0000 00:00:1751731201.557290  632595 computation_placer.cc:177] computation placer already registered. Please check linkage and avoid linking the same target more than once.\n",
      "2025-07-05 21:30:01.562472: I tensorflow/core/platform/cpu_feature_guard.cc:210] This TensorFlow binary is optimized to use available CPU instructions in performance-critical operations.\n",
      "To enable the following instructions: AVX2 FMA, in other operations, rebuild TensorFlow with the appropriate compiler flags.\n"
     ]
    }
   ],
   "source": [
    "from dotenv import load_dotenv\n",
    "import os\n",
    "\n",
    "load_dotenv()\n",
    "root = os.environ.get(\"ROOT_PATH\", \".\")\n",
    "os.chdir(root)\n",
    "from datetime import datetime, timedelta\n",
    "from data_preprocessing.fetch_data import fetch_ohlcv_to_df\n",
    "from data_preprocessing.training_helpers import evaluate_token_strategy\n",
    "from data_preprocessing.training_helpers import create_merged_feature\n",
    "import tensorflow as tf\n",
    "from data_preprocessing.training_helpers import create_all_features\n",
    "from tensorflow.keras import layers, models, optimizers, regularizers\n",
    "from tensorflow.keras.utils import to_categorical\n",
    "import warnings\n",
    "from sklearn.decomposition import PCA\n",
    "from scikeras.wrappers import KerasClassifier\n",
    "from sklearn.pipeline import Pipeline\n",
    "from tensorflow.keras.callbacks import EarlyStopping\n",
    "\n",
    "warnings.filterwarnings(\"ignore\")"
   ]
  },
  {
   "cell_type": "markdown",
   "id": "fcacb8fd",
   "metadata": {},
   "source": [
    "### CONSTATNTS"
   ]
  },
  {
   "cell_type": "code",
   "execution_count": null,
   "id": "5636d133",
   "metadata": {},
   "outputs": [],
   "source": [
    "EXCHANGE = \"binance\"\n",
    "TRAIN_START_DATE = \"2024-07-01 00:00:00\"\n",
    "TRAIN_END_DATE = \"2025-02-15 00:01:00\"\n",
    "SET_OVERLAPPING_DAYS = 20\n",
    "VAL_START_DATE = (datetime.strptime(TRAIN_END_DATE, \"%Y-%m-%d %H:%M:%S\") - timedelta(days=SET_OVERLAPPING_DAYS)).strftime(\"%Y-%m-%d %H:%M:%S\")\n",
    "VAL_END_DATE = \"2025-03-15 00:01:00\"\n",
    "TEST_START_DATE = (datetime.strptime(VAL_END_DATE, \"%Y-%m-%d %H:%M:%S\") - timedelta(days=SET_OVERLAPPING_DAYS)).strftime(\"%Y-%m-%d %H:%M:%S\")\n",
    "TEST_END_DATE = \"2025-06-10 00:01:00\"\n",
    "ALL_START_DATE = \"2024-10-20 00:00:00\"\n",
    "ALL_END_DATE = \"2025-06-10 00:01:00\"\n",
    "LONG_PROBA = 0.6\n",
    "SHORT_PROBA = 0.6\n",
    "TAKE_PROFIT = 2\n",
    "STOP_LOSS = 0.8\n",
    "TAKE_PROFIT_PCT = TAKE_PROFIT/100\n",
    "STOP_LOSS_PCT = STOP_LOSS / 100\n",
    "CLASS_WEIGHT = { 0:0.3, 1: 1, 2:1 }"
   ]
  },
  {
   "cell_type": "markdown",
   "id": "64756412",
   "metadata": {},
   "source": [
    "### LOAD DATA"
   ]
  },
  {
   "cell_type": "code",
   "execution_count": null,
   "id": "28d4cdd7",
   "metadata": {},
   "outputs": [],
   "source": [
    "df_train_xrp = await fetch_ohlcv_to_df(\"XRP/USDT\", TRAIN_START_DATE, TRAIN_END_DATE)\n",
    "df_val_xrp = await fetch_ohlcv_to_df(\"XRP/USDT\", VAL_START_DATE, VAL_END_DATE)\n",
    "df_test_xrp = await fetch_ohlcv_to_df(\"XRP/USDT\", TEST_START_DATE, TEST_END_DATE)\n",
    "\n",
    "df_train_btc = await fetch_ohlcv_to_df(\"BTC/USDT\", TRAIN_START_DATE, TRAIN_END_DATE)\n",
    "df_val_btc = await fetch_ohlcv_to_df(\"BTC/USDT\", VAL_START_DATE, VAL_END_DATE)\n",
    "df_test_btc = await fetch_ohlcv_to_df(\"BTC/USDT\", TEST_START_DATE, TEST_END_DATE)"
   ]
  },
  {
   "cell_type": "markdown",
   "id": "7efa9c5c",
   "metadata": {},
   "source": [
    "### PREPROCESS DATA"
   ]
  },
  {
   "cell_type": "code",
   "execution_count": null,
   "id": "7d08902d",
   "metadata": {},
   "outputs": [
    {
     "ename": "KeyboardInterrupt",
     "evalue": "",
     "output_type": "error",
     "traceback": [
      "\u001b[31m---------------------------------------------------------------------------\u001b[39m",
      "\u001b[31mKeyboardInterrupt\u001b[39m                         Traceback (most recent call last)",
      "\u001b[32m/tmp/ipykernel_632595/3154123016.py\u001b[39m in \u001b[36m?\u001b[39m\u001b[34m()\u001b[39m\n\u001b[32m----> \u001b[39m\u001b[32m1\u001b[39m train_data_btc = create_all_features(df=df_train_btc, token=\u001b[33m\"btc\"\u001b[39m, target_type=\u001b[33m\"pct\"\u001b[39m, tp=\u001b[32m2\u001b[39m, sl=\u001b[32m0.8\u001b[39m, max_bars=\u001b[32m60\u001b[39m*\u001b[32m6\u001b[39m, atr_period=\u001b[32m60\u001b[39m*\u001b[32m6\u001b[39m)\n\u001b[32m      2\u001b[39m val_data_btc = create_all_features(df=df_val_btc, token=\u001b[33m\"btc\"\u001b[39m, target_type=\u001b[33m\"pct\"\u001b[39m, tp=\u001b[32m2\u001b[39m, sl=\u001b[32m0.8\u001b[39m, max_bars=\u001b[32m60\u001b[39m*\u001b[32m6\u001b[39m, atr_period=\u001b[32m60\u001b[39m*\u001b[32m6\u001b[39m)\n\u001b[32m      3\u001b[39m test_data_btc = create_all_features(df=df_test_btc, token=\u001b[33m\"btc\"\u001b[39m, target_type=\u001b[33m\"pct\"\u001b[39m, tp=\u001b[32m2\u001b[39m, sl=\u001b[32m0.8\u001b[39m, max_bars=\u001b[32m60\u001b[39m*\u001b[32m6\u001b[39m, atr_period=\u001b[32m60\u001b[39m*\u001b[32m6\u001b[39m)\n\u001b[32m      4\u001b[39m \n",
      "\u001b[32m~/Desktop/forcaster-v2/data_preprocessing/training_helpers.py\u001b[39m in \u001b[36m?\u001b[39m\u001b[34m(df, token, target_type, tp, sl, max_bars, atr_period)\u001b[39m\n\u001b[32m    264\u001b[39m def create_all_features(\n\u001b[32m    265\u001b[39m     df, token, target_type=\u001b[33m\"atr\"\u001b[39m, tp=\u001b[32m0.01\u001b[39m, sl=\u001b[32m0.01\u001b[39m, max_bars=\u001b[32m60\u001b[39m * \u001b[32m24\u001b[39m, atr_period=\u001b[32m60\u001b[39m * \u001b[32m5\u001b[39m\n\u001b[32m    266\u001b[39m ):\n\u001b[32m    267\u001b[39m     data_1h = (\n\u001b[32m--> \u001b[39m\u001b[32m268\u001b[39m         fill_nan_inf(create_feature_data(df, \u001b[33m\"30min\"\u001b[39m, token))\n\u001b[32m    269\u001b[39m         .round(\u001b[32m5\u001b[39m)\n\u001b[32m    270\u001b[39m         .sort_index(ascending=\u001b[38;5;28;01mTrue\u001b[39;00m)\n\u001b[32m    271\u001b[39m     )\n",
      "\u001b[32m~/Desktop/forcaster-v2/data_preprocessing/helpers.py\u001b[39m in \u001b[36m?\u001b[39m\u001b[34m(df, timeframe, token)\u001b[39m\n\u001b[32m     11\u001b[39m \u001b[38;5;28;01mdef\u001b[39;00m create_feature_data(df, timeframe, token):\n\u001b[32m     12\u001b[39m     context = load_context(token, timeframe)\n\u001b[32m---> \u001b[39m\u001b[32m13\u001b[39m     ohlcv = create_ohlcv_features(df, timeframe)\n\u001b[32m     14\u001b[39m     data = get_volatility_features(ohlcv, context)\n\u001b[32m     15\u001b[39m     data = get_pattern_recognition_features(data, context)\n\u001b[32m     16\u001b[39m     data = get_pattern_recognition_features_new(data, context)\n",
      "\u001b[32m~/Desktop/forcaster-v2/data_preprocessing/base_features.py\u001b[39m in \u001b[36m?\u001b[39m\u001b[34m(df_ohlcv, resample_timeframe)\u001b[39m\n\u001b[32m    356\u001b[39m \n\u001b[32m    357\u001b[39m     df_ohlcv_resampled[\u001b[33m'kurtosis_30'\u001b[39m] = df_ohlcv_resampled[\u001b[33m\"Close\"\u001b[39m].rolling(\u001b[32m30\u001b[39m).apply(\u001b[38;5;28;01mlambda\u001b[39;00m x: kurtosis_pct_change(x))\n\u001b[32m    358\u001b[39m \n\u001b[32m    359\u001b[39m     df_combined = pd.merge(df_ohlcv_resampled, df_ta, left_index=\u001b[38;5;28;01mTrue\u001b[39;00m, right_index=\u001b[38;5;28;01mTrue\u001b[39;00m)\n\u001b[32m--> \u001b[39m\u001b[32m360\u001b[39m     df_combined[\u001b[33m\"hurst_30\"\u001b[39m] = df_combined[\u001b[33m\"Close\"\u001b[39m].rolling(\u001b[32m30\u001b[39m).apply(\u001b[38;5;28;01mlambda\u001b[39;00m x: compute_Hc(x)[\u001b[32m0\u001b[39m])\n\u001b[32m    361\u001b[39m     df_final = get_date_time_feature(df_combined)\n\u001b[32m    362\u001b[39m \n\u001b[32m    363\u001b[39m     \u001b[38;5;28;01mreturn\u001b[39;00m df_final\n",
      "\u001b[32m~/.pyenv/versions/3.12.11/envs/forecast-v2/lib/python3.12/site-packages/pandas/core/window/rolling.py\u001b[39m in \u001b[36m?\u001b[39m\u001b[34m(self, func, raw, engine, engine_kwargs, args, kwargs)\u001b[39m\n\u001b[32m   2045\u001b[39m         engine_kwargs: dict[str, bool] | \u001b[38;5;28;01mNone\u001b[39;00m = \u001b[38;5;28;01mNone\u001b[39;00m,\n\u001b[32m   2046\u001b[39m         args: tuple[Any, ...] | \u001b[38;5;28;01mNone\u001b[39;00m = \u001b[38;5;28;01mNone\u001b[39;00m,\n\u001b[32m   2047\u001b[39m         kwargs: dict[str, Any] | \u001b[38;5;28;01mNone\u001b[39;00m = \u001b[38;5;28;01mNone\u001b[39;00m,\n\u001b[32m   2048\u001b[39m     ):\n\u001b[32m-> \u001b[39m\u001b[32m2049\u001b[39m         return super().apply(\n\u001b[32m   2050\u001b[39m             func,\n\u001b[32m   2051\u001b[39m             raw=raw,\n\u001b[32m   2052\u001b[39m             engine=engine,\n",
      "\u001b[32m~/.pyenv/versions/3.12.11/envs/forecast-v2/lib/python3.12/site-packages/pandas/core/window/rolling.py\u001b[39m in \u001b[36m?\u001b[39m\u001b[34m(self, func, raw, engine, engine_kwargs, args, kwargs)\u001b[39m\n\u001b[32m   1504\u001b[39m             apply_func = self._generate_cython_apply_func(args, kwargs, raw, func)\n\u001b[32m   1505\u001b[39m         \u001b[38;5;28;01melse\u001b[39;00m:\n\u001b[32m   1506\u001b[39m             \u001b[38;5;28;01mraise\u001b[39;00m ValueError(\u001b[33m\"engine must be either 'numba' or 'cython'\"\u001b[39m)\n\u001b[32m   1507\u001b[39m \n\u001b[32m-> \u001b[39m\u001b[32m1508\u001b[39m         return self._apply(\n\u001b[32m   1509\u001b[39m             apply_func,\n\u001b[32m   1510\u001b[39m             name=\u001b[33m\"apply\"\u001b[39m,\n\u001b[32m   1511\u001b[39m             numba_args=numba_args,\n",
      "\u001b[32m~/.pyenv/versions/3.12.11/envs/forecast-v2/lib/python3.12/site-packages/pandas/core/window/rolling.py\u001b[39m in \u001b[36m?\u001b[39m\u001b[34m(self, func, name, numeric_only, numba_args, **kwargs)\u001b[39m\n\u001b[32m    615\u001b[39m \n\u001b[32m    616\u001b[39m             \u001b[38;5;28;01mreturn\u001b[39;00m result\n\u001b[32m    617\u001b[39m \n\u001b[32m    618\u001b[39m         \u001b[38;5;28;01mif\u001b[39;00m self.method == \u001b[33m\"single\"\u001b[39m:\n\u001b[32m--> \u001b[39m\u001b[32m619\u001b[39m             \u001b[38;5;28;01mreturn\u001b[39;00m self._apply_columnwise(homogeneous_func, name, numeric_only)\n\u001b[32m    620\u001b[39m         \u001b[38;5;28;01melse\u001b[39;00m:\n\u001b[32m    621\u001b[39m             \u001b[38;5;28;01mreturn\u001b[39;00m self._apply_tablewise(homogeneous_func, name, numeric_only)\n",
      "\u001b[32m~/.pyenv/versions/3.12.11/envs/forecast-v2/lib/python3.12/site-packages/pandas/core/window/rolling.py\u001b[39m in \u001b[36m?\u001b[39m\u001b[34m(self, homogeneous_func, name, numeric_only)\u001b[39m\n\u001b[32m    468\u001b[39m         sub-frames.\n\u001b[32m    469\u001b[39m         \"\"\"\n\u001b[32m    470\u001b[39m         self._validate_numeric_only(name, numeric_only)\n\u001b[32m    471\u001b[39m         \u001b[38;5;28;01mif\u001b[39;00m self._selected_obj.ndim == \u001b[32m1\u001b[39m:\n\u001b[32m--> \u001b[39m\u001b[32m472\u001b[39m             \u001b[38;5;28;01mreturn\u001b[39;00m self._apply_series(homogeneous_func, name)\n\u001b[32m    473\u001b[39m \n\u001b[32m    474\u001b[39m         obj = self._create_data(self._selected_obj, numeric_only)\n\u001b[32m    475\u001b[39m         \u001b[38;5;28;01mif\u001b[39;00m name == \u001b[33m\"count\"\u001b[39m:\n",
      "\u001b[32m~/.pyenv/versions/3.12.11/envs/forecast-v2/lib/python3.12/site-packages/pandas/core/window/rolling.py\u001b[39m in \u001b[36m?\u001b[39m\u001b[34m(self, homogeneous_func, name)\u001b[39m\n\u001b[32m    452\u001b[39m             values = self._prep_values(obj._values)\n\u001b[32m    453\u001b[39m         \u001b[38;5;28;01mexcept\u001b[39;00m (TypeError, NotImplementedError) \u001b[38;5;28;01mas\u001b[39;00m err:\n\u001b[32m    454\u001b[39m             \u001b[38;5;28;01mraise\u001b[39;00m DataError(\u001b[33m\"No numeric types to aggregate\"\u001b[39m) \u001b[38;5;28;01mfrom\u001b[39;00m err\n\u001b[32m    455\u001b[39m \n\u001b[32m--> \u001b[39m\u001b[32m456\u001b[39m         result = homogeneous_func(values)\n\u001b[32m    457\u001b[39m         index = self._slice_axis_for_step(obj.index, result)\n\u001b[32m    458\u001b[39m         \u001b[38;5;28;01mreturn\u001b[39;00m obj._constructor(result, index=index, name=obj.name)\n",
      "\u001b[32m~/.pyenv/versions/3.12.11/envs/forecast-v2/lib/python3.12/site-packages/pandas/core/window/rolling.py\u001b[39m in \u001b[36m?\u001b[39m\u001b[34m(values)\u001b[39m\n\u001b[32m    610\u001b[39m \n\u001b[32m    611\u001b[39m                 \u001b[38;5;28;01mreturn\u001b[39;00m func(x, start, end, min_periods, *numba_args)\n\u001b[32m    612\u001b[39m \n\u001b[32m    613\u001b[39m             \u001b[38;5;28;01mwith\u001b[39;00m np.errstate(all=\u001b[33m\"ignore\"\u001b[39m):\n\u001b[32m--> \u001b[39m\u001b[32m614\u001b[39m                 result = calc(values)\n\u001b[32m    615\u001b[39m \n\u001b[32m    616\u001b[39m             \u001b[38;5;28;01mreturn\u001b[39;00m result\n",
      "\u001b[32m~/.pyenv/versions/3.12.11/envs/forecast-v2/lib/python3.12/site-packages/pandas/core/window/rolling.py\u001b[39m in \u001b[36m?\u001b[39m\u001b[34m(x)\u001b[39m\n\u001b[32m    607\u001b[39m                     step=self.step,\n\u001b[32m    608\u001b[39m                 )\n\u001b[32m    609\u001b[39m                 self._check_window_bounds(start, end, len(x))\n\u001b[32m    610\u001b[39m \n\u001b[32m--> \u001b[39m\u001b[32m611\u001b[39m                 \u001b[38;5;28;01mreturn\u001b[39;00m func(x, start, end, min_periods, *numba_args)\n",
      "\u001b[32m~/.pyenv/versions/3.12.11/envs/forecast-v2/lib/python3.12/site-packages/pandas/core/window/rolling.py\u001b[39m in \u001b[36m?\u001b[39m\u001b[34m(values, begin, end, min_periods, raw)\u001b[39m\n\u001b[32m   1531\u001b[39m         \u001b[38;5;28;01mdef\u001b[39;00m apply_func(values, begin, end, min_periods, raw=raw):\n\u001b[32m   1532\u001b[39m             \u001b[38;5;28;01mif\u001b[39;00m \u001b[38;5;28;01mnot\u001b[39;00m raw:\n\u001b[32m   1533\u001b[39m                 \u001b[38;5;66;03m# GH 45912\u001b[39;00m\n\u001b[32m   1534\u001b[39m                 values = Series(values, index=self._on, copy=\u001b[38;5;28;01mFalse\u001b[39;00m)\n\u001b[32m-> \u001b[39m\u001b[32m1535\u001b[39m             \u001b[38;5;28;01mreturn\u001b[39;00m window_func(values, begin, end, min_periods)\n",
      "\u001b[32mpandas/_libs/window/aggregations.pyx\u001b[39m in \u001b[36m?\u001b[39m\u001b[34m()\u001b[39m\n\u001b[32m-> \u001b[39m\u001b[32m1422\u001b[39m \u001b[33m'Could not get source, probably due dynamically evaluated source code.'\u001b[39m\n",
      "\u001b[32m~/.pyenv/versions/3.12.11/envs/forecast-v2/lib/python3.12/site-packages/pandas/core/indexing.py\u001b[39m in \u001b[36m?\u001b[39m\u001b[34m(self, key)\u001b[39m\n\u001b[32m   1187\u001b[39m             axis = self.axis \u001b[38;5;28;01mor\u001b[39;00m \u001b[32m0\u001b[39m\n\u001b[32m   1188\u001b[39m \n\u001b[32m   1189\u001b[39m             maybe_callable = com.apply_if_callable(key, self.obj)\n\u001b[32m   1190\u001b[39m             maybe_callable = self._check_deprecated_callable_usage(key, maybe_callable)\n\u001b[32m-> \u001b[39m\u001b[32m1191\u001b[39m             \u001b[38;5;28;01mreturn\u001b[39;00m self._getitem_axis(maybe_callable, axis=axis)\n",
      "\u001b[32m~/.pyenv/versions/3.12.11/envs/forecast-v2/lib/python3.12/site-packages/pandas/core/indexing.py\u001b[39m in \u001b[36m?\u001b[39m\u001b[34m(self, key, axis)\u001b[39m\n\u001b[32m   1725\u001b[39m                 \u001b[33m\"Consider using .loc for automatic alignment.\"\u001b[39m\n\u001b[32m   1726\u001b[39m             )\n\u001b[32m   1727\u001b[39m \n\u001b[32m   1728\u001b[39m         \u001b[38;5;28;01mif\u001b[39;00m isinstance(key, slice):\n\u001b[32m-> \u001b[39m\u001b[32m1729\u001b[39m             \u001b[38;5;28;01mreturn\u001b[39;00m self._get_slice_axis(key, axis=axis)\n\u001b[32m   1730\u001b[39m \n\u001b[32m   1731\u001b[39m         \u001b[38;5;28;01mif\u001b[39;00m is_iterator(key):\n\u001b[32m   1732\u001b[39m             key = list(key)\n",
      "\u001b[32m~/.pyenv/versions/3.12.11/envs/forecast-v2/lib/python3.12/site-packages/pandas/core/indexing.py\u001b[39m in \u001b[36m?\u001b[39m\u001b[34m(self, slice_obj, axis)\u001b[39m\n\u001b[32m   1761\u001b[39m             \u001b[38;5;28;01mreturn\u001b[39;00m obj.copy(deep=\u001b[38;5;28;01mFalse\u001b[39;00m)\n\u001b[32m   1762\u001b[39m \n\u001b[32m   1763\u001b[39m         labels = obj._get_axis(axis)\n\u001b[32m   1764\u001b[39m         labels._validate_positional_slice(slice_obj)\n\u001b[32m-> \u001b[39m\u001b[32m1765\u001b[39m         \u001b[38;5;28;01mreturn\u001b[39;00m self.obj._slice(slice_obj, axis=axis)\n",
      "\u001b[32m~/.pyenv/versions/3.12.11/envs/forecast-v2/lib/python3.12/site-packages/pandas/core/series.py\u001b[39m in \u001b[36m?\u001b[39m\u001b[34m(self, slobj, axis)\u001b[39m\n\u001b[32m   1096\u001b[39m     \u001b[38;5;28;01mdef\u001b[39;00m _slice(self, slobj: slice, axis: AxisInt = \u001b[32m0\u001b[39m) -> Series:\n\u001b[32m   1097\u001b[39m         \u001b[38;5;66;03m# axis kwarg is retained for compat with NDFrame method\u001b[39;00m\n\u001b[32m   1098\u001b[39m         \u001b[38;5;66;03m#  _slice is *always* positional\u001b[39;00m\n\u001b[32m   1099\u001b[39m         mgr = self._mgr.get_slice(slobj, axis=axis)\n\u001b[32m-> \u001b[39m\u001b[32m1100\u001b[39m         out = self._constructor_from_mgr(mgr, axes=mgr.axes)\n\u001b[32m   1101\u001b[39m         out._name = self._name\n\u001b[32m   1102\u001b[39m         \u001b[38;5;28;01mreturn\u001b[39;00m out.__finalize__(self)\n",
      "\u001b[32m~/.pyenv/versions/3.12.11/envs/forecast-v2/lib/python3.12/site-packages/pandas/core/series.py\u001b[39m in \u001b[36m?\u001b[39m\u001b[34m(self, mgr, axes)\u001b[39m\n\u001b[32m    664\u001b[39m     \u001b[38;5;28;01mdef\u001b[39;00m _constructor_from_mgr(self, mgr, axes):\n\u001b[32m--> \u001b[39m\u001b[32m665\u001b[39m         ser = Series._from_mgr(mgr, axes=axes)\n\u001b[32m    666\u001b[39m         ser._name = \u001b[38;5;28;01mNone\u001b[39;00m  \u001b[38;5;66;03m# caller is responsible for setting real name\u001b[39;00m\n\u001b[32m    667\u001b[39m \n\u001b[32m    668\u001b[39m         \u001b[38;5;28;01mif\u001b[39;00m type(self) \u001b[38;5;28;01mis\u001b[39;00m Series:\n",
      "\u001b[32m~/.pyenv/versions/3.12.11/envs/forecast-v2/lib/python3.12/site-packages/pandas/core/generic.py\u001b[39m in \u001b[36m?\u001b[39m\u001b[34m(cls, mgr, axes)\u001b[39m\n\u001b[32m    353\u001b[39m         The axes must match mgr.axes, but are required \u001b[38;5;28;01mfor\u001b[39;00m future-proofing\n\u001b[32m    354\u001b[39m         \u001b[38;5;28;01min\u001b[39;00m the event that axes are refactored out of the Manager objects.\n\u001b[32m    355\u001b[39m         \"\"\"\n\u001b[32m    356\u001b[39m         obj = cls.__new__(cls)\n\u001b[32m--> \u001b[39m\u001b[32m357\u001b[39m         NDFrame.__init__(obj, mgr)\n\u001b[32m    358\u001b[39m         \u001b[38;5;28;01mreturn\u001b[39;00m obj\n",
      "\u001b[32m~/.pyenv/versions/3.12.11/envs/forecast-v2/lib/python3.12/site-packages/pandas/core/generic.py\u001b[39m in \u001b[36m?\u001b[39m\u001b[34m(self, data)\u001b[39m\n\u001b[32m    278\u001b[39m     \u001b[38;5;28;01mdef\u001b[39;00m __init__(self, data: Manager) -> \u001b[38;5;28;01mNone\u001b[39;00m:\n\u001b[32m    279\u001b[39m         object.__setattr__(self, \u001b[33m\"_is_copy\"\u001b[39m, \u001b[38;5;28;01mNone\u001b[39;00m)\n\u001b[32m--> \u001b[39m\u001b[32m280\u001b[39m         object.__setattr__(self, \u001b[33m\"_mgr\"\u001b[39m, data)\n\u001b[32m    281\u001b[39m         object.__setattr__(self, \u001b[33m\"_item_cache\"\u001b[39m, {})\n\u001b[32m    282\u001b[39m         object.__setattr__(self, \u001b[33m\"_attrs\"\u001b[39m, {})\n\u001b[32m    283\u001b[39m         object.__setattr__(self, \u001b[33m\"_flags\"\u001b[39m, Flags(self, allows_duplicate_labels=\u001b[38;5;28;01mTrue\u001b[39;00m))\n",
      "\u001b[31mKeyboardInterrupt\u001b[39m: "
     ]
    }
   ],
   "source": [
    "train_data_btc = create_all_features(df=df_train_btc, token=\"btc\", target_type=\"pct\", tp=2, sl=0.8, max_bars=60*6, atr_period=60*6)\n",
    "val_data_btc = create_all_features(df=df_val_btc, token=\"btc\", target_type=\"pct\", tp=2, sl=0.8, max_bars=60*6, atr_period=60*6)\n",
    "test_data_btc = create_all_features(df=df_test_btc, token=\"btc\", target_type=\"pct\", tp=2, sl=0.8, max_bars=60*6, atr_period=60*6)\n",
    "\n",
    "train_data_xrp = create_all_features(df=df_train_xrp, token=\"xrp\", target_type=\"pct\", tp=2, sl=0.8, max_bars=60*6, atr_period=60*6)\n",
    "val_data_xrp = create_all_features(df=df_val_xrp, token=\"xrp\", target_type=\"pct\", tp=2, sl=0.8, max_bars=60*6, atr_period=60*6)\n",
    "test_data_xrp = create_all_features(df=df_test_xrp, token=\"xrp\", target_type=\"pct\", tp=2, sl=0.8, max_bars=60*6, atr_period=60*6)"
   ]
  },
  {
   "cell_type": "code",
   "execution_count": null,
   "id": "f525f07c",
   "metadata": {},
   "outputs": [],
   "source": [
    "train_data = create_merged_feature(\n",
    "    main_feature_df=df_train_xrp,\n",
    "    complementry_data_df=df_train_btc,\n",
    "    main_token_name=\"xrp\",\n",
    "    complementry_token_name=\"btc\",\n",
    "    target_type=\"pct\",\n",
    "    tp=2,\n",
    "    sl=0.8,\n",
    "    max_bars=60 * 6,\n",
    "    atr_period=60 * 6,\n",
    ")\n",
    "\n",
    "val_data = create_merged_feature(\n",
    "    main_feature_df=df_val_xrp,\n",
    "    complementry_data_df=df_val_btc,\n",
    "    main_token_name=\"xrp\",\n",
    "    complementry_token_name=\"btc\",\n",
    "    target_type=\"pct\",\n",
    "    tp=2,\n",
    "    sl=0.8,\n",
    "    max_bars=60 * 6,\n",
    "    atr_period=60 * 6,\n",
    ")\n",
    "\n",
    "test_data = create_merged_feature(\n",
    "    main_feature_df=df_test_xrp,\n",
    "    complementry_data_df=df_test_btc,\n",
    "    main_token_name=\"xrp\",\n",
    "    complementry_token_name=\"btc\",\n",
    "    target_type=\"pct\",\n",
    "    tp=2,\n",
    "    sl=0.8,\n",
    "    max_bars=60 * 6,\n",
    "    atr_period=60 * 6,\n",
    ")"
   ]
  },
  {
   "cell_type": "code",
   "execution_count": null,
   "id": "692b8b16",
   "metadata": {},
   "outputs": [],
   "source": [
    "target_y = \"y_combined_1h_2h_4h\"\n",
    "target_x = \"X_combined_1h_2h_4h\""
   ]
  },
  {
   "cell_type": "markdown",
   "id": "f89d376d",
   "metadata": {},
   "source": [
    "### DEFINE MODEL"
   ]
  },
  {
   "cell_type": "code",
   "execution_count": null,
   "id": "585a8f11",
   "metadata": {},
   "outputs": [],
   "source": [
    "def get_model(input_shape, num_classes=3):\n",
    "    inputs = layers.Input(shape=input_shape, name=\"features\")\n",
    "    x = layers.BatchNormalization(name=\"batchnorm_input\")(inputs)\n",
    "    x = layers.Dense(\n",
    "        128, activation=\"relu\", kernel_regularizer=regularizers.l2(1e-4), name=\"dense_1\"\n",
    "    )(x)\n",
    "    x = layers.Dropout(0.3, name=\"dropout_1\")(x)\n",
    "    x = layers.Dense(\n",
    "        64, activation=\"relu\", kernel_regularizer=regularizers.l2(1e-4), name=\"dense_2\"\n",
    "    )(x)\n",
    "    x = layers.Dropout(0.3, name=\"dropout_2\")(x)\n",
    "    x = layers.Dense(\n",
    "        32, activation=\"relu\", kernel_regularizer=regularizers.l2(1e-4), name=\"dense_3\"\n",
    "    )(x)\n",
    "    x = layers.Dropout(0.2, name=\"dropout_3\")(x)\n",
    "    outputs = layers.Dense(num_classes, activation=\"softmax\", name=\"output\")(x)\n",
    "    model = models.Model(inputs=inputs, outputs=outputs, name=\"mlp_3class\")\n",
    "    model.compile(\n",
    "        optimizer=optimizers.Adam(learning_rate=0.003),\n",
    "        loss=\"categorical_crossentropy\",\n",
    "        metrics=[\"accuracy\"],\n",
    "    )\n",
    "    return model"
   ]
  },
  {
   "cell_type": "code",
   "execution_count": null,
   "id": "94b29b25",
   "metadata": {},
   "outputs": [],
   "source": [
    "def create_model():\n",
    "    return get_model(input_shape=(250,), num_classes=3)\n",
    "\n",
    "clf = KerasClassifier(\n",
    "    model=create_model,\n",
    "    optimizer=\"adam\",\n",
    "    loss=\"categorical_crossentropy\",\n",
    "    metrics=[\"precision\"],\n",
    "    epochs=50,\n",
    "    batch_size=32,\n",
    "    verbose=0,\n",
    ")\n",
    "\n",
    "nn_pipeline = Pipeline([\n",
    "    ('pca', PCA(n_components=250)),\n",
    "    ('clf', clf),\n",
    "])\n",
    "\n",
    "nn_xrp = get_model(input_shape=(train_data_btc[target_x].shape[1],), num_classes=3)\n",
    "nn_btc = get_model(input_shape=(train_data_btc[target_x].shape[1],), num_classes=3)\n",
    "\n",
    "es = EarlyStopping(\n",
    "    monitor=\"val_loss\",\n",
    "    patience=5,\n",
    "    restore_best_weights=True\n",
    ")\n"
   ]
  },
  {
   "cell_type": "markdown",
   "id": "d1e36ea4",
   "metadata": {},
   "source": [
    "### TRAIN MODEL ( EXPERIMENT )"
   ]
  },
  {
   "cell_type": "code",
   "execution_count": null,
   "id": "0308e321",
   "metadata": {},
   "outputs": [
    {
     "data": {
      "text/plain": [
       "0.6661175178473366"
      ]
     },
     "execution_count": 209,
     "metadata": {},
     "output_type": "execute_result"
    }
   ],
   "source": [
    "nn_pipeline.fit(\n",
    "    train_data[target_x],\n",
    "    train_data[target_y],\n",
    ")\n",
    "nn_pipeline.score(val_data[target_x], val_data[target_y])"
   ]
  },
  {
   "cell_type": "code",
   "execution_count": null,
   "id": "bc17e328",
   "metadata": {},
   "outputs": [
    {
     "name": "stdout",
     "output_type": "stream",
     "text": [
      "\u001b[1m57/57\u001b[0m \u001b[32m━━━━━━━━━━━━━━━━━━━━\u001b[0m\u001b[37m\u001b[0m \u001b[1m0s\u001b[0m 2ms/step - accuracy: 0.8742 - loss: 0.5659 \n"
     ]
    },
    {
     "data": {
      "text/plain": [
       "[1.091492772102356, 0.7924217581748962]"
      ]
     },
     "execution_count": 210,
     "metadata": {},
     "output_type": "execute_result"
    }
   ],
   "source": [
    "X_train = train_data_btc[target_x].values\n",
    "y_int = train_data_btc[target_y].values.reshape(-1)\n",
    "y_ohe = to_categorical(y_int, num_classes=3)\n",
    "\n",
    "nn_btc.fit(\n",
    "    X_train,\n",
    "    y_ohe,\n",
    "    epochs=25,\n",
    "    batch_size=32,\n",
    "    verbose=0,\n",
    "    callbacks=[es],\n",
    "    class_weight=CLASS_WEIGHT,\n",
    ")\n",
    "\n",
    "y_int_val = val_data_btc[target_y].values.reshape(-1)\n",
    "y_ohe_val = to_categorical(y_int_val, num_classes=3)\n",
    "print(nn_btc.evaluate(val_data_btc[target_x], y_ohe_val))\n",
    "\n",
    "y_int_test = test_data_btc[target_y].values.reshape(-1)\n",
    "y_ohe_test = to_categorical(y_int_test, num_classes=3)\n",
    "print(nn_btc.evaluate(test_data_btc[target_x], y_ohe_test))"
   ]
  },
  {
   "cell_type": "code",
   "execution_count": null,
   "id": "2de688f7",
   "metadata": {},
   "outputs": [
    {
     "name": "stdout",
     "output_type": "stream",
     "text": [
      "\u001b[1m57/57\u001b[0m \u001b[32m━━━━━━━━━━━━━━━━━━━━\u001b[0m\u001b[37m\u001b[0m \u001b[1m0s\u001b[0m 2ms/step - accuracy: 0.7132 - loss: 0.8610 \n"
     ]
    },
    {
     "data": {
      "text/plain": [
       "[1.147325873374939, 0.6507413387298584]"
      ]
     },
     "execution_count": 211,
     "metadata": {},
     "output_type": "execute_result"
    }
   ],
   "source": [
    "X_train = train_data_xrp[target_x].values\n",
    "y_int = train_data_xrp[target_y].values.reshape(-1)\n",
    "y_ohe = to_categorical(y_int, num_classes=3)\n",
    "\n",
    "nn_xrp.fit(\n",
    "    X_train,\n",
    "    y_ohe,\n",
    "    epochs=25,\n",
    "    batch_size=32,\n",
    "    verbose=0,\n",
    "    callbacks=[es],\n",
    "    class_weight=CLASS_WEIGHT,\n",
    ")\n",
    "\n",
    "y_int_val = val_data_xrp[target_y].values.reshape(-1)\n",
    "y_ohe_val = to_categorical(y_int_val, num_classes=3)\n",
    "print(nn_xrp.evaluate(val_data_xrp[target_x], y_ohe_val))\n",
    "\n",
    "y_int_test = test_data_xrp[target_y].values.reshape(-1)\n",
    "y_ohe_test = to_categorical(y_int_test, num_classes=3)\n",
    "print(nn_xrp.evaluate(test_data_xrp[target_x], y_ohe_test))"
   ]
  },
  {
   "cell_type": "markdown",
   "id": "3100d538",
   "metadata": {},
   "source": [
    "### EVALUATION"
   ]
  },
  {
   "cell_type": "markdown",
   "id": "de5a4a2e",
   "metadata": {},
   "source": [
    "##### GROUPED FEATURE MODEL"
   ]
  },
  {
   "cell_type": "code",
   "execution_count": null,
   "id": "2b9594de",
   "metadata": {},
   "outputs": [
    {
     "name": "stdout",
     "output_type": "stream",
     "text": [
      "MINIMUM PRECISION TO BREAK EVEN (BEFORE FEES) - 0.27586206896551724\n"
     ]
    }
   ],
   "source": [
    "break_even_precision = 1/(1+(TAKE_PROFIT/STOP_LOSS))\n",
    "print(f\"MINIMUM PRECISION TO BREAK EVEN (BEFORE FEES) - {break_even_precision}\")"
   ]
  },
  {
   "cell_type": "code",
   "execution_count": null,
   "id": "f9be4b5d",
   "metadata": {},
   "outputs": [
    {
     "name": "stdout",
     "output_type": "stream",
     "text": [
      "|   class |    BTC_precision       |\n",
      "|---------|------------------------|\n",
      "|       1 | 0.09 (33 | 208 | 1344) |\n",
      "|       2 | 0.26 (38 | 269 | 1344) |\n",
      "Prediction time - 0.05\n",
      "Start Date => 2025-02-15 00:30:00+00:00, End Date => 2025-03-15 00:00:00+00:00\n",
      "\n",
      "overall winrate => 0.19718309859154928\n",
      "long winrate    => 0.12121212121212122\n",
      "short winrate    => 0.2631578947368421\n",
      "\n"
     ]
    },
    {
     "data": {
      "application/vnd.microsoft.datawrangler.viewer.v0+json": {
       "columns": [
        {
         "name": "index",
         "rawType": "object",
         "type": "string"
        },
        {
         "name": "group",
         "rawType": "object",
         "type": "unknown"
        }
       ],
       "ref": "745c7481-75d3-452f-8916-b188e9dc8ff5",
       "rows": [
        [
         "Start",
         "2025-02-15 00:01:00+00:00"
        ],
        [
         "End",
         "2025-03-15 00:00:00+00:00"
        ],
        [
         "Period",
         "28 days 00:00:00"
        ],
        [
         "Start Value",
         "100.0"
        ],
        [
         "End Value",
         "99.7675381045777"
        ],
        [
         "Total Return [%]",
         "-0.23246189542230922"
        ],
        [
         "Benchmark Return [%]",
         "-29.810889977022615"
        ],
        [
         "Max Gross Exposure [%]",
         "1.0204482021573935"
        ],
        [
         "Total Fees Paid",
         "0.043976039085245784"
        ],
        [
         "Max Drawdown [%]",
         "0.2332070860447408"
        ],
        [
         "Max Drawdown Duration",
         "25 days 10:55:00"
        ],
        [
         "Total Trades",
         "44"
        ],
        [
         "Total Closed Trades",
         "44"
        ],
        [
         "Total Open Trades",
         "0"
        ],
        [
         "Open Trade PnL",
         "0.0"
        ],
        [
         "Win Rate [%]",
         "15.909090909090908"
        ],
        [
         "Best Trade [%]",
         "2.0203863904036288"
        ],
        [
         "Worst Trade [%]",
         "-1.441064316934183"
        ],
        [
         "Avg Winning Trade [%]",
         "1.904449923380578"
        ],
        [
         "Avg Losing Trade [%]",
         "-0.9885508975127766"
        ],
        [
         "Avg Winning Trade Duration",
         "0 days 01:50:42.857142857"
        ],
        [
         "Avg Losing Trade Duration",
         "0 days 02:01:25.945945945"
        ],
        [
         "Profit Factor",
         "0.36445937613899526"
        ],
        [
         "Expectancy",
         "-0.0052832248959615805"
        ],
        [
         "Sharpe Ratio",
         "-10.555387077654567"
        ],
        [
         "Calmar Ratio",
         "-12.813828496160497"
        ],
        [
         "Omega Ratio",
         "0.890152107422497"
        ],
        [
         "Sortino Ratio",
         "-14.170904298347628"
        ]
       ],
       "shape": {
        "columns": 1,
        "rows": 28
       }
      },
      "text/plain": [
       "Start                         2025-02-15 00:01:00+00:00\n",
       "End                           2025-03-15 00:00:00+00:00\n",
       "Period                                 28 days 00:00:00\n",
       "Start Value                                       100.0\n",
       "End Value                                     99.767538\n",
       "Total Return [%]                              -0.232462\n",
       "Benchmark Return [%]                          -29.81089\n",
       "Max Gross Exposure [%]                         1.020448\n",
       "Total Fees Paid                                0.043976\n",
       "Max Drawdown [%]                               0.233207\n",
       "Max Drawdown Duration                  25 days 10:55:00\n",
       "Total Trades                                         44\n",
       "Total Closed Trades                                  44\n",
       "Total Open Trades                                     0\n",
       "Open Trade PnL                                      0.0\n",
       "Win Rate [%]                                  15.909091\n",
       "Best Trade [%]                                 2.020386\n",
       "Worst Trade [%]                               -1.441064\n",
       "Avg Winning Trade [%]                           1.90445\n",
       "Avg Losing Trade [%]                          -0.988551\n",
       "Avg Winning Trade Duration    0 days 01:50:42.857142857\n",
       "Avg Losing Trade Duration     0 days 02:01:25.945945945\n",
       "Profit Factor                                  0.364459\n",
       "Expectancy                                    -0.005283\n",
       "Sharpe Ratio                                 -10.555387\n",
       "Calmar Ratio                                 -12.813828\n",
       "Omega Ratio                                    0.890152\n",
       "Sortino Ratio                                -14.170904\n",
       "Name: group, dtype: object"
      ]
     },
     "execution_count": 213,
     "metadata": {},
     "output_type": "execute_result"
    }
   ],
   "source": [
    "position_val_backtest, vectorbt_val_backtest = evaluate_token_strategy(\n",
    "    model=nn_pipeline,\n",
    "    data=val_data,\n",
    "    data_1m=df_val_xrp,\n",
    "    target_x=target_x,\n",
    "    target_y=target_y,\n",
    "    val_end_date=TRAIN_END_DATE,\n",
    "    token_name=\"XRP\",\n",
    "    classes=(1,2),\n",
    "    long_proba=LONG_PROBA,\n",
    "    short_proba=SHORT_PROBA,\n",
    "    trade_size=1,\n",
    "    use_proba=True,\n",
    "    atr_target=False,\n",
    "    tp = TAKE_PROFIT,\n",
    "    sl = STOP_LOSS,\n",
    "    atr_period = 60 * 5,\n",
    "    tp_pct = TAKE_PROFIT_PCT,\n",
    "    sl_pct = STOP_LOSS_PCT,\n",
    "    nn = False\n",
    ")\n",
    "\n",
    "overall_winrate = position_val_backtest['metrics']['overall']['trade_metrics']['win_rate']\n",
    "long_win_rate = position_val_backtest['metrics']['long']['trade_metrics']['win_rate']\n",
    "short_win_rate = position_val_backtest['metrics']['short']['trade_metrics']['win_rate']\n",
    "\n",
    "print(f\"\"\"\n",
    "overall winrate => {overall_winrate}\n",
    "long winrate    => {long_win_rate}\n",
    "short winrate    => {short_win_rate}\n",
    "\"\"\")\n",
    "\n",
    "vectorbt_val_backtest.stats()"
   ]
  },
  {
   "cell_type": "code",
   "execution_count": null,
   "id": "04fb70cc",
   "metadata": {},
   "outputs": [
    {
     "name": "stdout",
     "output_type": "stream",
     "text": [
      "|   class |    BTC_precision        |\n",
      "|---------|-------------------------|\n",
      "|       1 | 0.12 (52 | 633 | 4176)  |\n",
      "|       2 | 0.10 (159 | 542 | 4176) |\n",
      "Prediction time - 0.05\n",
      "Start Date => 2025-03-15 00:30:00+00:00, End Date => 2025-06-10 00:00:00+00:00\n",
      "\n",
      "overall winrate => 0.24170616113744076\n",
      "long winrate    => 0.19230769230769232\n",
      "short winrate    => 0.2578616352201258\n",
      "\n"
     ]
    },
    {
     "data": {
      "application/vnd.microsoft.datawrangler.viewer.v0+json": {
       "columns": [
        {
         "name": "index",
         "rawType": "object",
         "type": "string"
        },
        {
         "name": "group",
         "rawType": "object",
         "type": "unknown"
        }
       ],
       "ref": "a69b871e-7a12-4032-b1d4-8d72313c4ad1",
       "rows": [
        [
         "Start",
         "2025-03-15 00:01:00+00:00"
        ],
        [
         "End",
         "2025-06-10 00:00:00+00:00"
        ],
        [
         "Period",
         "87 days 00:00:00"
        ],
        [
         "Start Value",
         "100.0"
        ],
        [
         "End Value",
         "99.60941317443775"
        ],
        [
         "Total Return [%]",
         "-0.39058682556225865"
        ],
        [
         "Benchmark Return [%]",
         "40.36923979119733"
        ],
        [
         "Max Gross Exposure [%]",
         "1.0226571449844486"
        ],
        [
         "Total Fees Paid",
         "0.11310354587669098"
        ],
        [
         "Max Drawdown [%]",
         "0.43309375047822385"
        ],
        [
         "Max Drawdown Duration",
         "79 days 00:22:00"
        ],
        [
         "Total Trades",
         "113"
        ],
        [
         "Total Closed Trades",
         "113"
        ],
        [
         "Total Open Trades",
         "0"
        ],
        [
         "Open Trade PnL",
         "0.0"
        ],
        [
         "Win Rate [%]",
         "22.123893805309734"
        ],
        [
         "Best Trade [%]",
         "2.5456380858261314"
        ],
        [
         "Worst Trade [%]",
         "-1.6023329375074786"
        ],
        [
         "Avg Winning Trade [%]",
         "1.9139730974957958"
        ],
        [
         "Avg Losing Trade [%]",
         "-0.9876511785690936"
        ],
        [
         "Avg Winning Trade Duration",
         "0 days 07:16:57.600000"
        ],
        [
         "Avg Losing Trade Duration",
         "0 days 02:31:06.818181818"
        ],
        [
         "Profit Factor",
         "0.5505643249670409"
        ],
        [
         "Expectancy",
         "-0.0034565205801969767"
        ],
        [
         "Sharpe Ratio",
         "-6.066012187943019"
        ],
        [
         "Calmar Ratio",
         "-3.7600914192414097"
        ],
        [
         "Omega Ratio",
         "0.9449322895640367"
        ],
        [
         "Sortino Ratio",
         "-8.275206120643476"
        ]
       ],
       "shape": {
        "columns": 1,
        "rows": 28
       }
      },
      "text/plain": [
       "Start                         2025-03-15 00:01:00+00:00\n",
       "End                           2025-06-10 00:00:00+00:00\n",
       "Period                                 87 days 00:00:00\n",
       "Start Value                                       100.0\n",
       "End Value                                     99.609413\n",
       "Total Return [%]                              -0.390587\n",
       "Benchmark Return [%]                           40.36924\n",
       "Max Gross Exposure [%]                         1.022657\n",
       "Total Fees Paid                                0.113104\n",
       "Max Drawdown [%]                               0.433094\n",
       "Max Drawdown Duration                  79 days 00:22:00\n",
       "Total Trades                                        113\n",
       "Total Closed Trades                                 113\n",
       "Total Open Trades                                     0\n",
       "Open Trade PnL                                      0.0\n",
       "Win Rate [%]                                  22.123894\n",
       "Best Trade [%]                                 2.545638\n",
       "Worst Trade [%]                               -1.602333\n",
       "Avg Winning Trade [%]                          1.913973\n",
       "Avg Losing Trade [%]                          -0.987651\n",
       "Avg Winning Trade Duration       0 days 07:16:57.600000\n",
       "Avg Losing Trade Duration     0 days 02:31:06.818181818\n",
       "Profit Factor                                  0.550564\n",
       "Expectancy                                    -0.003457\n",
       "Sharpe Ratio                                  -6.066012\n",
       "Calmar Ratio                                  -3.760091\n",
       "Omega Ratio                                    0.944932\n",
       "Sortino Ratio                                 -8.275206\n",
       "Name: group, dtype: object"
      ]
     },
     "execution_count": 214,
     "metadata": {},
     "output_type": "execute_result"
    }
   ],
   "source": [
    "position_test_backtest, vectorbt_test_backtest = evaluate_token_strategy(\n",
    "    model=nn_pipeline,\n",
    "    data=test_data,\n",
    "    data_1m=df_test_xrp,\n",
    "    target_x=target_x,\n",
    "    target_y=target_y,\n",
    "    val_end_date=VAL_END_DATE,\n",
    "    token_name=\"XRP\",\n",
    "    classes=(1,2),\n",
    "    long_proba=LONG_PROBA,\n",
    "    short_proba=SHORT_PROBA,\n",
    "    trade_size=1,\n",
    "    use_proba=True,\n",
    "    atr_target=False,\n",
    "    tp = TAKE_PROFIT,\n",
    "    sl = STOP_LOSS,\n",
    "    atr_period = 60 * 5,\n",
    "    tp_pct = TAKE_PROFIT_PCT,\n",
    "    sl_pct = STOP_LOSS_PCT,\n",
    "    nn = False\n",
    ")\n",
    "\n",
    "overall_winrate = position_test_backtest['metrics']['overall']['trade_metrics']['win_rate']\n",
    "long_win_rate = position_test_backtest['metrics']['long']['trade_metrics']['win_rate']\n",
    "short_win_rate = position_test_backtest['metrics']['short']['trade_metrics']['win_rate']\n",
    "print(f\"\"\"\n",
    "overall winrate => {overall_winrate}\n",
    "long winrate    => {long_win_rate}\n",
    "short winrate    => {short_win_rate}\n",
    "\"\"\")\n",
    "\n",
    "vectorbt_test_backtest.stats()"
   ]
  },
  {
   "cell_type": "markdown",
   "id": "d04f8921",
   "metadata": {},
   "source": [
    "##### INDIVIDUAL FEATURE MODEL"
   ]
  },
  {
   "cell_type": "code",
   "execution_count": null,
   "id": "66453ed6",
   "metadata": {},
   "outputs": [
    {
     "name": "stdout",
     "output_type": "stream",
     "text": [
      "\u001b[1m42/42\u001b[0m \u001b[32m━━━━━━━━━━━━━━━━━━━━\u001b[0m\u001b[37m\u001b[0m \u001b[1m0s\u001b[0m 1ms/step \n",
      "|   class |    BTC_precision       |\n",
      "|---------|------------------------|\n",
      "|       1 | 0.00 (3 | 208 | 1344)  |\n",
      "|       2 | 0.33 (3 | 269 | 1344)  |\n",
      "Prediction time - 0.00\n",
      "Start Date => 2025-02-15 00:30:00+00:00, End Date => 2025-03-15 00:00:00+00:00\n",
      "\u001b[1m42/42\u001b[0m \u001b[32m━━━━━━━━━━━━━━━━━━━━\u001b[0m\u001b[37m\u001b[0m \u001b[1m0s\u001b[0m 1ms/step \n",
      "\n",
      "overall winrate => 0.16666666666666666\n",
      "long winrate    => 0.0\n",
      "short winrate    => 0.3333333333333333\n",
      "\n"
     ]
    },
    {
     "data": {
      "application/vnd.microsoft.datawrangler.viewer.v0+json": {
       "columns": [
        {
         "name": "index",
         "rawType": "object",
         "type": "string"
        },
        {
         "name": "group",
         "rawType": "object",
         "type": "unknown"
        }
       ],
       "ref": "817cee5b-0a79-44f1-8bbb-36e294b393bf",
       "rows": [
        [
         "Start",
         "2025-02-15 00:01:00+00:00"
        ],
        [
         "End",
         "2025-03-15 00:00:00+00:00"
        ],
        [
         "Period",
         "28 days 00:00:00"
        ],
        [
         "Start Value",
         "100.0"
        ],
        [
         "End Value",
         "99.97948067338673"
        ],
        [
         "Total Return [%]",
         "-0.02051932661326672"
        ],
        [
         "Benchmark Return [%]",
         "-29.810889977022615"
        ],
        [
         "Max Gross Exposure [%]",
         "1.0045692737887564"
        ],
        [
         "Total Fees Paid",
         "0.0049893397559311724"
        ],
        [
         "Max Drawdown [%]",
         "0.02855742319635609"
        ],
        [
         "Max Drawdown Duration",
         "24 days 17:53:00"
        ],
        [
         "Total Trades",
         "5"
        ],
        [
         "Total Closed Trades",
         "5"
        ],
        [
         "Total Open Trades",
         "0"
        ],
        [
         "Open Trade PnL",
         "0.0"
        ],
        [
         "Win Rate [%]",
         "20.0"
        ],
        [
         "Best Trade [%]",
         "1.7503520243940738"
        ],
        [
         "Worst Trade [%]",
         "-1.1572607317337962"
        ],
        [
         "Avg Winning Trade [%]",
         "1.7503520243940738"
        ],
        [
         "Avg Losing Trade [%]",
         "-0.9504716233298094"
        ],
        [
         "Avg Winning Trade Duration",
         "0 days 01:21:00"
        ],
        [
         "Avg Losing Trade Duration",
         "0 days 01:19:00"
        ],
        [
         "Profit Factor",
         "0.46029249081228724"
        ],
        [
         "Expectancy",
         "-0.0041038653226533415"
        ],
        [
         "Sharpe Ratio",
         "-3.275094941269112"
        ],
        [
         "Calmar Ratio",
         "-9.354976837970993"
        ],
        [
         "Omega Ratio",
         "0.8862286948981022"
        ],
        [
         "Sortino Ratio",
         "-4.489204710982625"
        ]
       ],
       "shape": {
        "columns": 1,
        "rows": 28
       }
      },
      "text/plain": [
       "Start                         2025-02-15 00:01:00+00:00\n",
       "End                           2025-03-15 00:00:00+00:00\n",
       "Period                                 28 days 00:00:00\n",
       "Start Value                                       100.0\n",
       "End Value                                     99.979481\n",
       "Total Return [%]                              -0.020519\n",
       "Benchmark Return [%]                          -29.81089\n",
       "Max Gross Exposure [%]                         1.004569\n",
       "Total Fees Paid                                0.004989\n",
       "Max Drawdown [%]                               0.028557\n",
       "Max Drawdown Duration                  24 days 17:53:00\n",
       "Total Trades                                          5\n",
       "Total Closed Trades                                   5\n",
       "Total Open Trades                                     0\n",
       "Open Trade PnL                                      0.0\n",
       "Win Rate [%]                                       20.0\n",
       "Best Trade [%]                                 1.750352\n",
       "Worst Trade [%]                               -1.157261\n",
       "Avg Winning Trade [%]                          1.750352\n",
       "Avg Losing Trade [%]                          -0.950472\n",
       "Avg Winning Trade Duration              0 days 01:21:00\n",
       "Avg Losing Trade Duration               0 days 01:19:00\n",
       "Profit Factor                                  0.460292\n",
       "Expectancy                                    -0.004104\n",
       "Sharpe Ratio                                  -3.275095\n",
       "Calmar Ratio                                  -9.354977\n",
       "Omega Ratio                                    0.886229\n",
       "Sortino Ratio                                 -4.489205\n",
       "Name: group, dtype: object"
      ]
     },
     "execution_count": 215,
     "metadata": {},
     "output_type": "execute_result"
    }
   ],
   "source": [
    "position_val_backtest, vectorbt_val_backtest = evaluate_token_strategy(\n",
    "    model=nn_xrp,\n",
    "    data=val_data_xrp,\n",
    "    data_1m=df_val_xrp,\n",
    "    target_x=target_x,\n",
    "    target_y=target_y,\n",
    "    val_end_date=TRAIN_END_DATE,\n",
    "    token_name=\"XRP\",\n",
    "    classes=(1,2),\n",
    "    long_proba=LONG_PROBA,\n",
    "    short_proba=SHORT_PROBA,\n",
    "    trade_size=1,\n",
    "    use_proba=True,\n",
    "    atr_target=False,\n",
    "    tp = TAKE_PROFIT,\n",
    "    sl = STOP_LOSS,\n",
    "    atr_period = 60 * 5,\n",
    "    tp_pct = TAKE_PROFIT_PCT,\n",
    "    sl_pct = STOP_LOSS_PCT,\n",
    "    nn = True\n",
    ")\n",
    "\n",
    "overall_winrate = position_val_backtest['metrics']['overall']['trade_metrics']['win_rate']\n",
    "long_win_rate = position_val_backtest['metrics']['long']['trade_metrics']['win_rate']\n",
    "short_win_rate = position_val_backtest['metrics']['short']['trade_metrics']['win_rate']\n",
    "\n",
    "print(f\"\"\"\n",
    "overall winrate => {overall_winrate}\n",
    "long winrate    => {long_win_rate}\n",
    "short winrate    => {short_win_rate}\n",
    "\"\"\")\n",
    "\n",
    "vectorbt_val_backtest.stats()"
   ]
  },
  {
   "cell_type": "code",
   "execution_count": null,
   "id": "902779f0",
   "metadata": {},
   "outputs": [
    {
     "name": "stdout",
     "output_type": "stream",
     "text": [
      "\u001b[1m131/131\u001b[0m \u001b[32m━━━━━━━━━━━━━━━━━━━━\u001b[0m\u001b[37m\u001b[0m \u001b[1m0s\u001b[0m 2ms/step\n",
      "|   class |    BTC_precision       |\n",
      "|---------|------------------------|\n",
      "|       1 | 0.25 (4 | 633 | 4176)  |\n",
      "|       2 | 0.00 (11 | 542 | 4176) |\n",
      "Prediction time - 0.00\n",
      "Start Date => 2025-03-15 00:30:00+00:00, End Date => 2025-06-10 00:00:00+00:00\n",
      "\u001b[1m131/131\u001b[0m \u001b[32m━━━━━━━━━━━━━━━━━━━━\u001b[0m\u001b[37m\u001b[0m \u001b[1m0s\u001b[0m 1ms/step  \n",
      "\n",
      "overall winrate => 0.06666666666666667\n",
      "long winrate    => 0.25\n",
      "short winrate    => 0.0\n",
      "\n"
     ]
    },
    {
     "data": {
      "application/vnd.microsoft.datawrangler.viewer.v0+json": {
       "columns": [
        {
         "name": "index",
         "rawType": "object",
         "type": "string"
        },
        {
         "name": "group",
         "rawType": "object",
         "type": "unknown"
        }
       ],
       "ref": "d6b3fca1-99a8-4dd3-b8bb-b54395078458",
       "rows": [
        [
         "Start",
         "2025-03-15 00:01:00+00:00"
        ],
        [
         "End",
         "2025-06-10 00:00:00+00:00"
        ],
        [
         "Period",
         "87 days 00:00:00"
        ],
        [
         "Start Value",
         "100.0"
        ],
        [
         "End Value",
         "99.94215979172304"
        ],
        [
         "Total Return [%]",
         "-0.05784020827696024"
        ],
        [
         "Benchmark Return [%]",
         "40.36923979119733"
        ],
        [
         "Max Gross Exposure [%]",
         "1.0208003563831294"
        ],
        [
         "Total Fees Paid",
         "0.00801779294466848"
        ],
        [
         "Max Drawdown [%]",
         "0.061358528763477055"
        ],
        [
         "Max Drawdown Duration",
         "80 days 08:45:00"
        ],
        [
         "Total Trades",
         "8"
        ],
        [
         "Total Closed Trades",
         "8"
        ],
        [
         "Total Open Trades",
         "0"
        ],
        [
         "Open Trade PnL",
         "0.0"
        ],
        [
         "Win Rate [%]",
         "12.5"
        ],
        [
         "Best Trade [%]",
         "1.8566589125476811"
        ],
        [
         "Worst Trade [%]",
         "-1.8335473314595891"
        ],
        [
         "Avg Winning Trade [%]",
         "1.8566589125476811"
        ],
        [
         "Avg Losing Trade [%]",
         "-1.0916354508065944"
        ],
        [
         "Avg Winning Trade Duration",
         "0 days 01:03:00"
        ],
        [
         "Avg Losing Trade Duration",
         "0 days 02:47:17.142857142"
        ],
        [
         "Profit Factor",
         "0.24303335062485773"
        ],
        [
         "Expectancy",
         "-0.007230026034620023"
        ],
        [
         "Sharpe Ratio",
         "-3.7988527141946693"
        ],
        [
         "Calmar Ratio",
         "-3.951183224498874"
        ],
        [
         "Omega Ratio",
         "0.8536767414311758"
        ],
        [
         "Sortino Ratio",
         "-4.733818228430603"
        ]
       ],
       "shape": {
        "columns": 1,
        "rows": 28
       }
      },
      "text/plain": [
       "Start                         2025-03-15 00:01:00+00:00\n",
       "End                           2025-06-10 00:00:00+00:00\n",
       "Period                                 87 days 00:00:00\n",
       "Start Value                                       100.0\n",
       "End Value                                      99.94216\n",
       "Total Return [%]                               -0.05784\n",
       "Benchmark Return [%]                           40.36924\n",
       "Max Gross Exposure [%]                           1.0208\n",
       "Total Fees Paid                                0.008018\n",
       "Max Drawdown [%]                               0.061359\n",
       "Max Drawdown Duration                  80 days 08:45:00\n",
       "Total Trades                                          8\n",
       "Total Closed Trades                                   8\n",
       "Total Open Trades                                     0\n",
       "Open Trade PnL                                      0.0\n",
       "Win Rate [%]                                       12.5\n",
       "Best Trade [%]                                 1.856659\n",
       "Worst Trade [%]                               -1.833547\n",
       "Avg Winning Trade [%]                          1.856659\n",
       "Avg Losing Trade [%]                          -1.091635\n",
       "Avg Winning Trade Duration              0 days 01:03:00\n",
       "Avg Losing Trade Duration     0 days 02:47:17.142857142\n",
       "Profit Factor                                  0.243033\n",
       "Expectancy                                     -0.00723\n",
       "Sharpe Ratio                                  -3.798853\n",
       "Calmar Ratio                                  -3.951183\n",
       "Omega Ratio                                    0.853677\n",
       "Sortino Ratio                                 -4.733818\n",
       "Name: group, dtype: object"
      ]
     },
     "execution_count": 216,
     "metadata": {},
     "output_type": "execute_result"
    }
   ],
   "source": [
    "position_test_backtest, vectorbt_test_backtest = evaluate_token_strategy(\n",
    "    model=nn_xrp,\n",
    "    data=test_data_xrp,\n",
    "    data_1m=df_test_xrp,\n",
    "    target_x=target_x,\n",
    "    target_y=target_y,\n",
    "    val_end_date=VAL_END_DATE,\n",
    "    token_name=\"XRP\",\n",
    "    classes=(1,2),\n",
    "    long_proba=LONG_PROBA,\n",
    "    short_proba=SHORT_PROBA,\n",
    "    trade_size=1,\n",
    "    use_proba=True,\n",
    "    atr_target=False,\n",
    "    tp = TAKE_PROFIT,\n",
    "    sl = STOP_LOSS,\n",
    "    atr_period = 60 * 5,\n",
    "    tp_pct = TAKE_PROFIT_PCT,\n",
    "    sl_pct = STOP_LOSS_PCT,\n",
    "    nn = True\n",
    ")\n",
    "\n",
    "overall_winrate = position_test_backtest['metrics']['overall']['trade_metrics']['win_rate']\n",
    "long_win_rate = position_test_backtest['metrics']['long']['trade_metrics']['win_rate']\n",
    "short_win_rate = position_test_backtest['metrics']['short']['trade_metrics']['win_rate']\n",
    "print(f\"\"\"\n",
    "overall winrate => {overall_winrate}\n",
    "long winrate    => {long_win_rate}\n",
    "short winrate    => {short_win_rate}\n",
    "\"\"\")\n",
    "\n",
    "vectorbt_test_backtest.stats()"
   ]
  },
  {
   "cell_type": "code",
   "execution_count": null,
   "id": "58789a5f",
   "metadata": {},
   "outputs": [],
   "source": []
  }
 ],
 "metadata": {
  "kernelspec": {
   "display_name": "forecast-v2",
   "language": "python",
   "name": "python3"
  },
  "language_info": {
   "codemirror_mode": {
    "name": "ipython",
    "version": 3
   },
   "file_extension": ".py",
   "mimetype": "text/x-python",
   "name": "python",
   "nbconvert_exporter": "python",
   "pygments_lexer": "ipython3",
   "version": "3.12.11"
  }
 },
 "nbformat": 4,
 "nbformat_minor": 5
}
