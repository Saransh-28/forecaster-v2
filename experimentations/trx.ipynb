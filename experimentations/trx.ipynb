{
 "cells": [
  {
   "cell_type": "markdown",
   "id": "1bf64ff7",
   "metadata": {},
   "source": [
    "### IMPORTS"
   ]
  },
  {
   "cell_type": "code",
   "execution_count": null,
   "id": "fd2c952f",
   "metadata": {},
   "outputs": [],
   "source": [
    "from dotenv import load_dotenv\n",
    "import os\n",
    "\n",
    "load_dotenv()\n",
    "root = os.environ.get(\"ROOT_PATH\", \".\")\n",
    "os.chdir(root)\n",
    "from datetime import datetime, timedelta\n",
    "from data_preprocessing.fetch_data import fetch_ohlcv_to_df\n",
    "from data_preprocessing.training_helpers import evaluate_token_strategy\n",
    "from data_preprocessing.training_helpers import create_merged_feature\n",
    "import tensorflow as tf\n",
    "from data_preprocessing.training_helpers import create_all_features\n",
    "from tensorflow.keras import layers, models, optimizers, regularizers\n",
    "from tensorflow.keras.utils import to_categorical\n",
    "import warnings\n",
    "from sklearn.decomposition import PCA\n",
    "from scikeras.wrappers import KerasClassifier\n",
    "from sklearn.pipeline import Pipeline\n",
    "from tensorflow.keras.callbacks import EarlyStopping\n",
    "\n",
    "warnings.filterwarnings(\"ignore\")"
   ]
  },
  {
   "cell_type": "markdown",
   "id": "fcacb8fd",
   "metadata": {},
   "source": [
    "### CONSTATNTS"
   ]
  },
  {
   "cell_type": "code",
   "execution_count": null,
   "id": "5636d133",
   "metadata": {},
   "outputs": [],
   "source": [
    "EXCHANGE = \"binance\"\n",
    "TRAIN_START_DATE = \"2024-07-01 00:00:00\"\n",
    "TRAIN_END_DATE = \"2025-02-15 00:01:00\"\n",
    "SET_OVERLAPPING_DAYS = 20\n",
    "VAL_START_DATE = (datetime.strptime(TRAIN_END_DATE, \"%Y-%m-%d %H:%M:%S\") - timedelta(days=SET_OVERLAPPING_DAYS)).strftime(\"%Y-%m-%d %H:%M:%S\")\n",
    "VAL_END_DATE = \"2025-03-15 00:01:00\"\n",
    "TEST_START_DATE = (datetime.strptime(VAL_END_DATE, \"%Y-%m-%d %H:%M:%S\") - timedelta(days=SET_OVERLAPPING_DAYS)).strftime(\"%Y-%m-%d %H:%M:%S\")\n",
    "TEST_END_DATE = \"2025-06-10 00:01:00\"\n",
    "ALL_START_DATE = \"2024-10-20 00:00:00\"\n",
    "ALL_END_DATE = \"2025-06-10 00:01:00\"\n",
    "LONG_PROBA = 0.6\n",
    "SHORT_PROBA = 0.6\n",
    "TAKE_PROFIT = 2\n",
    "STOP_LOSS = 0.8\n",
    "TAKE_PROFIT_PCT = TAKE_PROFIT/100\n",
    "STOP_LOSS_PCT = STOP_LOSS / 100\n",
    "CLASS_WEIGHT = { 0:0.3, 1: 1, 2:1 }"
   ]
  },
  {
   "cell_type": "markdown",
   "id": "64756412",
   "metadata": {},
   "source": [
    "### LOAD DATA"
   ]
  },
  {
   "cell_type": "code",
   "execution_count": null,
   "id": "28d4cdd7",
   "metadata": {},
   "outputs": [],
   "source": [
    "df_train_trx = await fetch_ohlcv_to_df(\"TRX/USDT\", TRAIN_START_DATE, TRAIN_END_DATE)\n",
    "df_val_trx = await fetch_ohlcv_to_df(\"TRX/USDT\", VAL_START_DATE, VAL_END_DATE)\n",
    "df_test_trx = await fetch_ohlcv_to_df(\"TRX/USDT\", TEST_START_DATE, TEST_END_DATE)\n",
    "\n",
    "df_train_btc = await fetch_ohlcv_to_df(\"BTC/USDT\", TRAIN_START_DATE, TRAIN_END_DATE)\n",
    "df_val_btc = await fetch_ohlcv_to_df(\"BTC/USDT\", VAL_START_DATE, VAL_END_DATE)\n",
    "df_test_btc = await fetch_ohlcv_to_df(\"BTC/USDT\", TEST_START_DATE, TEST_END_DATE)"
   ]
  },
  {
   "cell_type": "markdown",
   "id": "7efa9c5c",
   "metadata": {},
   "source": [
    "### PREPROCESS DATA"
   ]
  },
  {
   "cell_type": "code",
   "execution_count": null,
   "id": "7d08902d",
   "metadata": {},
   "outputs": [],
   "source": [
    "train_data_btc = create_all_features(df=df_train_btc, token=\"btc\", target_type=\"pct\", tp=2, sl=0.8, max_bars=60*6, atr_period=60*6)\n",
    "val_data_btc = create_all_features(df=df_val_btc, token=\"btc\", target_type=\"pct\", tp=2, sl=0.8, max_bars=60*6, atr_period=60*6)\n",
    "test_data_btc = create_all_features(df=df_test_btc, token=\"btc\", target_type=\"pct\", tp=2, sl=0.8, max_bars=60*6, atr_period=60*6)\n",
    "\n",
    "train_data_trx = create_all_features(df=df_train_trx, token=\"trx\", target_type=\"pct\", tp=2, sl=0.8, max_bars=60*6, atr_period=60*6)\n",
    "val_data_trx = create_all_features(df=df_val_trx, token=\"trx\", target_type=\"pct\", tp=2, sl=0.8, max_bars=60*6, atr_period=60*6)\n",
    "test_data_trx = create_all_features(df=df_test_trx, token=\"trx\", target_type=\"pct\", tp=2, sl=0.8, max_bars=60*6, atr_period=60*6)"
   ]
  },
  {
   "cell_type": "code",
   "execution_count": null,
   "id": "f525f07c",
   "metadata": {},
   "outputs": [],
   "source": [
    "train_data = create_merged_feature(\n",
    "    main_feature_df=df_train_trx,\n",
    "    complementry_data_df=df_train_btc,\n",
    "    main_token_name=\"trx\",\n",
    "    complementry_token_name=\"btc\",\n",
    "    target_type=\"pct\",\n",
    "    tp=2,\n",
    "    sl=0.8,\n",
    "    max_bars=60 * 6,\n",
    "    atr_period=60 * 6,\n",
    ")\n",
    "\n",
    "val_data = create_merged_feature(\n",
    "    main_feature_df=df_val_trx,\n",
    "    complementry_data_df=df_val_btc,\n",
    "    main_token_name=\"trx\",\n",
    "    complementry_token_name=\"btc\",\n",
    "    target_type=\"pct\",\n",
    "    tp=2,\n",
    "    sl=0.8,\n",
    "    max_bars=60 * 6,\n",
    "    atr_period=60 * 6,\n",
    ")\n",
    "\n",
    "test_data = create_merged_feature(\n",
    "    main_feature_df=df_test_trx,\n",
    "    complementry_data_df=df_test_btc,\n",
    "    main_token_name=\"trx\",\n",
    "    complementry_token_name=\"btc\",\n",
    "    target_type=\"pct\",\n",
    "    tp=2,\n",
    "    sl=0.8,\n",
    "    max_bars=60 * 6,\n",
    "    atr_period=60 * 6,\n",
    ")"
   ]
  },
  {
   "cell_type": "code",
   "execution_count": null,
   "id": "692b8b16",
   "metadata": {},
   "outputs": [],
   "source": [
    "target_y = \"y_combined_1h_2h_4h\"\n",
    "target_x = \"X_combined_1h_2h_4h\""
   ]
  },
  {
   "cell_type": "markdown",
   "id": "f89d376d",
   "metadata": {},
   "source": [
    "### DEFINE MODEL"
   ]
  },
  {
   "cell_type": "code",
   "execution_count": null,
   "id": "585a8f11",
   "metadata": {},
   "outputs": [],
   "source": [
    "def get_model(input_shape, num_classes=3):\n",
    "    inputs = layers.Input(shape=input_shape, name=\"features\")\n",
    "    x = layers.BatchNormalization(name=\"batchnorm_input\")(inputs)\n",
    "    x = layers.Dense(\n",
    "        128, activation=\"relu\", kernel_regularizer=regularizers.l2(1e-4), name=\"dense_1\"\n",
    "    )(x)\n",
    "    x = layers.Dropout(0.3, name=\"dropout_1\")(x)\n",
    "    x = layers.Dense(\n",
    "        64, activation=\"relu\", kernel_regularizer=regularizers.l2(1e-4), name=\"dense_2\"\n",
    "    )(x)\n",
    "    x = layers.Dropout(0.3, name=\"dropout_2\")(x)\n",
    "    x = layers.Dense(\n",
    "        32, activation=\"relu\", kernel_regularizer=regularizers.l2(1e-4), name=\"dense_3\"\n",
    "    )(x)\n",
    "    x = layers.Dropout(0.2, name=\"dropout_3\")(x)\n",
    "    outputs = layers.Dense(num_classes, activation=\"softmax\", name=\"output\")(x)\n",
    "    model = models.Model(inputs=inputs, outputs=outputs, name=\"mlp_3class\")\n",
    "    model.compile(\n",
    "        optimizer=optimizers.Adam(learning_rate=0.003),\n",
    "        loss=\"categorical_crossentropy\",\n",
    "        metrics=[\"accuracy\"],\n",
    "    )\n",
    "    return model"
   ]
  },
  {
   "cell_type": "code",
   "execution_count": null,
   "id": "94b29b25",
   "metadata": {},
   "outputs": [],
   "source": [
    "def create_model():\n",
    "    return get_model(input_shape=(250,), num_classes=3)\n",
    "\n",
    "clf = KerasClassifier(\n",
    "    model=create_model,\n",
    "    optimizer=\"adam\",\n",
    "    loss=\"categorical_crossentropy\",\n",
    "    metrics=[\"precision\"],\n",
    "    epochs=50,\n",
    "    batch_size=32,\n",
    "    verbose=0,\n",
    ")\n",
    "\n",
    "nn_pipeline = Pipeline([\n",
    "    ('pca', PCA(n_components=250)),\n",
    "    ('clf', clf),\n",
    "])\n",
    "\n",
    "nn_trx = get_model(input_shape=(train_data_btc[target_x].shape[1],), num_classes=3)\n",
    "nn_btc = get_model(input_shape=(train_data_btc[target_x].shape[1],), num_classes=3)\n",
    "\n",
    "es = EarlyStopping(\n",
    "    monitor=\"val_loss\",\n",
    "    patience=5,\n",
    "    restore_best_weights=True\n",
    ")\n"
   ]
  },
  {
   "cell_type": "markdown",
   "id": "d1e36ea4",
   "metadata": {},
   "source": [
    "### TRAIN MODEL ( EXPERIMENT )"
   ]
  },
  {
   "cell_type": "code",
   "execution_count": null,
   "id": "0308e321",
   "metadata": {},
   "outputs": [
    {
     "data": {
      "text/plain": [
       "0.6661175178473366"
      ]
     },
     "execution_count": 209,
     "metadata": {},
     "output_type": "execute_result"
    }
   ],
   "source": [
    "nn_pipeline.fit(\n",
    "    train_data[target_x],\n",
    "    train_data[target_y],\n",
    ")\n",
    "nn_pipeline.score(val_data[target_x], val_data[target_y])"
   ]
  },
  {
   "cell_type": "code",
   "execution_count": null,
   "id": "bc17e328",
   "metadata": {},
   "outputs": [
    {
     "name": "stdout",
     "output_type": "stream",
     "text": [
      "\u001b[1m57/57\u001b[0m \u001b[32m━━━━━━━━━━━━━━━━━━━━\u001b[0m\u001b[37m\u001b[0m \u001b[1m0s\u001b[0m 2ms/step - accuracy: 0.8742 - loss: 0.5659 \n"
     ]
    },
    {
     "data": {
      "text/plain": [
       "[1.091492772102356, 0.7924217581748962]"
      ]
     },
     "execution_count": 210,
     "metadata": {},
     "output_type": "execute_result"
    }
   ],
   "source": [
    "X_train = train_data_btc[target_x].values\n",
    "y_int = train_data_btc[target_y].values.reshape(-1)\n",
    "y_ohe = to_categorical(y_int, num_classes=3)\n",
    "\n",
    "nn_btc.fit(\n",
    "    X_train,\n",
    "    y_ohe,\n",
    "    epochs=25,\n",
    "    batch_size=32,\n",
    "    verbose=0,\n",
    "    callbacks=[es],\n",
    "    class_weight=CLASS_WEIGHT,\n",
    ")\n",
    "\n",
    "y_int_val = val_data_btc[target_y].values.reshape(-1)\n",
    "y_ohe_val = to_categorical(y_int_val, num_classes=3)\n",
    "print(nn_btc.evaluate(val_data_btc[target_x], y_ohe_val))\n",
    "\n",
    "y_int_test = test_data_btc[target_y].values.reshape(-1)\n",
    "y_ohe_test = to_categorical(y_int_test, num_classes=3)\n",
    "print(nn_btc.evaluate(test_data_btc[target_x], y_ohe_test))"
   ]
  },
  {
   "cell_type": "code",
   "execution_count": null,
   "id": "2de688f7",
   "metadata": {},
   "outputs": [
    {
     "name": "stdout",
     "output_type": "stream",
     "text": [
      "\u001b[1m57/57\u001b[0m \u001b[32m━━━━━━━━━━━━━━━━━━━━\u001b[0m\u001b[37m\u001b[0m \u001b[1m0s\u001b[0m 2ms/step - accuracy: 0.7132 - loss: 0.8610 \n"
     ]
    },
    {
     "data": {
      "text/plain": [
       "[1.147325873374939, 0.6507413387298584]"
      ]
     },
     "execution_count": 211,
     "metadata": {},
     "output_type": "execute_result"
    }
   ],
   "source": [
    "X_train = train_data_trx[target_x].values\n",
    "y_int = train_data_trx[target_y].values.reshape(-1)\n",
    "y_ohe = to_categorical(y_int, num_classes=3)\n",
    "\n",
    "nn_trx.fit(\n",
    "    X_train,\n",
    "    y_ohe,\n",
    "    epochs=25,\n",
    "    batch_size=32,\n",
    "    verbose=0,\n",
    "    callbacks=[es],\n",
    "    class_weight=CLASS_WEIGHT,\n",
    ")\n",
    "\n",
    "y_int_val = val_data_trx[target_y].values.reshape(-1)\n",
    "y_ohe_val = to_categorical(y_int_val, num_classes=3)\n",
    "print(nn_trx.evaluate(val_data_trx[target_x], y_ohe_val))\n",
    "\n",
    "y_int_test = test_data_trx[target_y].values.reshape(-1)\n",
    "y_ohe_test = to_categorical(y_int_test, num_classes=3)\n",
    "print(nn_trx.evaluate(test_data_trx[target_x], y_ohe_test))"
   ]
  },
  {
   "cell_type": "markdown",
   "id": "3100d538",
   "metadata": {},
   "source": [
    "### EVALUATION"
   ]
  },
  {
   "cell_type": "markdown",
   "id": "de5a4a2e",
   "metadata": {},
   "source": [
    "##### GROUPED FEATURE MODEL"
   ]
  },
  {
   "cell_type": "code",
   "execution_count": null,
   "id": "2b9594de",
   "metadata": {},
   "outputs": [
    {
     "name": "stdout",
     "output_type": "stream",
     "text": [
      "MINIMUM PRECISION TO BREAK EVEN (BEFORE FEES) - 0.27586206896551724\n"
     ]
    }
   ],
   "source": [
    "break_even_precision = 1/(1+(TAKE_PROFIT/STOP_LOSS))\n",
    "print(f\"MINIMUM PRECISION TO BREAK EVEN (BEFORE FEES) - {break_even_precision}\")"
   ]
  },
  {
   "cell_type": "code",
   "execution_count": null,
   "id": "f9be4b5d",
   "metadata": {},
   "outputs": [
    {
     "name": "stdout",
     "output_type": "stream",
     "text": [
      "|   class |    BTC_precision       |\n",
      "|---------|------------------------|\n",
      "|       1 | 0.09 (33 | 208 | 1344) |\n",
      "|       2 | 0.26 (38 | 269 | 1344) |\n",
      "Prediction time - 0.05\n",
      "Start Date => 2025-02-15 00:30:00+00:00, End Date => 2025-03-15 00:00:00+00:00\n",
      "\n",
      "overall winrate => 0.19718309859154928\n",
      "long winrate    => 0.12121212121212122\n",
      "short winrate    => 0.2631578947368421\n",
      "\n"
     ]
    },
    {
     "data": {
      "application/vnd.microsoft.datawrangler.viewer.v0+json": {
       "columns": [
        {
         "name": "index",
         "rawType": "object",
         "type": "string"
        },
        {
         "name": "group",
         "rawType": "object",
         "type": "unknown"
        }
       ],
       "ref": "745c7481-75d3-452f-8916-b188e9dc8ff5",
       "rows": [
        [
         "Start",
         "2025-02-15 00:01:00+00:00"
        ],
        [
         "End",
         "2025-03-15 00:00:00+00:00"
        ],
        [
         "Period",
         "28 days 00:00:00"
        ],
        [
         "Start Value",
         "100.0"
        ],
        [
         "End Value",
         "99.7675381045777"
        ],
        [
         "Total Return [%]",
         "-0.23246189542230922"
        ],
        [
         "Benchmark Return [%]",
         "-29.810889977022615"
        ],
        [
         "Max Gross Exposure [%]",
         "1.0204482021573935"
        ],
        [
         "Total Fees Paid",
         "0.043976039085245784"
        ],
        [
         "Max Drawdown [%]",
         "0.2332070860447408"
        ],
        [
         "Max Drawdown Duration",
         "25 days 10:55:00"
        ],
        [
         "Total Trades",
         "44"
        ],
        [
         "Total Closed Trades",
         "44"
        ],
        [
         "Total Open Trades",
         "0"
        ],
        [
         "Open Trade PnL",
         "0.0"
        ],
        [
         "Win Rate [%]",
         "15.909090909090908"
        ],
        [
         "Best Trade [%]",
         "2.0203863904036288"
        ],
        [
         "Worst Trade [%]",
         "-1.441064316934183"
        ],
        [
         "Avg Winning Trade [%]",
         "1.904449923380578"
        ],
        [
         "Avg Losing Trade [%]",
         "-0.9885508975127766"
        ],
        [
         "Avg Winning Trade Duration",
         "0 days 01:50:42.857142857"
        ],
        [
         "Avg Losing Trade Duration",
         "0 days 02:01:25.945945945"
        ],
        [
         "Profit Factor",
         "0.36445937613899526"
        ],
        [
         "Expectancy",
         "-0.0052832248959615805"
        ],
        [
         "Sharpe Ratio",
         "-10.555387077654567"
        ],
        [
         "Calmar Ratio",
         "-12.813828496160497"
        ],
        [
         "Omega Ratio",
         "0.890152107422497"
        ],
        [
         "Sortino Ratio",
         "-14.170904298347628"
        ]
       ],
       "shape": {
        "columns": 1,
        "rows": 28
       }
      },
      "text/plain": [
       "Start                         2025-02-15 00:01:00+00:00\n",
       "End                           2025-03-15 00:00:00+00:00\n",
       "Period                                 28 days 00:00:00\n",
       "Start Value                                       100.0\n",
       "End Value                                     99.767538\n",
       "Total Return [%]                              -0.232462\n",
       "Benchmark Return [%]                          -29.81089\n",
       "Max Gross Exposure [%]                         1.020448\n",
       "Total Fees Paid                                0.043976\n",
       "Max Drawdown [%]                               0.233207\n",
       "Max Drawdown Duration                  25 days 10:55:00\n",
       "Total Trades                                         44\n",
       "Total Closed Trades                                  44\n",
       "Total Open Trades                                     0\n",
       "Open Trade PnL                                      0.0\n",
       "Win Rate [%]                                  15.909091\n",
       "Best Trade [%]                                 2.020386\n",
       "Worst Trade [%]                               -1.441064\n",
       "Avg Winning Trade [%]                           1.90445\n",
       "Avg Losing Trade [%]                          -0.988551\n",
       "Avg Winning Trade Duration    0 days 01:50:42.857142857\n",
       "Avg Losing Trade Duration     0 days 02:01:25.945945945\n",
       "Profit Factor                                  0.364459\n",
       "Expectancy                                    -0.005283\n",
       "Sharpe Ratio                                 -10.555387\n",
       "Calmar Ratio                                 -12.813828\n",
       "Omega Ratio                                    0.890152\n",
       "Sortino Ratio                                -14.170904\n",
       "Name: group, dtype: object"
      ]
     },
     "execution_count": 213,
     "metadata": {},
     "output_type": "execute_result"
    }
   ],
   "source": [
    "position_val_backtest, vectorbt_val_backtest = evaluate_token_strategy(\n",
    "    model=nn_pipeline,\n",
    "    data=val_data,\n",
    "    data_1m=df_val_trx,\n",
    "    target_x=target_x,\n",
    "    target_y=target_y,\n",
    "    val_end_date=TRAIN_END_DATE,\n",
    "    token_name=\"TRX\",\n",
    "    classes=(1,2),\n",
    "    long_proba=LONG_PROBA,\n",
    "    short_proba=SHORT_PROBA,\n",
    "    trade_size=1,\n",
    "    use_proba=True,\n",
    "    atr_target=False,\n",
    "    tp = TAKE_PROFIT,\n",
    "    sl = STOP_LOSS,\n",
    "    atr_period = 60 * 5,\n",
    "    tp_pct = TAKE_PROFIT_PCT,\n",
    "    sl_pct = STOP_LOSS_PCT,\n",
    "    nn = False\n",
    ")\n",
    "\n",
    "overall_winrate = position_val_backtest['metrics']['overall']['trade_metrics']['win_rate']\n",
    "long_win_rate = position_val_backtest['metrics']['long']['trade_metrics']['win_rate']\n",
    "short_win_rate = position_val_backtest['metrics']['short']['trade_metrics']['win_rate']\n",
    "\n",
    "print(f\"\"\"\n",
    "overall winrate => {overall_winrate}\n",
    "long winrate    => {long_win_rate}\n",
    "short winrate    => {short_win_rate}\n",
    "\"\"\")\n",
    "\n",
    "vectorbt_val_backtest.stats()"
   ]
  },
  {
   "cell_type": "code",
   "execution_count": null,
   "id": "04fb70cc",
   "metadata": {},
   "outputs": [
    {
     "name": "stdout",
     "output_type": "stream",
     "text": [
      "|   class |    BTC_precision        |\n",
      "|---------|-------------------------|\n",
      "|       1 | 0.12 (52 | 633 | 4176)  |\n",
      "|       2 | 0.10 (159 | 542 | 4176) |\n",
      "Prediction time - 0.05\n",
      "Start Date => 2025-03-15 00:30:00+00:00, End Date => 2025-06-10 00:00:00+00:00\n",
      "\n",
      "overall winrate => 0.24170616113744076\n",
      "long winrate    => 0.19230769230769232\n",
      "short winrate    => 0.2578616352201258\n",
      "\n"
     ]
    },
    {
     "data": {
      "application/vnd.microsoft.datawrangler.viewer.v0+json": {
       "columns": [
        {
         "name": "index",
         "rawType": "object",
         "type": "string"
        },
        {
         "name": "group",
         "rawType": "object",
         "type": "unknown"
        }
       ],
       "ref": "a69b871e-7a12-4032-b1d4-8d72313c4ad1",
       "rows": [
        [
         "Start",
         "2025-03-15 00:01:00+00:00"
        ],
        [
         "End",
         "2025-06-10 00:00:00+00:00"
        ],
        [
         "Period",
         "87 days 00:00:00"
        ],
        [
         "Start Value",
         "100.0"
        ],
        [
         "End Value",
         "99.60941317443775"
        ],
        [
         "Total Return [%]",
         "-0.39058682556225865"
        ],
        [
         "Benchmark Return [%]",
         "40.36923979119733"
        ],
        [
         "Max Gross Exposure [%]",
         "1.0226571449844486"
        ],
        [
         "Total Fees Paid",
         "0.11310354587669098"
        ],
        [
         "Max Drawdown [%]",
         "0.43309375047822385"
        ],
        [
         "Max Drawdown Duration",
         "79 days 00:22:00"
        ],
        [
         "Total Trades",
         "113"
        ],
        [
         "Total Closed Trades",
         "113"
        ],
        [
         "Total Open Trades",
         "0"
        ],
        [
         "Open Trade PnL",
         "0.0"
        ],
        [
         "Win Rate [%]",
         "22.123893805309734"
        ],
        [
         "Best Trade [%]",
         "2.5456380858261314"
        ],
        [
         "Worst Trade [%]",
         "-1.6023329375074786"
        ],
        [
         "Avg Winning Trade [%]",
         "1.9139730974957958"
        ],
        [
         "Avg Losing Trade [%]",
         "-0.9876511785690936"
        ],
        [
         "Avg Winning Trade Duration",
         "0 days 07:16:57.600000"
        ],
        [
         "Avg Losing Trade Duration",
         "0 days 02:31:06.818181818"
        ],
        [
         "Profit Factor",
         "0.5505643249670409"
        ],
        [
         "Expectancy",
         "-0.0034565205801969767"
        ],
        [
         "Sharpe Ratio",
         "-6.066012187943019"
        ],
        [
         "Calmar Ratio",
         "-3.7600914192414097"
        ],
        [
         "Omega Ratio",
         "0.9449322895640367"
        ],
        [
         "Sortino Ratio",
         "-8.275206120643476"
        ]
       ],
       "shape": {
        "columns": 1,
        "rows": 28
       }
      },
      "text/plain": [
       "Start                         2025-03-15 00:01:00+00:00\n",
       "End                           2025-06-10 00:00:00+00:00\n",
       "Period                                 87 days 00:00:00\n",
       "Start Value                                       100.0\n",
       "End Value                                     99.609413\n",
       "Total Return [%]                              -0.390587\n",
       "Benchmark Return [%]                           40.36924\n",
       "Max Gross Exposure [%]                         1.022657\n",
       "Total Fees Paid                                0.113104\n",
       "Max Drawdown [%]                               0.433094\n",
       "Max Drawdown Duration                  79 days 00:22:00\n",
       "Total Trades                                        113\n",
       "Total Closed Trades                                 113\n",
       "Total Open Trades                                     0\n",
       "Open Trade PnL                                      0.0\n",
       "Win Rate [%]                                  22.123894\n",
       "Best Trade [%]                                 2.545638\n",
       "Worst Trade [%]                               -1.602333\n",
       "Avg Winning Trade [%]                          1.913973\n",
       "Avg Losing Trade [%]                          -0.987651\n",
       "Avg Winning Trade Duration       0 days 07:16:57.600000\n",
       "Avg Losing Trade Duration     0 days 02:31:06.818181818\n",
       "Profit Factor                                  0.550564\n",
       "Expectancy                                    -0.003457\n",
       "Sharpe Ratio                                  -6.066012\n",
       "Calmar Ratio                                  -3.760091\n",
       "Omega Ratio                                    0.944932\n",
       "Sortino Ratio                                 -8.275206\n",
       "Name: group, dtype: object"
      ]
     },
     "execution_count": 214,
     "metadata": {},
     "output_type": "execute_result"
    }
   ],
   "source": [
    "position_test_backtest, vectorbt_test_backtest = evaluate_token_strategy(\n",
    "    model=nn_pipeline,\n",
    "    data=test_data,\n",
    "    data_1m=df_test_trx,\n",
    "    target_x=target_x,\n",
    "    target_y=target_y,\n",
    "    val_end_date=VAL_END_DATE,\n",
    "    token_name=\"TRX\",\n",
    "    classes=(1,2),\n",
    "    long_proba=LONG_PROBA,\n",
    "    short_proba=SHORT_PROBA,\n",
    "    trade_size=1,\n",
    "    use_proba=True,\n",
    "    atr_target=False,\n",
    "    tp = TAKE_PROFIT,\n",
    "    sl = STOP_LOSS,\n",
    "    atr_period = 60 * 5,\n",
    "    tp_pct = TAKE_PROFIT_PCT,\n",
    "    sl_pct = STOP_LOSS_PCT,\n",
    "    nn = False\n",
    ")\n",
    "\n",
    "overall_winrate = position_test_backtest['metrics']['overall']['trade_metrics']['win_rate']\n",
    "long_win_rate = position_test_backtest['metrics']['long']['trade_metrics']['win_rate']\n",
    "short_win_rate = position_test_backtest['metrics']['short']['trade_metrics']['win_rate']\n",
    "print(f\"\"\"\n",
    "overall winrate => {overall_winrate}\n",
    "long winrate    => {long_win_rate}\n",
    "short winrate    => {short_win_rate}\n",
    "\"\"\")\n",
    "\n",
    "vectorbt_test_backtest.stats()"
   ]
  },
  {
   "cell_type": "markdown",
   "id": "d04f8921",
   "metadata": {},
   "source": [
    "##### INDIVIDUAL FEATURE MODEL"
   ]
  },
  {
   "cell_type": "code",
   "execution_count": null,
   "id": "66453ed6",
   "metadata": {},
   "outputs": [
    {
     "name": "stdout",
     "output_type": "stream",
     "text": [
      "\u001b[1m42/42\u001b[0m \u001b[32m━━━━━━━━━━━━━━━━━━━━\u001b[0m\u001b[37m\u001b[0m \u001b[1m0s\u001b[0m 1ms/step \n",
      "|   class |    BTC_precision       |\n",
      "|---------|------------------------|\n",
      "|       1 | 0.00 (3 | 208 | 1344)  |\n",
      "|       2 | 0.33 (3 | 269 | 1344)  |\n",
      "Prediction time - 0.00\n",
      "Start Date => 2025-02-15 00:30:00+00:00, End Date => 2025-03-15 00:00:00+00:00\n",
      "\u001b[1m42/42\u001b[0m \u001b[32m━━━━━━━━━━━━━━━━━━━━\u001b[0m\u001b[37m\u001b[0m \u001b[1m0s\u001b[0m 1ms/step \n",
      "\n",
      "overall winrate => 0.16666666666666666\n",
      "long winrate    => 0.0\n",
      "short winrate    => 0.3333333333333333\n",
      "\n"
     ]
    },
    {
     "data": {
      "application/vnd.microsoft.datawrangler.viewer.v0+json": {
       "columns": [
        {
         "name": "index",
         "rawType": "object",
         "type": "string"
        },
        {
         "name": "group",
         "rawType": "object",
         "type": "unknown"
        }
       ],
       "ref": "817cee5b-0a79-44f1-8bbb-36e294b393bf",
       "rows": [
        [
         "Start",
         "2025-02-15 00:01:00+00:00"
        ],
        [
         "End",
         "2025-03-15 00:00:00+00:00"
        ],
        [
         "Period",
         "28 days 00:00:00"
        ],
        [
         "Start Value",
         "100.0"
        ],
        [
         "End Value",
         "99.97948067338673"
        ],
        [
         "Total Return [%]",
         "-0.02051932661326672"
        ],
        [
         "Benchmark Return [%]",
         "-29.810889977022615"
        ],
        [
         "Max Gross Exposure [%]",
         "1.0045692737887564"
        ],
        [
         "Total Fees Paid",
         "0.0049893397559311724"
        ],
        [
         "Max Drawdown [%]",
         "0.02855742319635609"
        ],
        [
         "Max Drawdown Duration",
         "24 days 17:53:00"
        ],
        [
         "Total Trades",
         "5"
        ],
        [
         "Total Closed Trades",
         "5"
        ],
        [
         "Total Open Trades",
         "0"
        ],
        [
         "Open Trade PnL",
         "0.0"
        ],
        [
         "Win Rate [%]",
         "20.0"
        ],
        [
         "Best Trade [%]",
         "1.7503520243940738"
        ],
        [
         "Worst Trade [%]",
         "-1.1572607317337962"
        ],
        [
         "Avg Winning Trade [%]",
         "1.7503520243940738"
        ],
        [
         "Avg Losing Trade [%]",
         "-0.9504716233298094"
        ],
        [
         "Avg Winning Trade Duration",
         "0 days 01:21:00"
        ],
        [
         "Avg Losing Trade Duration",
         "0 days 01:19:00"
        ],
        [
         "Profit Factor",
         "0.46029249081228724"
        ],
        [
         "Expectancy",
         "-0.0041038653226533415"
        ],
        [
         "Sharpe Ratio",
         "-3.275094941269112"
        ],
        [
         "Calmar Ratio",
         "-9.354976837970993"
        ],
        [
         "Omega Ratio",
         "0.8862286948981022"
        ],
        [
         "Sortino Ratio",
         "-4.489204710982625"
        ]
       ],
       "shape": {
        "columns": 1,
        "rows": 28
       }
      },
      "text/plain": [
       "Start                         2025-02-15 00:01:00+00:00\n",
       "End                           2025-03-15 00:00:00+00:00\n",
       "Period                                 28 days 00:00:00\n",
       "Start Value                                       100.0\n",
       "End Value                                     99.979481\n",
       "Total Return [%]                              -0.020519\n",
       "Benchmark Return [%]                          -29.81089\n",
       "Max Gross Exposure [%]                         1.004569\n",
       "Total Fees Paid                                0.004989\n",
       "Max Drawdown [%]                               0.028557\n",
       "Max Drawdown Duration                  24 days 17:53:00\n",
       "Total Trades                                          5\n",
       "Total Closed Trades                                   5\n",
       "Total Open Trades                                     0\n",
       "Open Trade PnL                                      0.0\n",
       "Win Rate [%]                                       20.0\n",
       "Best Trade [%]                                 1.750352\n",
       "Worst Trade [%]                               -1.157261\n",
       "Avg Winning Trade [%]                          1.750352\n",
       "Avg Losing Trade [%]                          -0.950472\n",
       "Avg Winning Trade Duration              0 days 01:21:00\n",
       "Avg Losing Trade Duration               0 days 01:19:00\n",
       "Profit Factor                                  0.460292\n",
       "Expectancy                                    -0.004104\n",
       "Sharpe Ratio                                  -3.275095\n",
       "Calmar Ratio                                  -9.354977\n",
       "Omega Ratio                                    0.886229\n",
       "Sortino Ratio                                 -4.489205\n",
       "Name: group, dtype: object"
      ]
     },
     "execution_count": 215,
     "metadata": {},
     "output_type": "execute_result"
    }
   ],
   "source": [
    "position_val_backtest, vectorbt_val_backtest = evaluate_token_strategy(\n",
    "    model=nn_trx,\n",
    "    data=val_data_trx,\n",
    "    data_1m=df_val_trx,\n",
    "    target_x=target_x,\n",
    "    target_y=target_y,\n",
    "    val_end_date=TRAIN_END_DATE,\n",
    "    token_name=\"TRX\",\n",
    "    classes=(1,2),\n",
    "    long_proba=LONG_PROBA,\n",
    "    short_proba=SHORT_PROBA,\n",
    "    trade_size=1,\n",
    "    use_proba=True,\n",
    "    atr_target=False,\n",
    "    tp = TAKE_PROFIT,\n",
    "    sl = STOP_LOSS,\n",
    "    atr_period = 60 * 5,\n",
    "    tp_pct = TAKE_PROFIT_PCT,\n",
    "    sl_pct = STOP_LOSS_PCT,\n",
    "    nn = True\n",
    ")\n",
    "\n",
    "overall_winrate = position_val_backtest['metrics']['overall']['trade_metrics']['win_rate']\n",
    "long_win_rate = position_val_backtest['metrics']['long']['trade_metrics']['win_rate']\n",
    "short_win_rate = position_val_backtest['metrics']['short']['trade_metrics']['win_rate']\n",
    "\n",
    "print(f\"\"\"\n",
    "overall winrate => {overall_winrate}\n",
    "long winrate    => {long_win_rate}\n",
    "short winrate    => {short_win_rate}\n",
    "\"\"\")\n",
    "\n",
    "vectorbt_val_backtest.stats()"
   ]
  },
  {
   "cell_type": "code",
   "execution_count": null,
   "id": "902779f0",
   "metadata": {},
   "outputs": [
    {
     "name": "stdout",
     "output_type": "stream",
     "text": [
      "\u001b[1m131/131\u001b[0m \u001b[32m━━━━━━━━━━━━━━━━━━━━\u001b[0m\u001b[37m\u001b[0m \u001b[1m0s\u001b[0m 2ms/step\n",
      "|   class |    BTC_precision       |\n",
      "|---------|------------------------|\n",
      "|       1 | 0.25 (4 | 633 | 4176)  |\n",
      "|       2 | 0.00 (11 | 542 | 4176) |\n",
      "Prediction time - 0.00\n",
      "Start Date => 2025-03-15 00:30:00+00:00, End Date => 2025-06-10 00:00:00+00:00\n",
      "\u001b[1m131/131\u001b[0m \u001b[32m━━━━━━━━━━━━━━━━━━━━\u001b[0m\u001b[37m\u001b[0m \u001b[1m0s\u001b[0m 1ms/step  \n",
      "\n",
      "overall winrate => 0.06666666666666667\n",
      "long winrate    => 0.25\n",
      "short winrate    => 0.0\n",
      "\n"
     ]
    },
    {
     "data": {
      "application/vnd.microsoft.datawrangler.viewer.v0+json": {
       "columns": [
        {
         "name": "index",
         "rawType": "object",
         "type": "string"
        },
        {
         "name": "group",
         "rawType": "object",
         "type": "unknown"
        }
       ],
       "ref": "d6b3fca1-99a8-4dd3-b8bb-b54395078458",
       "rows": [
        [
         "Start",
         "2025-03-15 00:01:00+00:00"
        ],
        [
         "End",
         "2025-06-10 00:00:00+00:00"
        ],
        [
         "Period",
         "87 days 00:00:00"
        ],
        [
         "Start Value",
         "100.0"
        ],
        [
         "End Value",
         "99.94215979172304"
        ],
        [
         "Total Return [%]",
         "-0.05784020827696024"
        ],
        [
         "Benchmark Return [%]",
         "40.36923979119733"
        ],
        [
         "Max Gross Exposure [%]",
         "1.0208003563831294"
        ],
        [
         "Total Fees Paid",
         "0.00801779294466848"
        ],
        [
         "Max Drawdown [%]",
         "0.061358528763477055"
        ],
        [
         "Max Drawdown Duration",
         "80 days 08:45:00"
        ],
        [
         "Total Trades",
         "8"
        ],
        [
         "Total Closed Trades",
         "8"
        ],
        [
         "Total Open Trades",
         "0"
        ],
        [
         "Open Trade PnL",
         "0.0"
        ],
        [
         "Win Rate [%]",
         "12.5"
        ],
        [
         "Best Trade [%]",
         "1.8566589125476811"
        ],
        [
         "Worst Trade [%]",
         "-1.8335473314595891"
        ],
        [
         "Avg Winning Trade [%]",
         "1.8566589125476811"
        ],
        [
         "Avg Losing Trade [%]",
         "-1.0916354508065944"
        ],
        [
         "Avg Winning Trade Duration",
         "0 days 01:03:00"
        ],
        [
         "Avg Losing Trade Duration",
         "0 days 02:47:17.142857142"
        ],
        [
         "Profit Factor",
         "0.24303335062485773"
        ],
        [
         "Expectancy",
         "-0.007230026034620023"
        ],
        [
         "Sharpe Ratio",
         "-3.7988527141946693"
        ],
        [
         "Calmar Ratio",
         "-3.951183224498874"
        ],
        [
         "Omega Ratio",
         "0.8536767414311758"
        ],
        [
         "Sortino Ratio",
         "-4.733818228430603"
        ]
       ],
       "shape": {
        "columns": 1,
        "rows": 28
       }
      },
      "text/plain": [
       "Start                         2025-03-15 00:01:00+00:00\n",
       "End                           2025-06-10 00:00:00+00:00\n",
       "Period                                 87 days 00:00:00\n",
       "Start Value                                       100.0\n",
       "End Value                                      99.94216\n",
       "Total Return [%]                               -0.05784\n",
       "Benchmark Return [%]                           40.36924\n",
       "Max Gross Exposure [%]                           1.0208\n",
       "Total Fees Paid                                0.008018\n",
       "Max Drawdown [%]                               0.061359\n",
       "Max Drawdown Duration                  80 days 08:45:00\n",
       "Total Trades                                          8\n",
       "Total Closed Trades                                   8\n",
       "Total Open Trades                                     0\n",
       "Open Trade PnL                                      0.0\n",
       "Win Rate [%]                                       12.5\n",
       "Best Trade [%]                                 1.856659\n",
       "Worst Trade [%]                               -1.833547\n",
       "Avg Winning Trade [%]                          1.856659\n",
       "Avg Losing Trade [%]                          -1.091635\n",
       "Avg Winning Trade Duration              0 days 01:03:00\n",
       "Avg Losing Trade Duration     0 days 02:47:17.142857142\n",
       "Profit Factor                                  0.243033\n",
       "Expectancy                                     -0.00723\n",
       "Sharpe Ratio                                  -3.798853\n",
       "Calmar Ratio                                  -3.951183\n",
       "Omega Ratio                                    0.853677\n",
       "Sortino Ratio                                 -4.733818\n",
       "Name: group, dtype: object"
      ]
     },
     "execution_count": 216,
     "metadata": {},
     "output_type": "execute_result"
    }
   ],
   "source": [
    "position_test_backtest, vectorbt_test_backtest = evaluate_token_strategy(\n",
    "    model=nn_trx,\n",
    "    data=test_data_trx,\n",
    "    data_1m=df_test_trx,\n",
    "    target_x=target_x,\n",
    "    target_y=target_y,\n",
    "    val_end_date=VAL_END_DATE,\n",
    "    token_name=\"TRX\",\n",
    "    classes=(1,2),\n",
    "    long_proba=LONG_PROBA,\n",
    "    short_proba=SHORT_PROBA,\n",
    "    trade_size=1,\n",
    "    use_proba=True,\n",
    "    atr_target=False,\n",
    "    tp = TAKE_PROFIT,\n",
    "    sl = STOP_LOSS,\n",
    "    atr_period = 60 * 5,\n",
    "    tp_pct = TAKE_PROFIT_PCT,\n",
    "    sl_pct = STOP_LOSS_PCT,\n",
    "    nn = True\n",
    ")\n",
    "\n",
    "overall_winrate = position_test_backtest['metrics']['overall']['trade_metrics']['win_rate']\n",
    "long_win_rate = position_test_backtest['metrics']['long']['trade_metrics']['win_rate']\n",
    "short_win_rate = position_test_backtest['metrics']['short']['trade_metrics']['win_rate']\n",
    "print(f\"\"\"\n",
    "overall winrate => {overall_winrate}\n",
    "long winrate    => {long_win_rate}\n",
    "short winrate    => {short_win_rate}\n",
    "\"\"\")\n",
    "\n",
    "vectorbt_test_backtest.stats()"
   ]
  },
  {
   "cell_type": "code",
   "execution_count": null,
   "id": "58789a5f",
   "metadata": {},
   "outputs": [],
   "source": []
  }
 ],
 "metadata": {
  "kernelspec": {
   "display_name": "forecast-v2",
   "language": "python",
   "name": "python3"
  },
  "language_info": {
   "codemirror_mode": {
    "name": "ipython",
    "version": 3
   },
   "file_extension": ".py",
   "mimetype": "text/x-python",
   "name": "python",
   "nbconvert_exporter": "python",
   "pygments_lexer": "ipython3",
   "version": "3.12.11"
  }
 },
 "nbformat": 4,
 "nbformat_minor": 5
}
